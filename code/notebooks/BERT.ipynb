{
 "cells": [
  {
   "cell_type": "code",
   "execution_count": null,
   "metadata": {},
   "outputs": [],
   "source": [
    "# imports\n",
    "from sklearn.metrics.pairwise import cosine_similarity\n",
    "from sentence_transformers import SentenceTransformer\n",
    "import torch\n",
    "import pandas as pd\n",
    "import numpy as np\n",
    "import spacy\n",
    "import subprocess"
   ]
  },
  {
   "cell_type": "markdown",
   "metadata": {},
   "source": [
    "# Export notebook as python script to the ../python-code - folder"
   ]
  },
  {
   "cell_type": "code",
   "execution_count": null,
   "metadata": {},
   "outputs": [],
   "source": [
    "subprocess.run(\"jupyter nbconvert --output-dir='../python-code' --to python BERT.ipynb --TemplateExporter.exclude_markdown=True --TemplateExporter.exclude_input_prompt=True\", shell=True)"
   ]
  },
  {
   "cell_type": "markdown",
   "metadata": {},
   "source": [
    "# Use pretrained BERT-model to calculate argument similarity"
   ]
  },
  {
   "cell_type": "code",
   "execution_count": null,
   "metadata": {},
   "outputs": [],
   "source": [
    "# Read in argument-data\n",
    "args = pd.read_csv(\"../../data/arguments.csv\", sep=\",\", usecols=[\"statement_id\", \"text_en\"])\n",
    "# Only filter for relevant arguments\n",
    "relevant_args = set([i for i in range(324, 400)])\n",
    "args = args[args.statement_id.isin(relevant_args)]\n",
    "# Convert to list of tuples for processing it further\n",
    "args = list(zip(args[\"text_en\"], args[\"statement_id\"]))"
   ]
  },
  {
   "cell_type": "code",
   "execution_count": null,
   "metadata": {},
   "outputs": [],
   "source": [
    "class BERT():\n",
    "    \n",
    "    def __init__(self, args:[str], model_name:str=\"bert-base-nli-mean-tokens\"):\n",
    "        \"\"\"\n",
    "        Params:\n",
    "            args ([type]): [description]\n",
    "            model_name (str, optional): [description]. Defaults to \"bert-base-nli-mean-tokens\".\n",
    "        \"\"\"\n",
    "        self.args = [t[0] for t in args]\n",
    "        self.model_name = model_name\n",
    "        # Initialize GPU for computation if available            \n",
    "        machine = \"cuda:0\" if torch.cuda.is_available() else \"cpu\"\n",
    "        self.device = torch.device(machine)\n",
    "        self.model = SentenceTransformer(model_name, device=self.device)\n",
    "            \n",
    "    def calculate_similarity_matrix(self, as_torch_tensor:bool=True) -> None:\n",
    "        \"\"\"\n",
    "        Calculate the similarity matrix based on the cosine-similarity metric. The cosine similarity is applied to normalized\n",
    "        argument embeddings such that the cosine similarity is equivalent to the dot-product in this case.\n",
    "\n",
    "        Params:\n",
    "            as_torch_tensor (bool, optional): Return the similarity matrix as pytorch tensor. If False, return as numpy-array. Defaults to True.\n",
    "        \"\"\"        \n",
    "        # Calculate argument embeddings\n",
    "        arg_embeddings = self.model.encode(self.args)\n",
    "        # Calculate the cosine-similarity of the normalize vectors (=dot-product)\n",
    "        similarity_matrix = cosine_similarity(arg_embeddings)\n",
    "        # Set all values on diagonal to zero as the similarity of an argument with itself should not be taken into account\n",
    "        np.fill_diagonal(similarity_matrix, 0)\n",
    "        if as_torch_tensor:\n",
    "            self.similarity_matrix =  torch.from_numpy(similarity_matrix).float().to(self.device)\n",
    "        else:\n",
    "            self.similarity_matrix = similarity_matrix"
   ]
  },
  {
   "cell_type": "code",
   "execution_count": null,
   "metadata": {},
   "outputs": [],
   "source": [
    "bert = BERT(args)\n",
    "bert.calculate_similarity_matrix()"
   ]
  }
 ],
 "metadata": {
  "interpreter": {
   "hash": "9c4321509887871942225181aea45e229e5aed2157cb28edcc519edea6ae29dd"
  },
  "kernelspec": {
   "display_name": "Python 3.8.11 64-bit ('ba_thesis': conda)",
   "name": "python3"
  },
  "language_info": {
   "codemirror_mode": {
    "name": "ipython",
    "version": 3
   },
   "file_extension": ".py",
   "mimetype": "text/x-python",
   "name": "python",
   "nbconvert_exporter": "python",
   "pygments_lexer": "ipython3",
   "version": "3.8.11"
  },
  "orig_nbformat": 4
 },
 "nbformat": 4,
 "nbformat_minor": 2
}
