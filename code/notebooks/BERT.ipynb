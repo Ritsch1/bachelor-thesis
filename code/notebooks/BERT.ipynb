{
 "cells": [
  {
   "cell_type": "code",
   "execution_count": 25,
   "source": [
    "# imports\r\n",
    "from sklearn.metrics.pairwise import cosine_similarity\r\n",
    "from sentence_transformers import SentenceTransformer\r\n",
    "import torch\r\n",
    "import pandas as pd\r\n",
    "import numpy as np\r\n",
    "import spacy\r\n",
    "import subprocess"
   ],
   "outputs": [],
   "metadata": {}
  },
  {
   "cell_type": "markdown",
   "source": [
    "# Export notebook as python script to the ../python-code - folder"
   ],
   "metadata": {}
  },
  {
   "cell_type": "code",
   "execution_count": 26,
   "source": [
    "subprocess.run(\"jupyter nbconvert --output-dir='../python-code' --to python BERT.ipynb --TemplateExporter.exclude_markdown=True --TemplateExporter.exclude_input_prompt=True\", shell=True)"
   ],
   "outputs": [
    {
     "output_type": "execute_result",
     "data": {
      "text/plain": [
       "CompletedProcess(args=\"jupyter nbconvert --output-dir='../python-code' --to python BERT.ipynb --TemplateExporter.exclude_markdown=True --TemplateExporter.exclude_input_prompt=True\", returncode=0)"
      ]
     },
     "metadata": {},
     "execution_count": 26
    }
   ],
   "metadata": {}
  },
  {
   "cell_type": "markdown",
   "source": [
    "# Use pretrained BERT-model to calculate argument similarity"
   ],
   "metadata": {}
  },
  {
   "cell_type": "code",
   "execution_count": 17,
   "source": [
    "# Read in argument-data\r\n",
    "args = pd.read_csv(\"../../data/arguments.csv\", sep=\",\", usecols=[\"statement_id\", \"text_en\"])\r\n",
    "# Only filter for relevant arguments\r\n",
    "relevant_args = set([i for i in range(324, 400)])\r\n",
    "args = args[args.statement_id.isin(relevant_args)]\r\n",
    "# Convert to list of tuples for processing it further\r\n",
    "args = list(zip(args[\"text_en\"], args[\"statement_id\"]))"
   ],
   "outputs": [],
   "metadata": {}
  },
  {
   "cell_type": "code",
   "execution_count": 23,
   "source": [
    "class BERT():\r\n",
    "    \r\n",
    "    def __init__(self, args:[str], model_name:str=\"bert-base-nli-mean-tokens\"):\r\n",
    "        \"\"\"\r\n",
    "        Params:\r\n",
    "            args ([type]): [description]\r\n",
    "            model_name (str, optional): [description]. Defaults to \"bert-base-nli-mean-tokens\".\r\n",
    "        \"\"\"\r\n",
    "        self.args = [t[0] for t in args]\r\n",
    "        self.model_name = model_name\r\n",
    "        # Initialize GPU for computation if available            \r\n",
    "        machine = \"cuda:0\" if torch.cuda.is_available() else \"cpu\"\r\n",
    "        self.device = torch.device(machine)\r\n",
    "        self.model = SentenceTransformer(model_name, device=self.device)\r\n",
    "            \r\n",
    "    def calculate_similarity_matrix(self, as_torch_tensor:bool=True) -> None:\r\n",
    "        \"\"\"\r\n",
    "        Calculate the similarity matrix based on the cosine-similarity metric. The cosine similarity is applied to normalized\r\n",
    "        argument embeddings such that the cosine similarity is equivalent to the dot-product in this case.\r\n",
    "\r\n",
    "        Params:\r\n",
    "            as_torch_tensor (bool, optional): Return the similarity matrix as pytorch tensor. If False, return as numpy-array. Defaults to True.\r\n",
    "        \"\"\"        \r\n",
    "        # Calculate argument embeddings\r\n",
    "        arg_embeddings = self.model.encode(self.args)\r\n",
    "        # Calculate the cosine-similarity of the normalize vectors (=dot-product)\r\n",
    "        similarity_matrix = cosine_similarity(arg_embeddings)\r\n",
    "        # Set all values on diagonal to zero as the similarity of an argument with itself should not be taken into account\r\n",
    "        np.fill_diagonal(similarity_matrix, 0)\r\n",
    "        if as_torch_tensor:\r\n",
    "            self.similarity_matrix =  torch.from_numpy(similarity_matrix).float().to(self.device)\r\n",
    "        else:\r\n",
    "            self.similarity_matrix = similarity_matrix"
   ],
   "outputs": [],
   "metadata": {}
  },
  {
   "cell_type": "code",
   "execution_count": null,
   "source": [
    "bert = BERT(args)\r\n",
    "bert.calculate_similarity_matrix()"
   ],
   "outputs": [],
   "metadata": {}
  }
 ],
 "metadata": {
  "orig_nbformat": 4,
  "language_info": {
   "name": "python",
   "version": "3.8.11",
   "mimetype": "text/x-python",
   "codemirror_mode": {
    "name": "ipython",
    "version": 3
   },
   "pygments_lexer": "ipython3",
   "nbconvert_exporter": "python",
   "file_extension": ".py"
  },
  "kernelspec": {
   "name": "python3",
   "display_name": "Python 3.8.11 64-bit ('ba_thesis': conda)"
  },
  "interpreter": {
   "hash": "9c4321509887871942225181aea45e229e5aed2157cb28edcc519edea6ae29dd"
  }
 },
 "nbformat": 4,
 "nbformat_minor": 2
}