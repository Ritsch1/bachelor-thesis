{
 "cells": [
  {
   "cell_type": "code",
   "execution_count": 1,
   "source": [
    "# imports\r\n",
    "import pandas as pd\r\n",
    "from sklearn.feature_extraction.text import TfidfVectorizer\r\n",
    "from IPython.core.debugger import set_trace\r\n",
    "import torch\r\n",
    "import spacy\r\n",
    "import matplotlib.pyplot as plt\r\n",
    "import subprocess"
   ],
   "outputs": [],
   "metadata": {
    "execution": {
     "iopub.execute_input": "2021-09-03T14:16:34.344032Z",
     "iopub.status.busy": "2021-09-03T14:16:34.344032Z",
     "iopub.status.idle": "2021-09-03T14:16:37.814613Z",
     "shell.execute_reply": "2021-09-03T14:16:37.813614Z"
    },
    "papermill": {
     "duration": 3.498687,
     "end_time": "2021-09-03T14:16:37.814613",
     "exception": false,
     "start_time": "2021-09-03T14:16:34.315926",
     "status": "completed"
    },
    "tags": []
   }
  },
  {
   "cell_type": "markdown",
   "source": [
    "# Export notebook as python script to the ../python-code - folder"
   ],
   "metadata": {
    "papermill": {
     "duration": 0.011003,
     "end_time": "2021-09-03T14:16:37.834627",
     "exception": false,
     "start_time": "2021-09-03T14:16:37.823624",
     "status": "completed"
    },
    "tags": []
   }
  },
  {
   "cell_type": "code",
   "execution_count": 2,
   "source": [
    "subprocess.run(\"jupyter nbconvert --output-dir='../python-code' --to python WTMF.ipynb --TemplateExporter.exclude_markdown=True --TemplateExporter.exclude_input_prompt=True\", shell=True)"
   ],
   "outputs": [
    {
     "output_type": "execute_result",
     "data": {
      "text/plain": [
       "CompletedProcess(args=\"jupyter nbconvert --output-dir='../python-code' --to python WTMF.ipynb --TemplateExporter.exclude_markdown=True --TemplateExporter.exclude_input_prompt=True\", returncode=0)"
      ]
     },
     "metadata": {},
     "execution_count": 2
    }
   ],
   "metadata": {
    "execution": {
     "iopub.execute_input": "2021-09-03T14:16:37.864034Z",
     "iopub.status.busy": "2021-09-03T14:16:37.862080Z",
     "iopub.status.idle": "2021-09-03T14:16:41.292167Z",
     "shell.execute_reply": "2021-09-03T14:16:41.291152Z"
    },
    "papermill": {
     "duration": 3.446416,
     "end_time": "2021-09-03T14:16:41.292167",
     "exception": false,
     "start_time": "2021-09-03T14:16:37.845751",
     "status": "completed"
    },
    "tags": []
   }
  },
  {
   "cell_type": "code",
   "execution_count": 3,
   "source": [
    "# Read in argument-data\r\n",
    "args = pd.read_csv(\"../../data/arguments.csv\", sep=\",\", usecols=[\"statement_id\", \"text_en\"])\r\n",
    "# Only filter for relevant arguments\r\n",
    "relevant_args = set([i for i in range(324, 400)])\r\n",
    "args = args[args.statement_id.isin(relevant_args)]\r\n",
    "# Convert to list of tuples for processing it further\r\n",
    "args = list(zip(args[\"text_en\"], args[\"statement_id\"]))"
   ],
   "outputs": [],
   "metadata": {
    "execution": {
     "iopub.execute_input": "2021-09-03T14:16:41.317146Z",
     "iopub.status.busy": "2021-09-03T14:16:41.316146Z",
     "iopub.status.idle": "2021-09-03T14:16:41.339463Z",
     "shell.execute_reply": "2021-09-03T14:16:41.338482Z"
    },
    "papermill": {
     "duration": 0.040314,
     "end_time": "2021-09-03T14:16:41.340462",
     "exception": false,
     "start_time": "2021-09-03T14:16:41.300148",
     "status": "completed"
    },
    "tags": []
   }
  },
  {
   "cell_type": "markdown",
   "source": [
    "# WTMF algorithm"
   ],
   "metadata": {
    "papermill": {
     "duration": 0.008985,
     "end_time": "2021-09-03T14:16:41.357465",
     "exception": false,
     "start_time": "2021-09-03T14:16:41.348480",
     "status": "completed"
    },
    "tags": []
   }
  },
  {
   "cell_type": "code",
   "execution_count": 4,
   "source": [
    "class WTMF():\r\n",
    "    \"\"\"\r\n",
    "    A class that represents the Weighted Textual Matrix Factorization.\r\n",
    "    \"\"\"\r\n",
    "    def __init__(self, args:list):\r\n",
    "        \"\"\"\r\n",
    "        Params:\r\n",
    "            args (list): A list of (argument, id) - tuples. \r\n",
    "        \"\"\"\r\n",
    "        self.args = [t[0] for t in args]\r\n",
    "        self.args_ids = [t[1] for t in args]\r\n",
    "        # Initialize GPU for computation if available            \r\n",
    "        machine = \"cuda:0\" if torch.cuda.is_available() else \"cpu\"\r\n",
    "        self.device = torch.device(machine)\r\n",
    "    \r\n",
    "    def create_tfidf_matrix(self, exclude_stopwords:bool=True) -> None:\r\n",
    "        \"\"\"\r\n",
    "        Create a tfidf - matrix out of the arguments where the rows are words and the columns are sentences.\r\n",
    "        \r\n",
    "        Params:\r\n",
    "            exclude_stopwords (bool): A boolean flag that indicates whether stopwords are kept in the vocabulary or not. Default value is True.\r\n",
    "        \"\"\"\r\n",
    "        # Convert all words to lowercase\r\n",
    "        self.args = list(map(lambda s : s.lower(), self.args))        \r\n",
    "        # Lemmatize the sentences\r\n",
    "        nlp = spacy.load(\"en_core_web_sm\")\r\n",
    "        self.args = list(map(lambda s : \" \".join(token.lemma_ for token in nlp(s)), self.args))\r\n",
    "        # Filter out the \"-PRON-\" - insertion from spacy \r\n",
    "        self.args = list(map(lambda s: s.replace(\"-PRON-\",\"\"), self.args))\r\n",
    "        # Exclude stop words while vectorizing the sentences\r\n",
    "        if exclude_stopwords:\r\n",
    "            vectorizer = TfidfVectorizer(stop_words=\"english\")\r\n",
    "        else:\r\n",
    "            vectorizer = TfidfVectorizer()\r\n",
    "        self.X = vectorizer.fit_transform(self.args)\r\n",
    "        # Transform the sparse matrix into a dense matrix and transpose the matrix to represent the words as rows and sentences as columns\r\n",
    "        self.X = torch.from_numpy(self.X.toarray().transpose()).float().to(self.device)\r\n",
    "        \r\n",
    "    def train(self, k:int=50, gamma:float=0.05, weight:float=0.05, training_iterations:int=50, random_seed:int=1, print_frequency:int=1) -> [float]:\r\n",
    "        \"\"\"\r\n",
    "        Use stochastic gradient descent to find the two latent factor matrices A (words), B (sentences) \r\n",
    "        that minimize the error of the objective function. \r\n",
    "\r\n",
    "        Params:\r\n",
    "            vector_dimension(int, optional): Dimension of the latent vector space the users and items are mapped to. Defaults to 20.\r\n",
    "            gamma (float, optional): Regularization factor to control the overfitting. Defaults to 0.05.\r\n",
    "            weight (float, optional): Weight to control the influence of non-present words in a sentence. Defaults to 0.05.\r\n",
    "            training_iterations (int, optional): Number of training iterations to take. Defaults to 50.\r\n",
    "            random_seed (int, optional): Random seed that is used to intialize the latent factor matrices. Defaults to 1.\r\n",
    "            print_frequency (int, optional): The epoch-frequency with which the error is printed to the console. Default to 1.\r\n",
    "        \r\n",
    "        Returns:\r\n",
    "            [float]: A list containing the error values for every iteration.\r\n",
    "        \"\"\"\r\n",
    "        \r\n",
    "        # Set random seed for reproducability\r\n",
    "        torch.manual_seed(random_seed)\r\n",
    "        # Randomly initialize the latent factor matrices\r\n",
    "        self.A = torch.rand([k, self.X.shape[0]]).to(self.device)\r\n",
    "        self.B = torch.rand([k, self.X.shape[1]]).to(self.device)\r\n",
    "        # Identity matrix\r\n",
    "        I = torch.eye(k).to(self.device)\r\n",
    "        \r\n",
    "        # Create the weight matrix. Set value to one if value of X is != 0, else set it to the weights' value\r\n",
    "        W = torch.ones_like(self.X).to(self.device)\r\n",
    "        W[self.X == 0] = weight\r\n",
    "        \r\n",
    "        # Matrix for updating the latent matrices in optimization\r\n",
    "        I_scaled = (gamma * I).to(self.device)\r\n",
    "        gamma_half = torch.tensor(gamma / 2).to(self.device)\r\n",
    "        \r\n",
    "        # Error - variable keep track of it for later visualization \r\n",
    "        error = []\r\n",
    "        error_cur = 0.0\r\n",
    "        frobenius_norm = torch.linalg.matrix_norm\r\n",
    "        inverse = torch.inverse\r\n",
    "        for iteration in range(training_iterations):\r\n",
    "            \r\n",
    "            # Iterate over all words\r\n",
    "            for i in range(self.X.shape[0]):\r\n",
    "                # Iterate over all sentences\r\n",
    "                for j in range(self.X.shape[1]):\r\n",
    "                    # Compute error\r\n",
    "                    A_T = torch.transpose(self.A, 0, 1).to(self.device)\r\n",
    "                    error_cur += ((W[i][j] * ((torch.matmul(A_T[i], self.B[:,j]) - self.X[i][j])**2)) + (gamma_half * ((frobenius_norm(self.A)) + frobenius_norm(self.B))))\r\n",
    "                    # Update latent factor matrices\r\n",
    "                    W_diag_i = torch.diag(W[i]).to(self.device)\r\n",
    "                    W_diag_j = torch.diag(W[:,j]).to(self.device)\r\n",
    "                    temp_mat1 = torch.matmul(self.B, W_diag_i).to(self.device)\r\n",
    "                    temp_mat2 = torch.matmul(self.A, W_diag_j).to(self.device)\r\n",
    "                    # Update latent word vector\r\n",
    "                    self.A[:,i] = torch.matmul(inverse(torch.mm(temp_mat1, torch.transpose(self.B, 0, 1)) + (I_scaled)) , torch.matmul(temp_mat1, torch.transpose(self.X[i], 0, 0))).to(self.device)            \r\n",
    "                    # Update latent sentence vector\r\n",
    "                    self.B[:,j] = torch.matmul(inverse(torch.mm(temp_mat2, A_T) + (I_scaled)) , torch.matmul(temp_mat2, torch.transpose(self.X[:,j], 0, 0))).to(self.device)\r\n",
    "                    \r\n",
    "            error.append(error_cur)\r\n",
    "            error_cur = 0\r\n",
    "            # Print out error w.r.t print-frequency\r\n",
    "            if iteration % print_frequency == 0:\r\n",
    "                print(f\"Error:{error[iteration]:.2f}\\tCurrent Iteration: {iteration+1}\\\\{training_iterations}\")\r\n",
    "\r\n",
    "        return error\r\n",
    "    \r\n",
    "    def compute_argument_similarity_matrix(self) -> None:\r\n",
    "        \"\"\"\r\n",
    "        Compute the semantic argument similarity between the latent argument - vectors that were optimized within the argument(sentence) matrix B in the WTMF algorithm.\r\n",
    "        \"\"\"\r\n",
    "        # Normalize all column - vectors in matrix B, so we can use the dot-product on normalized vectors which is equivalent to the cosine-similarity\r\n",
    "        self.B /= torch.norm(self.B, dim=0).to(self.device)\r\n",
    "        # Compute pairwise dot-product of all column vectors\r\n",
    "        self.similarity_matrix = self.B.T.matmul(self.B).to(self.device)\r\n",
    "        # Perform min-max scaling to map the dot-product results from the range [-1,1] to [0,1]\r\n",
    "        min_value = torch.min(self.similarity_matrix)\r\n",
    "        max_value = torch.max(self.similarity_matrix)\r\n",
    "        self.similarity_matrix -= min_value\r\n",
    "        self.similarity_matrix /= (max_value - min_value)\r\n",
    "        # The diagonal will have the value zero, as the similarity of the argument with itself should not be taken into account as it will always be 1.\r\n",
    "        self.similarity_matrix = self.similarity_matrix.fill_diagonal_(0).to(self.device)\r\n",
    "    \r\n",
    "    def plot_training_error(self, error:[float], **kwargs) -> None:\r\n",
    "        \"\"\"\r\n",
    "        Plots the training error for every training iteration.\r\n",
    "        \r\n",
    "        Params:\r\n",
    "            error (list): A list of error - values that correspond to each training iteration of the WTMF - algorithm.    \r\n",
    "            **kwargs: Arbitrary many keyword arguments to customize the plot. E.g. color, linewidth or title.\r\n",
    "        \"\"\"        \r\n",
    "        plt.plot([i for i in range(1, len(error)+1)], error)\r\n",
    "        for k in kwargs.keys():\r\n",
    "            # Invoke the function k of the plt - module to customize the plot\r\n",
    "            getattr(plt, k) (kwargs[k])\r\n",
    "        \r\n",
    "        plt.show()"
   ],
   "outputs": [],
   "metadata": {
    "execution": {
     "iopub.execute_input": "2021-09-03T14:16:41.404463Z",
     "iopub.status.busy": "2021-09-03T14:16:41.379481Z",
     "iopub.status.idle": "2021-09-03T14:16:41.417223Z",
     "shell.execute_reply": "2021-09-03T14:16:41.416228Z"
    },
    "papermill": {
     "duration": 0.050741,
     "end_time": "2021-09-03T14:16:41.417223",
     "exception": false,
     "start_time": "2021-09-03T14:16:41.366482",
     "status": "completed"
    },
    "tags": [
     "parameters"
    ]
   }
  },
  {
   "cell_type": "code",
   "execution_count": 5,
   "source": [
    "wtmf = WTMF(args)\r\n",
    "wtmf.create_tfidf_matrix()\r\n",
    "error = wtmf.train(k, gamma, weight, training_iterations, random_seed, print_frequency)\r\n",
    "wtmf.compute_argument_similarity_matrix()\r\n",
    "wtmf.plot_training_error(error, title=\"WTMF Objective function error\", xlabel=\"Iterations\", ylabel=\"Error\")"
   ],
   "outputs": [],
   "metadata": {
    "execution": {
     "iopub.execute_input": "2021-09-03T14:16:41.478221Z",
     "iopub.status.busy": "2021-09-03T14:16:41.477223Z",
     "iopub.status.idle": "2021-09-03T14:16:52.642348Z",
     "shell.execute_reply": "2021-09-03T14:16:52.642348Z"
    },
    "papermill": {
     "duration": 10.088229,
     "end_time": "2021-09-03T14:16:51.546454",
     "exception": false,
     "start_time": "2021-09-03T14:16:41.458225",
     "status": "completed"
    },
    "tags": []
   }
  }
 ],
 "metadata": {
  "celltoolbar": "Tags",
  "interpreter": {
   "hash": "9c4321509887871942225181aea45e229e5aed2157cb28edcc519edea6ae29dd"
  },
  "kernelspec": {
   "name": "python3",
   "display_name": "Python 3.8.11 64-bit ('ba_thesis': conda)"
  },
  "language_info": {
   "codemirror_mode": {
    "name": "ipython",
    "version": 3
   },
   "file_extension": ".py",
   "mimetype": "text/x-python",
   "name": "python",
   "nbconvert_exporter": "python",
   "pygments_lexer": "ipython3",
   "version": "3.8.11"
  },
  "papermill": {
   "default_parameters": {},
   "duration": 22.533909,
   "end_time": "2021-09-03T14:16:53.699588",
   "environment_variables": {},
   "exception": null,
   "input_path": "WTMF.ipynb",
   "output_path": "WTMF.ipynb",
   "parameters": {
    "gamma": 0.05,
    "k": 50,
    "print_frequency": 1,
    "random_seed": 1,
    "training_iterations": 50,
    "weight": 0.05
   },
   "start_time": "2021-09-03T14:16:31.165679",
   "version": "2.3.3"
  }
 },
 "nbformat": 4,
 "nbformat_minor": 5
}