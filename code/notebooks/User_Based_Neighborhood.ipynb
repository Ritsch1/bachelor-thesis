{
 "cells": [
  {
   "cell_type": "code",
   "execution_count": 15,
   "metadata": {},
   "outputs": [],
   "source": [
    "# imports\n",
    "import pandas as pd\n",
    "import numpy as np\n",
    "from IPython.core.debugger import set_trace\n",
    "import torch\n",
    "import matplotlib.pyplot as plt\n",
    "import subprocess\n",
    "from abc import ABC, abstractmethod\n",
    "from typing import Iterable"
   ]
  },
  {
   "cell_type": "markdown",
   "metadata": {},
   "source": [
    "# Export notebook as python script to the ../python-code - folder"
   ]
  },
  {
   "cell_type": "code",
   "execution_count": 8,
   "metadata": {},
   "outputs": [
    {
     "data": {
      "text/plain": [
       "CompletedProcess(args=\"jupyter nbcbonvert --output-dir='../python-code' --to python User_Based_Neighborhood.ipynb --TemplateExporter.exclude_markdown=True --TemplateExporter.exclude_input_prompt=True\", returncode=1)"
      ]
     },
     "execution_count": 8,
     "metadata": {},
     "output_type": "execute_result"
    }
   ],
   "source": [
    "subprocess.run(\"jupyter nbcbonvert --output-dir='../python-code' --to python User_Based_Neighborhood.ipynb --TemplateExporter.exclude_markdown=True --TemplateExporter.exclude_input_prompt=True\", shell=True)"
   ]
  },
  {
   "cell_type": "code",
   "execution_count": 16,
   "metadata": {},
   "outputs": [],
   "source": [
    "class Neighborhood_Model(ABC):\n",
    "    \"\"\"\n",
    "    Abstract base class for all neighborhood based models. The 'predict', and the 'compute_similarity' - functions need to be implemented by inheriting classes.\n",
    "    \"\"\"\n",
    "    \n",
    "    def __init__(self, train_rating_matrix:pd.DataFrame, test_rating_matrix:pd.DataFrame, test_indices:np.array):\n",
    "        \"\"\"\n",
    "        Params:\n",
    "            train_rating_matrix (pd.DataFrame): The rating matrix that the model is supposed to calculate the neighborhoods on.\n",
    "            test_rating_matrix (pd.DataFrame): The test rating matrix that contains the true values.\n",
    "            test_indices (np.array): The indices of the test dataset that the model is supposed to predict on.\n",
    "        \"\"\"\n",
    "        super().__init__()\n",
    "        self.rating_matrix_, self.test_rating_matrix_, self.test_indices_ = train_rating_matrix, test_rating_matrix, test_indices\n",
    "    \n",
    "    def build_lookups(self) -> None:\n",
    "        \"\"\"\n",
    "        Map users and items to numerical values for further indexing.\n",
    "        \"\"\"\n",
    "        self.userid_lookup_ = {username: i+1 for i, username in enumerate(self.train_rating_matrix[\"username\"])}\n",
    "        self.itemid_lookup_ = {item: i+1 for i, item in enumerate(list(self.train_rating_matrix.columns))}\n",
    "        # Reverse the two calculates mappings for bidirectional lookup\n",
    "        self.username_lookup = {user_id: username for username, user_id in self.userid_lookup_}\n",
    "        self.itemname_lookup = {item_id: itemname for itemname, item_id in self.itemid_lookup_}\n",
    "        \n",
    "    def calculate_items_rated_by_user(self) -> None:\n",
    "        \"\"\"\n",
    "        Calculate a dictionary containing usernames as keys and a numpy array of rated items as key.\n",
    "        \"\"\"\n",
    "        self.items_rated_by_user = {}\n",
    "        users = set(self.train_rating_matrix[\"username\"])\n",
    "        for u in users:\n",
    "            # Calculate the item-indices that are non-na for each user\n",
    "            self.items_rated_by_user[u] =  np.argwhere(~pd.isna(self.train_rating_matrix[self.train_rating_matrix[\"username\"] == u].values))[:,0]\n",
    "        # Delete the first entry, as its the username which will not be used for similarity computation \n",
    "        for rated_items in self.calculate_items_rated_by_user.values():\n",
    "            rated_items = rated_items[1:]\n",
    "    \n",
    "    def compute_mean_ratings(self, for_users:bool=True) -> None:\n",
    "        \"\"\"\n",
    "        Compute the mean rating for users/items depending on the for_users - flag as a dictionary with users/items as key and the average rating as value.\n",
    "\n",
    "        Params:\n",
    "            for_users (bool, optional): If set to True, calculate user-rating means. If set to False, calculate item-rating means. Defaults to True.\n",
    "        \"\"\"\n",
    "        self.mean_ratings = {}\n",
    "        if for_users:\n",
    "            for user in self.calculate_items_rated_by_user.keys():\n",
    "                self.mean_ratings[user] = np.nanmean(self.train_rating_matrix[self.train_rating_matrix[\"username\"] == user].values)\n",
    "        else:\n",
    "            # Exclude the username column\n",
    "            for item in self.train_rating_matrix.columns[1:]:\n",
    "                self.mean_ratings[item] = np.nanmean(self.train_rating_matrix[item].values)\n",
    "    \n",
    "    def compute_mutual_objects(self, iterable1:Iterable, iterable2:Iterable) -> set:\n",
    "        \"\"\"\n",
    "        Computes the mutual objects of two iterables.\n",
    "\n",
    "        Args:\n",
    "            iterable1 (Iterable): First iterable object.\n",
    "            iterable2 (Iterable): Second iterable object.\n",
    "\n",
    "        Returns:\n",
    "            set: The mutual objects of the first and second iterable object.\n",
    "        \"\"\"\n",
    "        return set(iterable1).intersection(set(iterable2))\n",
    "        \n",
    "    @abstractmethod\n",
    "    def predict(self, user:str, item:str) -> int:\n",
    "        pass\n",
    "    \n",
    "    @abstractmethod\n",
    "    def compute_similarity(self) -> float:\n",
    "        pass"
   ]
  },
  {
   "cell_type": "code",
   "execution_count": null,
   "metadata": {},
   "outputs": [],
   "source": [
    "class User_Neighborhood_Pearson_Centered(Neighborhood_Model):\n",
    "    \"\"\"\n",
    "    A user - based neighborhood model that takes into account rating bias by centering the raw data for each user and applying the Pearson Correlation Coefficient for predicting the similarity of user-pairs. \n",
    "    \"\"\"\n",
    "    "
   ]
  }
 ],
 "metadata": {
  "interpreter": {
   "hash": "9c4321509887871942225181aea45e229e5aed2157cb28edcc519edea6ae29dd"
  },
  "kernelspec": {
   "display_name": "Python 3.8.11 64-bit ('ba_thesis': conda)",
   "name": "python3"
  },
  "language_info": {
   "codemirror_mode": {
    "name": "ipython",
    "version": 3
   },
   "file_extension": ".py",
   "mimetype": "text/x-python",
   "name": "python",
   "nbconvert_exporter": "python",
   "pygments_lexer": "ipython3",
   "version": "3.8.11"
  },
  "orig_nbformat": 4
 },
 "nbformat": 4,
 "nbformat_minor": 2
}
