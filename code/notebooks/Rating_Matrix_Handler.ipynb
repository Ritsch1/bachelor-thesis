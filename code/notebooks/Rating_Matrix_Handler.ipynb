{
 "cells": [
  {
   "cell_type": "code",
   "execution_count": 2,
   "source": [
    "# imports\r\n",
    "import pandas as pd\r\n",
    "import numpy as np\r\n",
    "from IPython.core.debugger import set_trace\r\n",
    "import torch\r\n",
    "from collections import namedtuple\r\n",
    "import subprocess"
   ],
   "outputs": [],
   "metadata": {
    "execution": {
     "iopub.execute_input": "2021-09-05T15:58:37.368684Z",
     "iopub.status.busy": "2021-09-05T15:58:37.367689Z",
     "iopub.status.idle": "2021-09-05T15:58:38.628111Z",
     "shell.execute_reply": "2021-09-05T15:58:38.628111Z"
    },
    "papermill": {
     "duration": 1.279403,
     "end_time": "2021-09-05T15:58:38.629108",
     "exception": false,
     "start_time": "2021-09-05T15:58:37.349705",
     "status": "completed"
    },
    "tags": []
   }
  },
  {
   "cell_type": "markdown",
   "source": [
    "# Export notebook as python script to the ../python-code - folder"
   ],
   "metadata": {
    "papermill": {
     "duration": 0.009999,
     "end_time": "2021-09-05T15:58:38.645086",
     "exception": false,
     "start_time": "2021-09-05T15:58:38.635087",
     "status": "completed"
    },
    "tags": []
   }
  },
  {
   "cell_type": "code",
   "execution_count": 3,
   "source": [
    "# Export notebook as python script to the ../python-code folder\r\n",
    "subprocess.run(\"jupyter nbconvert --output-dir='../python-code' --to python Rating_Matrix_Handler.ipynb --TemplateExporter.exclude_markdown=True --TemplateExporter.exclude_input_prompt=True\", shell=True)"
   ],
   "outputs": [
    {
     "output_type": "execute_result",
     "data": {
      "text/plain": [
       "CompletedProcess(args=\"jupyter nbconvert --output-dir='../python-code' --to python Rating_Matrix_Handler.ipynb --TemplateExporter.exclude_markdown=True --TemplateExporter.exclude_input_prompt=True\", returncode=0)"
      ]
     },
     "metadata": {},
     "execution_count": 3
    }
   ],
   "metadata": {
    "execution": {
     "iopub.execute_input": "2021-09-05T15:58:38.666091Z",
     "iopub.status.busy": "2021-09-05T15:58:38.665090Z",
     "iopub.status.idle": "2021-09-05T15:58:41.531393Z",
     "shell.execute_reply": "2021-09-05T15:58:41.530396Z"
    },
    "papermill": {
     "duration": 2.880305,
     "end_time": "2021-09-05T15:58:41.531393",
     "exception": false,
     "start_time": "2021-09-05T15:58:38.651088",
     "status": "completed"
    },
    "tags": []
   }
  },
  {
   "cell_type": "markdown",
   "source": [
    "# Rating - Matrix - Handler"
   ],
   "metadata": {
    "papermill": {
     "duration": 0.009997,
     "end_time": "2021-09-05T15:58:41.548389",
     "exception": false,
     "start_time": "2021-09-05T15:58:41.538392",
     "status": "completed"
    },
    "tags": []
   }
  },
  {
   "cell_type": "code",
   "execution_count": 3,
   "source": [
    "class Rating_Matrix_Handler():\r\n",
    "    \"\"\"\r\n",
    "    A class that deals with all Rating-Matrix related issues like merging and masking rating-matrices.\r\n",
    "    \"\"\"\r\n",
    "    \r\n",
    "    def __init__(self, train_rating_matrix:pd.DataFrame, test_rating_matrix:pd.DataFrame, validation_rating_matrix:pd.DataFrame=None):\r\n",
    "        \"\"\"\r\n",
    "        Params:\r\n",
    "            train_rating_matrix (pd.DataFrame): The training rating_matrix on which the TLMF algorithm will be trained upon.\r\n",
    "            validation_rating_matrix (pd.DataFrame): The validation rating_matrix on which the TLMF algorithm can be validated on.\r\n",
    "            test_rating_matrix (pd.DataFrame): The test rating_matrix on which the TLMF algorithm will be tested upon.\r\n",
    "        \"\"\"\r\n",
    "        self.train_rating_matrix = train_rating_matrix\r\n",
    "        self.validation_rating_matrix = validation_rating_matrix\r\n",
    "        self.is_validation_set_available = self.validation_rating_matrix is not None \r\n",
    "        self.test_rating_matrix = test_rating_matrix\r\n",
    "        self.validation_eval_indices = None\r\n",
    "        self.test_eval_indices = None\r\n",
    "        # Initialize GPU for computation if available            \r\n",
    "        machine = \"cuda:0\" if torch.cuda.is_available() else \"cpu\"\r\n",
    "        self.device = torch.device(machine)\r\n",
    "        \r\n",
    "    def merge_rating_matrices(self, dim:int=1, mode:str=\"Test\") -> None:\r\n",
    "        \"\"\"\r\n",
    "        Left-joins the training rating-matrix together on identical users with either the test-matrix or the validation-matrix(depending on the value of mode).\r\n",
    "\r\n",
    "        Params:\r\n",
    "            dim (int, optional): The dimension along which rating matrices are merged. Defaults to 1.\r\n",
    "            mode (str, optional): The mode of df2. It can either be \"Test\" or \"Validation\". Defaults to \"Test\".\r\n",
    "        \"\"\"\r\n",
    "        # Assertions\r\n",
    "        assert dim >= 0, \"Dimension must be non-negative.\"\r\n",
    "        \r\n",
    "        if mode==\"Test\":    \r\n",
    "            df = self.test_rating_matrix\r\n",
    "            self.test_eval_indices = self.get_eval_indices(df)\r\n",
    "        elif mode==\"Validation\":\r\n",
    "            df = self.validation_rating_matrix\r\n",
    "            self.validation_eval_indices = self.get_eval_indices(df)\r\n",
    "            \r\n",
    "        # Get all non-na column indices for each username.\r\n",
    "        eval_indices = self.get_eval_indices(df)\r\n",
    "        # Join the matrices on the username column, keep all usernames that were already in the training matrix.\r\n",
    "        df = df[[\"username\"]]\r\n",
    "        self.final_rating_matrix = self.train_rating_matrix.copy() \r\n",
    "        self.final_rating_matrix = self.final_rating_matrix.merge(right=df, how=\"inner\", on=\"username\")\r\n",
    "        self.final_rating_matrix_w_usernames = self.final_rating_matrix.copy()\r\n",
    "        # Drop the username column as it is non-numeric and can't be converted to a tensor.\r\n",
    "        self.final_rating_matrix.drop(labels=[\"username\"], axis=1, inplace=True)\r\n",
    "        # The same for the joined matrix as the username column contains non-na values but will not be evaluated.\r\n",
    "        df.drop(labels=[\"username\"], axis=1, inplace=True)\r\n",
    "        # Set the datatypes of the rating matrix to float16 to save memory and speed up computation while keeping the nan-values (not possible for integer datatype). \r\n",
    "        self.final_rating_matrix = torch.from_numpy(self.final_rating_matrix.values).to(torch.float16).to(self.device)\r\n",
    "        \r\n",
    "    def get_eval_indices(self, df:pd.DataFrame, mode:str=\"Test\") -> dict:\r\n",
    "        \"\"\"\r\n",
    "        Get all indices that are not NaN of the provided dataframe. These indices are later used to evaluate recommender systems on.\r\n",
    "\r\n",
    "        Params:\r\n",
    "            df (pd.DataFrame): Dataframe whose non-null indices have to be found.\r\n",
    "        Returns:\r\n",
    "            dict: A dictionary containg a username as key associated with a numpy-array containing all the indices of the non-na columns for that username.\r\n",
    "        \"\"\"        \r\n",
    "        # Get all not-null indices from the dataframe\r\n",
    "        mask_idxs = np.argwhere(~pd.isna(df.values))\r\n",
    "        # Perform a group by on the username - row - index.\r\n",
    "        unique_username_rows = np.unique(mask_idxs[:,0], return_index=True)[1][1:]\r\n",
    "        mask_idxs_grouped = np.split(mask_idxs[:,1], unique_username_rows)\r\n",
    "        # Combine the row indices with all the non - na column - indices for this row\r\n",
    "        username_column_agg = np.array(list(zip(list(df[\"username\"]), mask_idxs_grouped)), dtype=object)\r\n",
    "        # Exclude the username column from the non - na values, which is the first one\r\n",
    "        username_column_agg = {a[0]: a[1][1:]-1 for a in username_column_agg}\r\n",
    "        return username_column_agg"
   ],
   "outputs": [],
   "metadata": {
    "execution": {
     "iopub.execute_input": "2021-09-05T15:58:41.580390Z",
     "iopub.status.busy": "2021-09-05T15:58:41.579390Z",
     "iopub.status.idle": "2021-09-05T15:58:41.591272Z",
     "shell.execute_reply": "2021-09-05T15:58:41.592275Z"
    },
    "papermill": {
     "duration": 0.035866,
     "end_time": "2021-09-05T15:58:41.592275",
     "exception": false,
     "start_time": "2021-09-05T15:58:41.556409",
     "status": "completed"
    },
    "tags": [
     "parameters"
    ]
   }
  },
  {
   "cell_type": "code",
   "execution_count": 5,
   "source": [
    "train = pd.read_csv(train_path)\r\n",
    "test = pd.read_csv(test_path)\r\n",
    "rmh = Rating_Matrix_Handler(train_rating_matrix=train, test_rating_matrix=test)\r\n",
    "rmh.merge_rating_matrices()"
   ],
   "outputs": [
    {
     "output_type": "stream",
     "name": "stderr",
     "text": [
      "C:\\Users\\Rico\\miniconda3\\envs\\ba_thesis\\lib\\site-packages\\pandas\\core\\frame.py:4901: SettingWithCopyWarning: \n",
      "A value is trying to be set on a copy of a slice from a DataFrame\n",
      "\n",
      "See the caveats in the documentation: https://pandas.pydata.org/pandas-docs/stable/user_guide/indexing.html#returning-a-view-versus-a-copy\n",
      "  return super().drop(\n"
     ]
    },
    {
     "output_type": "execute_result",
     "data": {
      "text/plain": [
       "<__main__.Rating_Matrix_Handler at 0x2cd879e3e50>"
      ]
     },
     "metadata": {},
     "execution_count": 5
    }
   ],
   "metadata": {
    "execution": {
     "iopub.execute_input": "2021-09-05T15:58:41.644258Z",
     "iopub.status.busy": "2021-09-05T15:58:41.643258Z",
     "iopub.status.idle": "2021-09-05T15:58:41.717259Z",
     "shell.execute_reply": "2021-09-05T15:58:41.716254Z"
    },
    "papermill": {
     "duration": 0.087997,
     "end_time": "2021-09-05T15:58:41.717259",
     "exception": false,
     "start_time": "2021-09-05T15:58:41.629262",
     "status": "completed"
    },
    "tags": []
   }
  }
 ],
 "metadata": {
  "celltoolbar": "Tags",
  "interpreter": {
   "hash": "9c4321509887871942225181aea45e229e5aed2157cb28edcc519edea6ae29dd"
  },
  "kernelspec": {
   "name": "python3",
   "display_name": "Python 3.8.11 64-bit ('ba_thesis': conda)"
  },
  "language_info": {
   "codemirror_mode": {
    "name": "ipython",
    "version": 3
   },
   "file_extension": ".py",
   "mimetype": "text/x-python",
   "name": "python",
   "nbconvert_exporter": "python",
   "pygments_lexer": "ipython3",
   "version": "3.8.11"
  },
  "papermill": {
   "default_parameters": {},
   "duration": 7.611669,
   "end_time": "2021-09-05T15:58:42.397255",
   "environment_variables": {},
   "exception": null,
   "input_path": "Rating_Matrix_Handler.ipynb",
   "output_path": "Rating_Matrix_Handler.ipynb",
   "parameters": {
    "test_path": "C:\\Users\\Rico\\Desktop\\Diverses\\bachelorarbeit\\bachelor-thesis\\data\\T1_T2\\test.csv",
    "train_path": "C:\\Users\\Rico\\Desktop\\Diverses\\bachelorarbeit\\bachelor-thesis\\data\\T1_T2\\train.csv"
   },
   "start_time": "2021-09-05T15:58:34.785586",
   "version": "2.3.3"
  }
 },
 "nbformat": 4,
 "nbformat_minor": 5
}