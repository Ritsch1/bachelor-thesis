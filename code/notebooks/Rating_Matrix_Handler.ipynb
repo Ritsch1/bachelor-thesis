{
 "cells": [
  {
   "cell_type": "code",
   "execution_count": 1,
   "source": [
    "# imports\r\n",
    "import pandas as pd\r\n",
    "import numpy as np\r\n",
    "from IPython.core.debugger import set_trace\r\n",
    "import torch"
   ],
   "outputs": [],
   "metadata": {}
  },
  {
   "cell_type": "markdown",
   "source": [
    "# Export notebook as python script to the ../python-code - folder"
   ],
   "metadata": {}
  },
  {
   "cell_type": "code",
   "execution_count": 90,
   "source": [
    "!jupyter nbconvert --output-dir=\"../python-code\" --to python Rating_Matrix_Handler.ipynb --TemplateExporter.exclude_markdown=True --TemplateExporter.exclude_input_prompt=True"
   ],
   "outputs": [
    {
     "output_type": "stream",
     "name": "stderr",
     "text": [
      "[NbConvertApp] Converting notebook Rating_Matrix_Handler.ipynb to python\n",
      "[NbConvertApp] Writing 5023 bytes to ..\\python-code\\Rating_Matrix_Handler.py\n"
     ]
    }
   ],
   "metadata": {}
  },
  {
   "cell_type": "markdown",
   "source": [
    "# Rating - Matrix - Handler"
   ],
   "metadata": {}
  },
  {
   "cell_type": "code",
   "execution_count": 88,
   "source": [
    "class Rating_Matrix_Handler():\r\n",
    "    \"\"\"\r\n",
    "    A class that deals with all Rating-Matrix related issues like merging and masking rating-matrices.\r\n",
    "    \"\"\"\r\n",
    "    \r\n",
    "    def __init__(self, train_rating_matrix:pd.DataFrame, test_rating_matrix:pd.DataFrame, validation_rating_matrix:pd.DataFrame=None):\r\n",
    "        \"\"\"\r\n",
    "        Params:\r\n",
    "            train_rating_matrix (pd.DataFrame): The training rating_matrix on which the TLMF algorithm will be trained upon.\r\n",
    "            validation_rating_matrix (pd.DataFrame): The validation rating_matrix on which the TLMF algorithm can be validated on.\r\n",
    "            test_rating_matrix (pd.DataFrame): The test rating_matrix on which the TLMF algorithm will be tested upon.\r\n",
    "        \"\"\"\r\n",
    "        self.train_rating_matrix = train_rating_matrix\r\n",
    "        self.validation_rating_matrix = validation_rating_matrix\r\n",
    "        self.test_rating_matrix = test_rating_matrix\r\n",
    "        self.validation_mask_indices = None\r\n",
    "        self.test_mask_indices = None\r\n",
    "        # Initialize GPU for computation if available            \r\n",
    "        machine = \"cuda:0\" if torch.cuda.is_available() else \"cpu\"\r\n",
    "        self.device = torch.device(machine)\r\n",
    "        \r\n",
    "    def suffixing_rating_matrices(self) -> None:\r\n",
    "        \"\"\"\r\n",
    "        Suffixing the columns of test and validation rating matrices with \"_test\" and \"_validation\", respectively to differentiate between different identical arguments but at different timesteps.\r\n",
    "        \r\n",
    "        \"\"\"\r\n",
    "        # Suffixing columns\r\n",
    "        self.test_rating_matrix.columns = [c + \"_test\" if c != \"username\" else c for c in self.test_rating_matrix.columns]\r\n",
    "        # Check if validation rating matrix is available\r\n",
    "        if self.validation_rating_matrix is not None:\r\n",
    "            self.validation_rating_matrix = [c + \"_validation\" if c != \"username\" else c for c in self.validation_rating_matrix]     \r\n",
    "\r\n",
    "    def merge_rating_matrices(self, *rating_matrices:pd.DataFrame, dim:int=1) -> None:\r\n",
    "        \"\"\"\r\n",
    "        Merges different rating-matrices together on identical users e.g. a training and a test rating - matrix.\r\n",
    "        \r\n",
    "        Params:\r\n",
    "            *rating_matrices: An arbitrary number of rating_matrices to be combined along the given dimension.\r\n",
    "            dim (int): The dimension along which rating matrices are merged. Defaults to 1, as the set of user present in both rating matrices are evaluated. \r\n",
    "        \"\"\"\r\n",
    "        \r\n",
    "        # Assertions\r\n",
    "        assert len(rating_matrices) > 0, \"No rating-matrix was provided.\"\r\n",
    "        assert dim >= 0, \"Dimension must be non-negative.\"\r\n",
    "        dims = []\r\n",
    "        for i, r in enumerate(rating_matrices):\r\n",
    "            dims.append(len(r.shape))\r\n",
    "            assert dim <= dims[i], \"f The given dimension - value {dim} is too big for the dimensions of the given rating-matrices.\"\r\n",
    "        assert len(set(dims)) == 1, \"All rating matrices need to have the same number of dimensions.\"\r\n",
    "        \r\n",
    "        if len(rating_matrices) == 1:\r\n",
    "            print(\"Only one rating matrix provided, returning it without change.\")\r\n",
    "            return rating_matrices[0]\r\n",
    "        else:\r\n",
    "            # Only keep data for users that are present in both rating matrices.\r\n",
    "            final_rating_matrix = rating_matrices[0]\r\n",
    "            for r in (rating_matrices[1:]):\r\n",
    "                final_rating_matrix = final_rating_matrix.merge(right=r, how=\"inner\", on=\"username\")\r\n",
    "            \r\n",
    "            # Drop the username column as it is non-numeric and can't be converted to a tensor.\r\n",
    "            final_rating_matrix.drop(labels=[\"username\"], axis=1, inplace=True)\r\n",
    "            # Set the datatypes of the rating matrix to uint8 (unsigned 8-bit integer) to save memory and speed up computation. The numerical values in the rating matrices are in the range of [0,6]\r\n",
    "            self.final_rating_matrix =  torch.from_numpy(final_rating_matrix.values).to(torch.uint8).to(self.device)\r\n",
    "    \r\n",
    "    def get_distinct_arguments(self):\r\n",
    "        \"\"\"\r\n",
    "        TODO: Have to remove arguments from the test or validation rating matrix that are already included in the training set. Otherwise I would be making predictions\r\n",
    "        for arguments that a user has already rated.\r\n",
    "        \"\"\"       \r\n",
    "    \r\n",
    "    @staticmethod\r\n",
    "    def get_masking_indices(df:pd.DataFrame) -> torch.tensor:\r\n",
    "        \"\"\"\r\n",
    "        Get all indices that are not_null of the provided dataframe.\r\n",
    "\r\n",
    "        Args:\r\n",
    "            df (pd.DataFrame): Dataframe whose non-null indices have to be found.\r\n",
    "\r\n",
    "        Returns:\r\n",
    "            torch.tensor: A torch tensor containing all non-null indices of the dataframe df.\r\n",
    "        \"\"\"\r\n",
    "        # Get all not-null indices from the dataframe\r\n",
    "        mask_idxs =  np.argwhere(~np.isnan(df.values))\r\n",
    "        return torch.from_numpy(mask_idxs).int()"
   ],
   "outputs": [],
   "metadata": {}
  },
  {
   "cell_type": "code",
   "execution_count": 93,
   "source": [
    "train = pd.read_csv(\"../../data/T1_T2/train.csv\")\r\n",
    "test = pd.read_csv(\"../../data/T1_T2/test.csv\")\r\n",
    "rmh = Rating_Matrix_Handler(train_rating_matrix=train, test_rating_matrix=test)\r\n",
    "rmh.suffixing_rating_matrices()\r\n",
    "rmh.merge_rating_matrices(rmh.train_rating_matrix, rmh.test_rating_matrix)\r\n",
    "rmh.final_rating_matrix.dtype"
   ],
   "outputs": [
    {
     "output_type": "execute_result",
     "data": {
      "text/plain": [
       "torch.uint8"
      ]
     },
     "metadata": {},
     "execution_count": 93
    }
   ],
   "metadata": {}
  }
 ],
 "metadata": {
  "orig_nbformat": 4,
  "language_info": {
   "name": "python",
   "version": "3.8.11",
   "mimetype": "text/x-python",
   "codemirror_mode": {
    "name": "ipython",
    "version": 3
   },
   "pygments_lexer": "ipython3",
   "nbconvert_exporter": "python",
   "file_extension": ".py"
  },
  "kernelspec": {
   "name": "python3",
   "display_name": "Python 3.8.11 64-bit ('ba_thesis': conda)"
  },
  "interpreter": {
   "hash": "9c4321509887871942225181aea45e229e5aed2157cb28edcc519edea6ae29dd"
  }
 },
 "nbformat": 4,
 "nbformat_minor": 2
}