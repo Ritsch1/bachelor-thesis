{
 "cells": [
  {
   "cell_type": "code",
   "execution_count": 5,
   "source": [
    "# imports\r\n",
    "import pandas as pd\r\n",
    "import numpy as np\r\n",
    "from IPython.core.debugger import set_trace\r\n",
    "import torch\r\n",
    "import subprocess"
   ],
   "outputs": [],
   "metadata": {
    "execution": {
     "iopub.execute_input": "2021-09-05T15:58:37.368684Z",
     "iopub.status.busy": "2021-09-05T15:58:37.367689Z",
     "iopub.status.idle": "2021-09-05T15:58:38.628111Z",
     "shell.execute_reply": "2021-09-05T15:58:38.628111Z"
    },
    "papermill": {
     "duration": 1.279403,
     "end_time": "2021-09-05T15:58:38.629108",
     "exception": false,
     "start_time": "2021-09-05T15:58:37.349705",
     "status": "completed"
    },
    "tags": []
   }
  },
  {
   "cell_type": "markdown",
   "source": [
    "# Export notebook as python script to the ../python-code - folder"
   ],
   "metadata": {
    "papermill": {
     "duration": 0.009999,
     "end_time": "2021-09-05T15:58:38.645086",
     "exception": false,
     "start_time": "2021-09-05T15:58:38.635087",
     "status": "completed"
    },
    "tags": []
   }
  },
  {
   "cell_type": "code",
   "execution_count": 4,
   "source": [
    "# Export notebook as python script to the ../python-code folder\r\n",
    "subprocess.run(\"jupyter nbconvert --output-dir='../python-code' --to python Rating_Matrix_Handler.ipynb --TemplateExporter.exclude_markdown=True --TemplateExporter.exclude_input_prompt=True\", shell=True)"
   ],
   "outputs": [
    {
     "output_type": "execute_result",
     "data": {
      "text/plain": [
       "CompletedProcess(args=\"jupyter nbconvert --output-dir='../python-code' --to python Rating_Matrix_Handler.ipynb --TemplateExporter.exclude_markdown=True --TemplateExporter.exclude_input_prompt=True\", returncode=0)"
      ]
     },
     "metadata": {},
     "execution_count": 4
    }
   ],
   "metadata": {
    "execution": {
     "iopub.execute_input": "2021-09-05T15:58:38.666091Z",
     "iopub.status.busy": "2021-09-05T15:58:38.665090Z",
     "iopub.status.idle": "2021-09-05T15:58:41.531393Z",
     "shell.execute_reply": "2021-09-05T15:58:41.530396Z"
    },
    "papermill": {
     "duration": 2.880305,
     "end_time": "2021-09-05T15:58:41.531393",
     "exception": false,
     "start_time": "2021-09-05T15:58:38.651088",
     "status": "completed"
    },
    "tags": []
   }
  },
  {
   "cell_type": "markdown",
   "source": [
    "# Rating - Matrix - Handler"
   ],
   "metadata": {
    "papermill": {
     "duration": 0.009997,
     "end_time": "2021-09-05T15:58:41.548389",
     "exception": false,
     "start_time": "2021-09-05T15:58:41.538392",
     "status": "completed"
    },
    "tags": []
   }
  },
  {
   "cell_type": "code",
   "execution_count": 50,
   "source": [
    "class Rating_Matrix_Handler():\r\n",
    "    \"\"\"\r\n",
    "    A class that deals with all Rating-Matrix related issues like merging and masking rating-matrices.\r\n",
    "    \"\"\"\r\n",
    "    \r\n",
    "    def __init__(self, train_rating_matrix:pd.DataFrame, test_rating_matrix:pd.DataFrame, validation_rating_matrix:pd.DataFrame=None):\r\n",
    "        \"\"\"\r\n",
    "        Params:\r\n",
    "            train_rating_matrix (pd.DataFrame): The training rating_matrix on which the TLMF algorithm will be trained upon.\r\n",
    "            validation_rating_matrix (pd.DataFrame): The validation rating_matrix on which the TLMF algorithm can be validated on.\r\n",
    "            test_rating_matrix (pd.DataFrame): The test rating_matrix on which the TLMF algorithm will be tested upon.\r\n",
    "        \"\"\"\r\n",
    "        self.train_rating_matrix = train_rating_matrix\r\n",
    "        self.validation_rating_matrix = validation_rating_matrix\r\n",
    "        self.is_validation_set_available = self.validation_rating_matrix is not None \r\n",
    "        self.test_rating_matrix = test_rating_matrix\r\n",
    "        self.validation_eval_indices = None\r\n",
    "        self.test_eval_indices = None\r\n",
    "        # Initialize GPU for computation if available            \r\n",
    "        machine = \"cuda:0\" if torch.cuda.is_available() else \"cpu\"\r\n",
    "        self.device = torch.device(machine)\r\n",
    "        \r\n",
    "    def create_torch_rating_matrix(self, df:pd.DataFrame, mode:str=\"Test\") -> None:\r\n",
    "        \"\"\"\r\n",
    "        Creates the final rating matrix as torch tensor that is to be trained on.\r\n",
    "        \r\n",
    "        Params:\r\n",
    "            df (pd.DataFrame): Either the test or validation dataframe for which the evaluation indices are calculated.\r\n",
    "            mode (str, optional): The mode for which the evaluation indices of the test or validation matrix are calculated. \r\n",
    "            It can either be \"Test\" or \"Validation\". Defaults to \"Test\".\r\n",
    "        \"\"\"\r\n",
    "        \r\n",
    "        if mode==\"Test\":  \r\n",
    "            self.test_eval_indices = self.get_eval_indices(df)\r\n",
    "        elif mode==\"Validation\":\r\n",
    "            self.validation_eval_indices = self.get_eval_indices(df)\r\n",
    "            \r\n",
    "        self.final_rating_matrix = self.train_rating_matrix.copy() \r\n",
    "        self.final_rating_matrix_w_usernames = self.final_rating_matrix.copy()\r\n",
    "        # Drop the username column as it is non-numeric and can't be converted to a tensor.\r\n",
    "        self.final_rating_matrix.drop(labels=[\"username\"], axis=1, inplace=True)\r\n",
    "        # Set the datatypes of the rating matrix to float16 to save memory and speed up computation while keeping the nan-values (not possible for integer datatype). \r\n",
    "        self.final_rating_matrix = torch.from_numpy(self.final_rating_matrix.values).to(torch.float16).to(self.device)\r\n",
    "        \r\n",
    "    def get_eval_indices(self, df:pd.DataFrame, mode:str=\"Test\") -> dict:\r\n",
    "        \"\"\"\r\n",
    "        Get all indices that are not NaN of the provided dataframe. These indices are later used to evaluate recommender systems on.\r\n",
    "\r\n",
    "        Params:\r\n",
    "            df (pd.DataFrame): Dataframe whose non-null indices have to be found.\r\n",
    "        Returns:\r\n",
    "            dict: A dictionary containg a tuple of (username, row_id) as key associated with a numpy-array containing all the indices of the non-na columns for that username.\r\n",
    "        \"\"\"        \r\n",
    "        # Get all not-null indices from the dataframe\r\n",
    "        mask_idxs = np.argwhere(~pd.isna(df.values))\r\n",
    "        # Build dictionary of unique row-ids associated with sets that will contain the non-na column-ids\r\n",
    "        userid_ratings = {id:set() for id in np.unique(mask_idxs[:,0])}\r\n",
    "        # Add all non-na column indices to the corresponding row-ids\r\n",
    "        for entry in mask_idxs:\r\n",
    "            # Exclude the username column-index from the non - na values, which is the index 0. It is not part of the evaluation\r\n",
    "            if entry[1] == 0:\r\n",
    "                continue\r\n",
    "            # All added column - indices have to be decremented by 1, as the username-column is deleted and they are shifted one index to the left\r\n",
    "            userid_ratings[entry[0]].add(entry[1]-1)\r\n",
    "        # Use a tuples consisting of (username, row_id) as keys for cross-referencing later on\r\n",
    "        username_ratings = {(df.loc[username][\"username\"], username):ratings for username, ratings in userid_ratings.items()}\r\n",
    "        # Cast the set-values to numpy-arrays for later filtering the column-indices depending on the task\r\n",
    "        username_ratings = {username:np.array(list(ratings)) for username,ratings in username_ratings.items()}\r\n",
    "\r\n",
    "        return username_ratings"
   ],
   "outputs": [],
   "metadata": {
    "execution": {
     "iopub.execute_input": "2021-09-05T15:58:41.580390Z",
     "iopub.status.busy": "2021-09-05T15:58:41.579390Z",
     "iopub.status.idle": "2021-09-05T15:58:41.591272Z",
     "shell.execute_reply": "2021-09-05T15:58:41.592275Z"
    },
    "papermill": {
     "duration": 0.035866,
     "end_time": "2021-09-05T15:58:41.592275",
     "exception": false,
     "start_time": "2021-09-05T15:58:41.556409",
     "status": "completed"
    },
    "tags": [
     "parameters"
    ]
   }
  },
  {
   "cell_type": "code",
   "execution_count": 51,
   "source": [
    "train = pd.read_csv(train_path)\r\n",
    "test = pd.read_csv(test_path)\r\n",
    "rmh = Rating_Matrix_Handler(train_rating_matrix=train, test_rating_matrix=test)\r\n",
    "rmh.merge_rating_matrices()"
   ],
   "outputs": [
    {
     "output_type": "stream",
     "name": "stdout",
     "text": [
      "> \u001b[1;32mc:\\users\\rico\\appdata\\local\\temp\\ipykernel_14568\\3127584811.py\u001b[0m(79)\u001b[0;36mget_eval_indices\u001b[1;34m()\u001b[0m\n",
      "\n",
      "{('upekiuser_825', 0): {0, 1, 98, 99, 130, 131, 136, 137, 106, 107, 78, 79, 88, 89, 126, 127}, ('upekiuser_5389', 1): {0, 1, 98, 99, 136, 137, 108, 109, 78, 79, 112, 113, 116, 117, 122, 123}, ('upekiuser_2861', 2): {0, 1, 78, 79, 112, 113, 82, 83, 119, 86, 87, 118, 122, 123, 124, 125}, ('upekiuser_2095', 3): {0, 1, 100, 101, 132, 133, 108, 109, 78, 79, 86, 87, 122, 123, 124, 125}, ('upekiuser_1503', 4): {0, 1, 100, 101, 78, 79, 82, 83, 116, 117, 118, 119, 122, 123, 94, 95}, ('upekiuser_99', 5): {0, 1, 132, 133, 106, 107, 78, 79, 84, 85, 120, 121, 92, 93, 126, 127}, ('upekiuser_3973', 6): {0, 1, 132, 133, 78, 79, 110, 111, 112, 113, 88, 89, 122, 123, 126, 127}, ('upekiuser_1141', 7): {0, 1, 100, 101, 102, 103, 134, 135, 78, 79, 112, 113, 124, 125, 126, 127}, ('upekiuser_2340', 8): {0, 1, 128, 129, 100, 101, 102, 103, 108, 109, 78, 79, 114, 115, 126, 127}, ('upekiuser_1715', 9): {0, 1, 98, 99, 132, 133, 78, 79, 124, 82, 83, 125, 122, 123, 92, 93}, ('upekiuser_1178', 10): {0, 1, 128, 129, 100, 101, 102, 103, 104, 105, 78, 79, 114, 115, 116, 117}, ('upekiuser_3531', 11): {0, 1, 128, 129, 102, 103, 78, 79, 80, 81, 116, 117, 90, 91, 124, 125}, ('upekiuser_2981', 12): {0, 1, 132, 133, 136, 137, 78, 79, 110, 111, 112, 113, 119, 86, 87, 118}, ('upekiuser_1197', 13): {0, 1, 121, 122, 123, 78, 79, 84, 85, 88, 89, 90, 91, 120, 126, 127}, ('upekiuser_3556', 14): {0, 1, 96, 97, 106, 107, 78, 79, 110, 111, 118, 119, 120, 121, 122, 123}, ('upekiuser_5337', 15): {0, 1, 128, 129, 102, 103, 136, 137, 106, 107, 78, 79, 114, 115, 94, 95}, ('upekiuser_3560', 16): {0, 1, 128, 129, 100, 101, 102, 103, 78, 79, 119, 86, 87, 118, 122, 123}, ('upekiuser_1365', 17): {0, 1, 108, 109, 78, 79, 114, 115, 84, 85, 86, 87, 120, 121, 122, 123}, ('upekiuser_5124', 18): {0, 1, 134, 135, 104, 105, 78, 79, 80, 81, 116, 117, 90, 91, 124, 125}, ('upekiuser_1003', 19): {0, 1, 96, 97, 136, 137, 108, 109, 78, 79, 86, 87, 122, 123, 124, 125}, ('upekiuser_298', 20): {0, 1, 99, 102, 103, 136, 137, 108, 109, 78, 79, 80, 81, 116, 117, 120, 121}, ('upekiuser_2012', 21): {0, 1, 96, 97, 78, 79, 114, 115, 84, 85, 118, 119, 92, 93, 126, 127}, ('upekiuser_3477', 22): {0, 1, 98, 99, 128, 129, 104, 105, 78, 79, 82, 83, 120, 121, 122, 123}, ('upekiuser_4855', 23): {0, 1, 106, 107, 78, 79, 112, 113, 84, 85, 118, 119, 122, 123, 124, 125}, ('upekiuser_68', 24): {0, 1, 98, 99, 128, 129, 132, 133, 78, 79, 110, 111, 124, 125, 94, 95}, ('upekiuser_4789', 25): {0, 1, 128, 129, 106, 107, 108, 109, 78, 79, 118, 119, 92, 93, 126, 127}, ('upekiuser_3748', 26): {0, 1, 134, 135, 78, 79, 84, 85, 116, 117, 88, 89, 124, 125, 94, 95}, ('upekiuser_2058', 27): {0, 1, 136, 137, 78, 79, 110, 111, 114, 115, 116, 117, 86, 87, 88, 89}, ('upekiuser_490', 28): {0, 1, 96, 97, 128, 129, 130, 131, 106, 107, 78, 79, 84, 85, 118, 119}, ('upekiuser_1691', 29): {0, 1, 128, 129, 132, 133, 106, 107, 108, 109, 78, 79, 84, 85, 126, 127}, ('upekiuser_3571', 30): {0, 1, 98, 99, 132, 133, 106, 107, 108, 109, 78, 79, 114, 115, 122, 123}, ('upekiuser_1812', 31): {0, 1, 128, 129, 132, 133, 106, 107, 78, 79, 80, 81, 114, 115, 94, 95}, ('upekiuser_1297', 32): {0, 1, 96, 97, 98, 99, 134, 135, 78, 79, 114, 115, 86, 87, 124, 125}, ('upekiuser_4840', 33): {0, 1, 96, 97, 130, 131, 108, 109, 78, 79, 80, 81, 118, 119, 122, 123}, ('upekiuser_4330', 34): {0, 1, 132, 133, 78, 79, 110, 111, 82, 83, 116, 117, 86, 87, 118, 119}, ('upekiuser_469', 35): {0, 1, 98, 99, 128, 129, 130, 131, 78, 79, 112, 113, 84, 85, 120, 121}, ('upekiuser_1231', 36): {0, 1, 130, 131, 132, 133, 78, 79, 124, 125, 86, 87, 88, 89, 92, 93}, ('upekiuser_927', 37): {0, 1, 130, 131, 122, 134, 135, 123, 108, 109, 78, 79, 80, 81, 90, 91}, ('upekiuser_1669', 38): {0, 1, 132, 133, 122, 123, 78, 79, 84, 85, 86, 87, 88, 89, 118, 119}, ('upekiuser_4083', 39): {0, 1, 128, 129, 104, 105, 108, 109, 78, 79, 80, 81, 116, 117, 124, 125}, ('upekiuser_26', 40): {0, 1, 96, 97, 100, 101, 108, 109, 78, 79, 114, 115, 124, 125, 126, 127}, ('upekiuser_338', 41): {0, 1, 98, 99, 134, 135, 136, 137, 106, 107, 78, 79, 84, 85, 126, 127}, ('upekiuser_2128', 42): {0, 1, 128, 129, 122, 123, 78, 79, 82, 83, 116, 117, 86, 87, 90, 91}, ('upekiuser_348', 43): {0, 1, 96, 97, 128, 129, 130, 131, 106, 107, 108, 109, 78, 79, 126, 127}, ('upekiuser_4250', 44): {0, 1, 128, 129, 134, 135, 104, 105, 78, 79, 112, 113, 82, 83, 114, 115}, ('upekiuser_189', 45): {0, 1, 130, 131, 132, 133, 106, 107, 108, 109, 78, 79, 84, 85, 124, 125}, ('upekiuser_2150', 46): {0, 1, 100, 101, 122, 123, 78, 79, 116, 117, 120, 121, 90, 91, 94, 95}, ('upekiuser_1639', 47): {0, 1, 132, 133, 78, 79, 80, 81, 82, 83, 114, 115, 118, 119, 88, 89}, ('upekiuser_1810', 48): {0, 1, 121, 104, 105, 136, 137, 78, 79, 86, 87, 88, 89, 122, 123, 120}, ('upekiuser_596', 49): {0, 1, 98, 99, 122, 123, 78, 79, 80, 81, 118, 119, 120, 121, 90, 91}, ('upekiuser_3581', 50): {0, 1, 106, 107, 78, 79, 84, 85, 116, 117, 90, 91, 124, 125, 126, 127}, ('upekiuser_4544', 51): {0, 1, 96, 97, 106, 107, 78, 79, 114, 115, 84, 85, 120, 121, 126, 127}, ('upekiuser_2388', 52): {0, 1, 128, 129, 132, 133, 78, 79, 80, 81, 84, 85, 122, 123, 94, 95}, ('upekiuser_3853', 53): {0, 1, 96, 97, 100, 101, 130, 131, 104, 105, 136, 137, 78, 79, 122, 123}, ('upekiuser_4061', 54): {0, 1, 128, 129, 132, 133, 102, 103, 106, 107, 78, 79, 84, 85, 116, 117}, ('upekiuser_355', 55): {0, 1, 126, 136, 137, 78, 79, 82, 83, 88, 89, 122, 123, 127, 94, 95}, ('upekiuser_2066', 56): {0, 1, 128, 129, 100, 101, 102, 103, 78, 79, 114, 115, 124, 125, 94, 95}, ('upekiuser_2657', 57): {0, 1, 98, 99, 128, 129, 106, 107, 108, 109, 78, 79, 116, 117, 124, 125}, ('upekiuser_362', 58): {0, 1, 96, 97, 98, 99, 130, 131, 104, 105, 136, 137, 78, 79, 116, 117}, ('upekiuser_246', 59): {0, 1, 121, 100, 101, 78, 79, 110, 111, 124, 88, 89, 120, 125, 126, 127}, ('upekiuser_3195', 60): {0, 1, 98, 99, 132, 133, 106, 107, 108, 109, 78, 79, 120, 121, 122, 123}, ('upekiuser_1752', 61): {0, 1, 134, 135, 136, 137, 78, 79, 80, 81, 118, 119, 90, 91, 94, 95}, ('upekiuser_3301', 62): {0, 1, 128, 129, 100, 101, 136, 137, 78, 79, 110, 111, 88, 89, 124, 125}, ('upekiuser_2373', 63): {0, 1, 130, 131, 132, 133, 106, 107, 78, 79, 112, 113, 116, 117, 94, 95}, ('upekiuser_65', 64): {0, 1, 96, 97, 130, 131, 106, 107, 78, 79, 112, 113, 118, 119, 124, 125}, ('upekiuser_4571', 65): {0, 1, 121, 120, 78, 79, 80, 81, 116, 117, 118, 119, 88, 89, 92, 93}, ('upekiuser_3717', 66): {0, 1, 104, 105, 78, 79, 114, 115, 118, 119, 122, 123, 92, 93, 94, 95}, ('upekiuser_1216', 67): {0, 1, 96, 97, 130, 131, 78, 79, 84, 85, 120, 121, 126, 127, 94, 95}, ('upekiuser_456', 68): {0, 1, 96, 97, 98, 99, 132, 133, 78, 79, 122, 123, 92, 93, 126, 127}, ('upekiuser_1139', 69): {0, 1, 96, 97, 100, 101, 102, 103, 128, 129, 78, 79, 118, 119, 122, 123}, ('upekiuser_1339', 70): {0, 1, 96, 97, 98, 99, 122, 132, 133, 136, 137, 123, 78, 79, 90, 91}, ('upekiuser_976', 71): {0, 1, 130, 131, 132, 133, 106, 107, 78, 79, 82, 83, 116, 117, 86, 87}, ('upekiuser_3238', 72): {0, 1, 100, 101, 78, 79, 82, 83, 84, 85, 116, 117, 120, 121, 124, 125}, ('upekiuser_714', 73): {0, 1, 128, 129, 104, 105, 106, 107, 78, 79, 118, 119, 120, 121, 92, 93}, ('upekiuser_1076', 74): {0, 1, 98, 99, 122, 134, 135, 123, 78, 79, 116, 85, 86, 87, 117, 90, 91}, ('upekiuser_4849', 75): {0, 1, 128, 129, 130, 131, 132, 133, 104, 105, 106, 107, 78, 79, 90, 91}, ('upekiuser_1596', 76): {0, 1, 122, 123, 78, 79, 112, 113, 116, 117, 88, 89, 90, 91, 126, 127}, ('upekiuser_62', 77): {0, 1, 78, 79, 80, 81, 110, 111, 116, 117, 120, 121, 124, 125, 94, 95}, ('upekiuser_4700', 78): {0, 1, 96, 97, 128, 129, 130, 131, 78, 79, 86, 87, 92, 93, 126, 127}, ('upekiuser_864', 79): {0, 1, 96, 97, 100, 101, 128, 129, 78, 79, 118, 119, 122, 123, 94, 95}, ('upekiuser_1999', 80): {0, 1, 96, 97, 121, 136, 137, 120, 78, 79, 88, 89, 122, 123, 92, 93}, ('upekiuser_1579', 81): {0, 1, 98, 99, 78, 79, 110, 111, 118, 119, 122, 123, 92, 93, 126, 127}, ('upekiuser_1025', 82): {0, 1, 128, 129, 132, 133, 78, 79, 84, 85, 86, 87, 90, 91, 124, 125}, ('upekiuser_1957', 83): {0, 1, 108, 109, 78, 79, 110, 111, 84, 85, 120, 121, 124, 125, 126, 127}, ('upekiuser_2459', 84): {0, 1, 78, 79, 80, 81, 112, 113, 84, 85, 116, 117, 124, 125, 126, 127}, ('upekiuser_2057', 85): {0, 1, 132, 133, 102, 103, 136, 137, 106, 107, 78, 79, 110, 111, 122, 123}, ('upekiuser_2619', 86): {0, 1, 132, 133, 134, 135, 78, 79, 80, 81, 110, 111, 90, 91, 124, 125}, ('upekiuser_3786', 87): {0, 1, 130, 131, 78, 79, 80, 81, 82, 83, 112, 113, 120, 121, 124, 125}, ('upekiuser_3567', 88): {0, 1, 134, 135, 106, 107, 108, 109, 78, 79, 110, 111, 116, 117, 120, 121}, ('upekiuser_3845', 89): {0, 1, 128, 129, 102, 103, 122, 123, 78, 79, 110, 111, 90, 91, 124, 125}, ('upekiuser_218', 90): {0, 1, 96, 97, 128, 129, 130, 131, 78, 79, 88, 89, 126, 127, 94, 95}, ('upekiuser_674', 91): {0, 1, 130, 131, 132, 133, 108, 109, 78, 79, 82, 83, 116, 117, 94, 95}, ('upekiuser_4685', 92): {0, 1, 128, 129, 78, 79, 80, 81, 110, 111, 114, 115, 90, 91, 124, 125}, ('upekiuser_4116', 93): {0, 1, 100, 101, 78, 79, 84, 85, 86, 87, 116, 117, 124, 125, 126, 127}, ('upekiuser_3016', 94): {0, 1, 96, 97, 128, 129, 102, 103, 132, 133, 78, 79, 84, 85, 118, 119}, ('upekiuser_260', 95): {0, 1, 100, 101, 132, 133, 104, 105, 106, 107, 78, 79, 114, 115, 122, 123}, ('upekiuser_2276', 96): {0, 1, 132, 133, 136, 137, 106, 107, 78, 79, 110, 111, 86, 87, 120, 121}, ('upekiuser_3229', 97): {0, 1, 134, 135, 78, 79, 112, 113, 82, 83, 116, 117, 86, 87, 118, 119}, ('upekiuser_40', 98): {0, 1, 130, 131, 78, 79, 110, 111, 82, 83, 112, 113, 114, 115, 118, 119}, ('upekiuser_106', 99): {0, 1, 98, 99, 128, 129, 136, 137, 108, 109, 78, 79, 82, 83, 124, 125}, ('upekiuser_972', 100): {0, 1, 96, 97, 108, 109, 78, 79, 110, 111, 116, 117, 124, 125, 126, 127}, ('upekiuser_4614', 101): {0, 1, 100, 101, 78, 79, 110, 111, 114, 115, 124, 125, 92, 93, 126, 127}, ('upekiuser_1601', 102): {0, 1, 130, 131, 132, 133, 106, 107, 108, 109, 78, 79, 86, 87, 126, 127}, ('upekiuser_3619', 103): {0, 1, 98, 99, 102, 103, 78, 79, 114, 115, 118, 119, 88, 89, 122, 123}, ('upekiuser_3907', 104): {0, 1, 102, 103, 134, 135, 78, 79, 116, 117, 90, 91, 124, 125, 94, 95}, ('upekiuser_492', 105): {0, 1, 132, 133, 102, 103, 78, 79, 80, 81, 114, 115, 120, 121, 92, 93}, ('upekiuser_547', 106): {0, 1, 132, 133, 134, 135, 104, 105, 108, 109, 78, 79, 126, 127, 94, 95}, ('upekiuser_5387', 107): {0, 1, 98, 99, 130, 131, 134, 135, 106, 107, 108, 109, 78, 79, 126, 127}, ('upekiuser_2597', 108): {0, 1, 96, 97, 102, 103, 136, 137, 78, 79, 114, 115, 120, 121, 92, 93}, ('upekiuser_4294', 109): {0, 1, 132, 133, 104, 105, 136, 137, 78, 79, 110, 111, 120, 121, 92, 93}, ('upekiuser_866', 110): {0, 1, 128, 129, 132, 133, 108, 109, 78, 79, 80, 81, 116, 117, 94, 95}, ('upekiuser_2361', 111): {0, 1, 102, 103, 108, 109, 78, 79, 110, 111, 118, 119, 120, 121, 122, 123}, ('upekiuser_2712', 112): {0, 1, 98, 99, 128, 129, 102, 103, 134, 135, 78, 79, 90, 91, 126, 127}, ('upekiuser_2063', 113): {0, 1, 132, 133, 104, 105, 78, 79, 80, 81, 116, 117, 118, 119, 90, 91}, ('upekiuser_4361', 114): {0, 1, 100, 101, 104, 105, 108, 109, 78, 79, 118, 119, 120, 121, 124, 125}, ('upekiuser_1568', 115): {0, 1, 128, 129, 78, 79, 80, 81, 112, 113, 114, 115, 118, 119, 92, 93}, ('upekiuser_1343', 116): {0, 1, 136, 137, 78, 79, 114, 115, 84, 85, 118, 119, 90, 91, 92, 93}, ('upekiuser_3104', 117): {0, 1, 100, 101, 132, 133, 106, 107, 78, 79, 124, 125, 120, 121, 92, 93}, ('upekiuser_1754', 118): {0, 1, 132, 133, 108, 109, 78, 79, 80, 81, 114, 115, 118, 119, 90, 91}, ('upekiuser_1353', 119): {0, 1, 132, 133, 134, 135, 136, 137, 78, 79, 112, 113, 82, 83, 86, 87}, ('upekiuser_1747', 120): {0, 1, 98, 99, 130, 131, 78, 79, 80, 81, 114, 115, 116, 117, 90, 91}, ('upekiuser_241', 121): {0, 1, 128, 129, 132, 133, 106, 107, 78, 79, 86, 87, 88, 89, 126, 127}, ('upekiuser_2610', 122): {0, 1, 96, 97, 128, 129, 130, 131, 78, 79, 80, 81, 124, 125, 92, 93}, ('upekiuser_559', 123): {0, 1, 100, 101, 132, 133, 78, 79, 80, 81, 116, 117, 88, 89, 122, 123}, ('upekiuser_4202', 124): {0, 1, 128, 129, 134, 135, 106, 107, 78, 79, 88, 89, 122, 123, 94, 95}, ('upekiuser_4830', 125): {0, 1, 96, 97, 98, 99, 130, 131, 136, 137, 78, 79, 86, 87, 122, 123}, ('upekiuser_4748', 126): {0, 1, 130, 131, 102, 103, 134, 135, 106, 107, 78, 79, 112, 113, 124, 125}, ('upekiuser_1681', 127): {0, 1, 130, 131, 78, 79, 112, 113, 82, 83, 116, 117, 122, 123, 92, 93}, ('upekiuser_3407', 128): {0, 1, 98, 99, 130, 131, 102, 103, 132, 133, 78, 79, 110, 111, 118, 119}, ('upekiuser_4125', 129): {0, 1, 100, 101, 136, 137, 106, 107, 78, 79, 88, 89, 124, 125, 126, 127}, ('upekiuser_135', 130): {0, 1, 128, 129, 108, 109, 78, 79, 124, 82, 83, 125, 118, 119, 92, 93}, ('upekiuser_1571', 131): {0, 1, 134, 135, 136, 137, 108, 109, 78, 79, 114, 115, 86, 87, 88, 89}, ('upekiuser_1442', 132): {0, 1, 96, 97, 100, 101, 104, 105, 78, 79, 114, 115, 116, 117, 124, 125}, ('upekiuser_1189', 133): {0, 1, 98, 99, 132, 133, 78, 79, 82, 83, 118, 119, 124, 125, 94, 95}, ('upekiuser_2372', 134): {0, 1, 122, 123, 78, 79, 114, 115, 84, 85, 118, 119, 90, 91, 92, 93}, ('upekiuser_2911', 135): {0, 1, 130, 131, 100, 101, 104, 105, 78, 79, 86, 87, 122, 123, 124, 125}, ('upekiuser_1047', 136): {0, 1, 98, 99, 128, 129, 102, 103, 132, 133, 78, 79, 126, 127, 94, 95}, ('upekiuser_2480', 137): {0, 1, 108, 109, 78, 79, 114, 115, 86, 87, 88, 89, 124, 125, 126, 127}, ('upekiuser_4646', 138): {0, 1, 100, 101, 134, 135, 78, 79, 124, 84, 85, 116, 117, 125, 92, 93}, ('upekiuser_624', 139): {0, 1, 98, 99, 128, 129, 104, 105, 78, 79, 112, 113, 114, 115, 118, 119}, ('upekiuser_3464', 140): {0, 1, 98, 99, 102, 103, 78, 79, 116, 117, 118, 119, 126, 127, 94, 95}, ('upekiuser_2024', 141): {0, 1, 134, 135, 78, 79, 82, 83, 84, 85, 116, 117, 118, 119, 92, 93}, ('upekiuser_3676', 142): {0, 1, 104, 105, 136, 137, 78, 79, 110, 111, 112, 113, 122, 123, 124, 125}, ('upekiuser_2880', 143): {0, 1, 130, 131, 122, 123, 78, 79, 112, 113, 88, 89, 90, 91, 124, 125}, ('upekiuser_4142', 144): {0, 1, 102, 103, 136, 137, 108, 109, 78, 79, 114, 115, 88, 89, 124, 125}}\n"
     ]
    },
    {
     "output_type": "error",
     "ename": "BdbQuit",
     "evalue": "",
     "traceback": [
      "\u001b[1;31m---------------------------------------------------------------------------\u001b[0m",
      "\u001b[1;31mBdbQuit\u001b[0m                                   Traceback (most recent call last)",
      "\u001b[1;32m~\\AppData\\Local\\Temp/ipykernel_14568/4092866805.py\u001b[0m in \u001b[0;36m<module>\u001b[1;34m\u001b[0m\n\u001b[0;32m      2\u001b[0m \u001b[0mtest\u001b[0m \u001b[1;33m=\u001b[0m \u001b[0mpd\u001b[0m\u001b[1;33m.\u001b[0m\u001b[0mread_csv\u001b[0m\u001b[1;33m(\u001b[0m\u001b[1;34m\"C:\\\\Users\\\\Rico\\\\Desktop\\\\Diverses\\\\bachelorarbeit\\\\bachelor-thesis\\\\data\\\\T1_T2\\\\test.csv\"\u001b[0m\u001b[1;33m)\u001b[0m\u001b[1;33m\u001b[0m\u001b[1;33m\u001b[0m\u001b[0m\n\u001b[0;32m      3\u001b[0m \u001b[0mrmh\u001b[0m \u001b[1;33m=\u001b[0m \u001b[0mRating_Matrix_Handler\u001b[0m\u001b[1;33m(\u001b[0m\u001b[0mtrain_rating_matrix\u001b[0m\u001b[1;33m=\u001b[0m\u001b[0mtrain\u001b[0m\u001b[1;33m,\u001b[0m \u001b[0mtest_rating_matrix\u001b[0m\u001b[1;33m=\u001b[0m\u001b[0mtest\u001b[0m\u001b[1;33m)\u001b[0m\u001b[1;33m\u001b[0m\u001b[1;33m\u001b[0m\u001b[0m\n\u001b[1;32m----> 4\u001b[1;33m \u001b[0mrmh\u001b[0m\u001b[1;33m.\u001b[0m\u001b[0mmerge_rating_matrices\u001b[0m\u001b[1;33m(\u001b[0m\u001b[1;33m)\u001b[0m\u001b[1;33m\u001b[0m\u001b[1;33m\u001b[0m\u001b[0m\n\u001b[0m",
      "\u001b[1;32m~\\AppData\\Local\\Temp/ipykernel_14568/3127584811.py\u001b[0m in \u001b[0;36mmerge_rating_matrices\u001b[1;34m(self, dim, mode)\u001b[0m\n\u001b[0;32m     34\u001b[0m         \u001b[1;32mif\u001b[0m \u001b[0mmode\u001b[0m\u001b[1;33m==\u001b[0m\u001b[1;34m\"Test\"\u001b[0m\u001b[1;33m:\u001b[0m\u001b[1;33m\u001b[0m\u001b[1;33m\u001b[0m\u001b[0m\n\u001b[0;32m     35\u001b[0m             \u001b[0mdf\u001b[0m \u001b[1;33m=\u001b[0m \u001b[0mself\u001b[0m\u001b[1;33m.\u001b[0m\u001b[0mtest_rating_matrix\u001b[0m\u001b[1;33m\u001b[0m\u001b[1;33m\u001b[0m\u001b[0m\n\u001b[1;32m---> 36\u001b[1;33m             \u001b[0mself\u001b[0m\u001b[1;33m.\u001b[0m\u001b[0mtest_eval_indices\u001b[0m \u001b[1;33m=\u001b[0m \u001b[0mself\u001b[0m\u001b[1;33m.\u001b[0m\u001b[0mget_eval_indices\u001b[0m\u001b[1;33m(\u001b[0m\u001b[0mdf\u001b[0m\u001b[1;33m)\u001b[0m\u001b[1;33m\u001b[0m\u001b[1;33m\u001b[0m\u001b[0m\n\u001b[0m\u001b[0;32m     37\u001b[0m         \u001b[1;32melif\u001b[0m \u001b[0mmode\u001b[0m\u001b[1;33m==\u001b[0m\u001b[1;34m\"Validation\"\u001b[0m\u001b[1;33m:\u001b[0m\u001b[1;33m\u001b[0m\u001b[1;33m\u001b[0m\u001b[0m\n\u001b[0;32m     38\u001b[0m             \u001b[0mdf\u001b[0m \u001b[1;33m=\u001b[0m \u001b[0mself\u001b[0m\u001b[1;33m.\u001b[0m\u001b[0mvalidation_rating_matrix\u001b[0m\u001b[1;33m\u001b[0m\u001b[1;33m\u001b[0m\u001b[0m\n",
      "\u001b[1;32m~\\AppData\\Local\\Temp/ipykernel_14568/3127584811.py\u001b[0m in \u001b[0;36mget_eval_indices\u001b[1;34m(self, df, mode)\u001b[0m\n\u001b[0;32m     77\u001b[0m         \u001b[0mset_trace\u001b[0m\u001b[1;33m(\u001b[0m\u001b[1;33m)\u001b[0m\u001b[1;33m\u001b[0m\u001b[1;33m\u001b[0m\u001b[0m\n\u001b[0;32m     78\u001b[0m         \u001b[1;31m# Cast the set-values to numpy-arrays for later filtering the column-indices depending on the task\u001b[0m\u001b[1;33m\u001b[0m\u001b[1;33m\u001b[0m\u001b[1;33m\u001b[0m\u001b[0m\n\u001b[1;32m---> 79\u001b[1;33m         \u001b[0musername_ratings\u001b[0m \u001b[1;33m=\u001b[0m \u001b[1;33m{\u001b[0m\u001b[0musername\u001b[0m\u001b[1;33m:\u001b[0m\u001b[0mnp\u001b[0m\u001b[1;33m.\u001b[0m\u001b[0marray\u001b[0m\u001b[1;33m(\u001b[0m\u001b[0mlist\u001b[0m\u001b[1;33m(\u001b[0m\u001b[0mratings\u001b[0m\u001b[1;33m)\u001b[0m\u001b[1;33m)\u001b[0m \u001b[1;32mfor\u001b[0m \u001b[0musername\u001b[0m\u001b[1;33m,\u001b[0m\u001b[0mratings\u001b[0m \u001b[1;32min\u001b[0m \u001b[0musername_ratings\u001b[0m\u001b[1;33m.\u001b[0m\u001b[0mitems\u001b[0m\u001b[1;33m(\u001b[0m\u001b[1;33m)\u001b[0m\u001b[1;33m}\u001b[0m\u001b[1;33m\u001b[0m\u001b[1;33m\u001b[0m\u001b[0m\n\u001b[0m\u001b[0;32m     80\u001b[0m \u001b[1;33m\u001b[0m\u001b[0m\n\u001b[0;32m     81\u001b[0m         \u001b[1;32mreturn\u001b[0m \u001b[0musername_ratings\u001b[0m\u001b[1;33m\u001b[0m\u001b[1;33m\u001b[0m\u001b[0m\n",
      "\u001b[1;32m~\\AppData\\Local\\Temp/ipykernel_14568/3127584811.py\u001b[0m in \u001b[0;36mget_eval_indices\u001b[1;34m(self, df, mode)\u001b[0m\n\u001b[0;32m     77\u001b[0m         \u001b[0mset_trace\u001b[0m\u001b[1;33m(\u001b[0m\u001b[1;33m)\u001b[0m\u001b[1;33m\u001b[0m\u001b[1;33m\u001b[0m\u001b[0m\n\u001b[0;32m     78\u001b[0m         \u001b[1;31m# Cast the set-values to numpy-arrays for later filtering the column-indices depending on the task\u001b[0m\u001b[1;33m\u001b[0m\u001b[1;33m\u001b[0m\u001b[1;33m\u001b[0m\u001b[0m\n\u001b[1;32m---> 79\u001b[1;33m         \u001b[0musername_ratings\u001b[0m \u001b[1;33m=\u001b[0m \u001b[1;33m{\u001b[0m\u001b[0musername\u001b[0m\u001b[1;33m:\u001b[0m\u001b[0mnp\u001b[0m\u001b[1;33m.\u001b[0m\u001b[0marray\u001b[0m\u001b[1;33m(\u001b[0m\u001b[0mlist\u001b[0m\u001b[1;33m(\u001b[0m\u001b[0mratings\u001b[0m\u001b[1;33m)\u001b[0m\u001b[1;33m)\u001b[0m \u001b[1;32mfor\u001b[0m \u001b[0musername\u001b[0m\u001b[1;33m,\u001b[0m\u001b[0mratings\u001b[0m \u001b[1;32min\u001b[0m \u001b[0musername_ratings\u001b[0m\u001b[1;33m.\u001b[0m\u001b[0mitems\u001b[0m\u001b[1;33m(\u001b[0m\u001b[1;33m)\u001b[0m\u001b[1;33m}\u001b[0m\u001b[1;33m\u001b[0m\u001b[1;33m\u001b[0m\u001b[0m\n\u001b[0m\u001b[0;32m     80\u001b[0m \u001b[1;33m\u001b[0m\u001b[0m\n\u001b[0;32m     81\u001b[0m         \u001b[1;32mreturn\u001b[0m \u001b[0musername_ratings\u001b[0m\u001b[1;33m\u001b[0m\u001b[1;33m\u001b[0m\u001b[0m\n",
      "\u001b[1;32m~\\miniconda3\\envs\\ba_thesis\\lib\\bdb.py\u001b[0m in \u001b[0;36mtrace_dispatch\u001b[1;34m(self, frame, event, arg)\u001b[0m\n\u001b[0;32m     86\u001b[0m             \u001b[1;32mreturn\u001b[0m \u001b[1;31m# None\u001b[0m\u001b[1;33m\u001b[0m\u001b[1;33m\u001b[0m\u001b[0m\n\u001b[0;32m     87\u001b[0m         \u001b[1;32mif\u001b[0m \u001b[0mevent\u001b[0m \u001b[1;33m==\u001b[0m \u001b[1;34m'line'\u001b[0m\u001b[1;33m:\u001b[0m\u001b[1;33m\u001b[0m\u001b[1;33m\u001b[0m\u001b[0m\n\u001b[1;32m---> 88\u001b[1;33m             \u001b[1;32mreturn\u001b[0m \u001b[0mself\u001b[0m\u001b[1;33m.\u001b[0m\u001b[0mdispatch_line\u001b[0m\u001b[1;33m(\u001b[0m\u001b[0mframe\u001b[0m\u001b[1;33m)\u001b[0m\u001b[1;33m\u001b[0m\u001b[1;33m\u001b[0m\u001b[0m\n\u001b[0m\u001b[0;32m     89\u001b[0m         \u001b[1;32mif\u001b[0m \u001b[0mevent\u001b[0m \u001b[1;33m==\u001b[0m \u001b[1;34m'call'\u001b[0m\u001b[1;33m:\u001b[0m\u001b[1;33m\u001b[0m\u001b[1;33m\u001b[0m\u001b[0m\n\u001b[0;32m     90\u001b[0m             \u001b[1;32mreturn\u001b[0m \u001b[0mself\u001b[0m\u001b[1;33m.\u001b[0m\u001b[0mdispatch_call\u001b[0m\u001b[1;33m(\u001b[0m\u001b[0mframe\u001b[0m\u001b[1;33m,\u001b[0m \u001b[0marg\u001b[0m\u001b[1;33m)\u001b[0m\u001b[1;33m\u001b[0m\u001b[1;33m\u001b[0m\u001b[0m\n",
      "\u001b[1;32m~\\miniconda3\\envs\\ba_thesis\\lib\\bdb.py\u001b[0m in \u001b[0;36mdispatch_line\u001b[1;34m(self, frame)\u001b[0m\n\u001b[0;32m    111\u001b[0m         \u001b[1;32mif\u001b[0m \u001b[0mself\u001b[0m\u001b[1;33m.\u001b[0m\u001b[0mstop_here\u001b[0m\u001b[1;33m(\u001b[0m\u001b[0mframe\u001b[0m\u001b[1;33m)\u001b[0m \u001b[1;32mor\u001b[0m \u001b[0mself\u001b[0m\u001b[1;33m.\u001b[0m\u001b[0mbreak_here\u001b[0m\u001b[1;33m(\u001b[0m\u001b[0mframe\u001b[0m\u001b[1;33m)\u001b[0m\u001b[1;33m:\u001b[0m\u001b[1;33m\u001b[0m\u001b[1;33m\u001b[0m\u001b[0m\n\u001b[0;32m    112\u001b[0m             \u001b[0mself\u001b[0m\u001b[1;33m.\u001b[0m\u001b[0muser_line\u001b[0m\u001b[1;33m(\u001b[0m\u001b[0mframe\u001b[0m\u001b[1;33m)\u001b[0m\u001b[1;33m\u001b[0m\u001b[1;33m\u001b[0m\u001b[0m\n\u001b[1;32m--> 113\u001b[1;33m             \u001b[1;32mif\u001b[0m \u001b[0mself\u001b[0m\u001b[1;33m.\u001b[0m\u001b[0mquitting\u001b[0m\u001b[1;33m:\u001b[0m \u001b[1;32mraise\u001b[0m \u001b[0mBdbQuit\u001b[0m\u001b[1;33m\u001b[0m\u001b[1;33m\u001b[0m\u001b[0m\n\u001b[0m\u001b[0;32m    114\u001b[0m         \u001b[1;32mreturn\u001b[0m \u001b[0mself\u001b[0m\u001b[1;33m.\u001b[0m\u001b[0mtrace_dispatch\u001b[0m\u001b[1;33m\u001b[0m\u001b[1;33m\u001b[0m\u001b[0m\n\u001b[0;32m    115\u001b[0m \u001b[1;33m\u001b[0m\u001b[0m\n",
      "\u001b[1;31mBdbQuit\u001b[0m: "
     ]
    }
   ],
   "metadata": {
    "execution": {
     "iopub.execute_input": "2021-09-05T15:58:41.644258Z",
     "iopub.status.busy": "2021-09-05T15:58:41.643258Z",
     "iopub.status.idle": "2021-09-05T15:58:41.717259Z",
     "shell.execute_reply": "2021-09-05T15:58:41.716254Z"
    },
    "papermill": {
     "duration": 0.087997,
     "end_time": "2021-09-05T15:58:41.717259",
     "exception": false,
     "start_time": "2021-09-05T15:58:41.629262",
     "status": "completed"
    },
    "tags": []
   }
  }
 ],
 "metadata": {
  "celltoolbar": "Tags",
  "interpreter": {
   "hash": "9c4321509887871942225181aea45e229e5aed2157cb28edcc519edea6ae29dd"
  },
  "kernelspec": {
   "name": "python3",
   "display_name": "Python 3.8.11 64-bit ('ba_thesis': conda)"
  },
  "language_info": {
   "codemirror_mode": {
    "name": "ipython",
    "version": 3
   },
   "file_extension": ".py",
   "mimetype": "text/x-python",
   "name": "python",
   "nbconvert_exporter": "python",
   "pygments_lexer": "ipython3",
   "version": "3.8.11"
  },
  "papermill": {
   "default_parameters": {},
   "duration": 7.611669,
   "end_time": "2021-09-05T15:58:42.397255",
   "environment_variables": {},
   "exception": null,
   "input_path": "Rating_Matrix_Handler.ipynb",
   "output_path": "Rating_Matrix_Handler.ipynb",
   "parameters": {
    "test_path": "C:\\Users\\Rico\\Desktop\\Diverses\\bachelorarbeit\\bachelor-thesis\\data\\T1_T2\\test.csv",
    "train_path": "C:\\Users\\Rico\\Desktop\\Diverses\\bachelorarbeit\\bachelor-thesis\\data\\T1_T2\\train.csv"
   },
   "start_time": "2021-09-05T15:58:34.785586",
   "version": "2.3.3"
  }
 },
 "nbformat": 4,
 "nbformat_minor": 5
}