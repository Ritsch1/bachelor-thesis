{
 "cells": [
  {
   "cell_type": "code",
   "execution_count": 7,
   "source": [
    "# imports\r\n",
    "import pandas as pd\r\n",
    "import numpy as np\r\n",
    "from IPython.core.debugger import set_trace\r\n",
    "import torch\r\n",
    "from collections import namedtuple"
   ],
   "outputs": [],
   "metadata": {}
  },
  {
   "cell_type": "markdown",
   "source": [
    "# Export notebook as python script to the ../python-code - folder"
   ],
   "metadata": {}
  },
  {
   "cell_type": "code",
   "execution_count": 1,
   "source": [
    "!jupyter nbconvert --output-dir=\"../python-code\" --to python Rating_Matrix_Handler.ipynb --TemplateExporter.exclude_markdown=True --TemplateExporter.exclude_input_prompt=True"
   ],
   "outputs": [
    {
     "output_type": "stream",
     "name": "stderr",
     "text": [
      "[NbConvertApp] Converting notebook Rating_Matrix_Handler.ipynb to python\n",
      "[NbConvertApp] Writing 5313 bytes to ..\\python-code\\Rating_Matrix_Handler.py\n"
     ]
    }
   ],
   "metadata": {}
  },
  {
   "cell_type": "markdown",
   "source": [
    "# Rating - Matrix - Handler"
   ],
   "metadata": {}
  },
  {
   "cell_type": "code",
   "execution_count": 60,
   "source": [
    "\r\n",
    "\r\n",
    "class Rating_Matrix_Handler():\r\n",
    "    \"\"\"\r\n",
    "    A class that deals with all Rating-Matrix related issues like merging and masking rating-matrices.\r\n",
    "    \"\"\"\r\n",
    "    \r\n",
    "    def __init__(self, train_rating_matrix:pd.DataFrame, test_rating_matrix:pd.DataFrame, validation_rating_matrix:pd.DataFrame=None):\r\n",
    "        \"\"\"\r\n",
    "        Params:\r\n",
    "            train_rating_matrix (pd.DataFrame): The training rating_matrix on which the TLMF algorithm will be trained upon.\r\n",
    "            validation_rating_matrix (pd.DataFrame): The validation rating_matrix on which the TLMF algorithm can be validated on.\r\n",
    "            test_rating_matrix (pd.DataFrame): The test rating_matrix on which the TLMF algorithm will be tested upon.\r\n",
    "        \"\"\"\r\n",
    "        self.train_rating_matrix = train_rating_matrix\r\n",
    "        self.validation_rating_matrix = validation_rating_matrix\r\n",
    "        self.is_validation_set_available = self.validation_rating_matrix is not None \r\n",
    "        self.test_rating_matrix = test_rating_matrix\r\n",
    "        self.validation_mask_indices = None\r\n",
    "        self.test_mask_indices = None\r\n",
    "        # Initialize GPU for computation if available            \r\n",
    "        machine = \"cuda:0\" if torch.cuda.is_available() else \"cpu\"\r\n",
    "        self.device = torch.device(machine)\r\n",
    "        \r\n",
    "    def get_distinct_args(self) -> None:\r\n",
    "        \"\"\"\r\n",
    "        Get all arguments from the validation (if available) and test-set, such that only arguments are added to the final rating matrix that were not already in the training - set.\r\n",
    "        \"\"\"\r\n",
    "        # Get all training arguments and exclude the username as the first column of the dataframe\r\n",
    "        train_args = set([arg for arg in self.train_rating_matrix.columns][1:])\r\n",
    "        # Check if validation set is available\r\n",
    "        if self.is_validation_set_available:\r\n",
    "            # Get all validation arguments and exclude the username as the first column of the dataframe\r\n",
    "            validation_args = set([arg for arg in self.validation_rating_matrix.columns][1:])\r\n",
    "            validation_args = list(validation_args.difference(train_args))\r\n",
    "        else:\r\n",
    "            validation_args = None\r\n",
    "        # Get all test arguments and exclude the username as the first column of the dataframe\r\n",
    "        test_args = set([arg for arg in self.test_rating_matrix.columns][1:])\r\n",
    "        test_args = list(test_args.difference(train_args))\r\n",
    "        Args = namedtuple(\"Args\", [\"train\", \"validation\", \"test\"])\r\n",
    "        self.distinct_args = Args(train=train_args, validation=validation_args, test=test_args)\r\n",
    "    \r\n",
    "    def select_distinct_args(self) -> None:\r\n",
    "        \"\"\"\r\n",
    "        Prune the validation and test rating matrix to their distinct arguments.\r\n",
    "        \"\"\"\r\n",
    "        username_col = [\"username\"]\r\n",
    "        self.test_rating_matrix = self.test_rating_matrix[username_col + self.distinct_args.test]\r\n",
    "        if self.is_validation_set_available:\r\n",
    "            self.validation_rating_matrix = self.validation_rating_matrix[username_col + self.distinct_args.validation]\r\n",
    "\r\n",
    "    def merge_rating_matrices(self, *rating_matrices:pd.DataFrame, dim:int=1) -> None:\r\n",
    "        \"\"\"\r\n",
    "        Merges different rating-matrices together on identical users e.g. a training and a test rating - matrix.\r\n",
    "        \r\n",
    "        Params:\r\n",
    "            *rating_matrices: An arbitrary number of rating_matrices to be combined along the given dimension.\r\n",
    "            dim (int): The dimension along which rating matrices are merged. Defaults to 1, as the set of user present in both rating matrices are evaluated. \r\n",
    "        \"\"\"\r\n",
    "        \r\n",
    "        # Assertions\r\n",
    "        assert len(rating_matrices) > 0, \"No rating-matrix was provided.\"\r\n",
    "        assert dim >= 0, \"Dimension must be non-negative.\"\r\n",
    "        dims = []\r\n",
    "        for i, r in enumerate(rating_matrices):\r\n",
    "            dims.append(len(r.shape))\r\n",
    "            assert dim <= dims[i], \"f The given dimension - value {dim} is too big for the dimensions of the given rating-matrices.\"\r\n",
    "        assert len(set(dims)) == 1, \"All rating matrices need to have the same number of dimensions.\"\r\n",
    "        \r\n",
    "        if len(rating_matrices) == 1:\r\n",
    "            print(\"Only one rating matrix provided, returning it without change.\")\r\n",
    "            return rating_matrices[0]\r\n",
    "        else:\r\n",
    "            # Only keep data for users that are present in both rating matrices.\r\n",
    "            final_rating_matrix = rating_matrices[0]\r\n",
    "            for r in (rating_matrices[1:]):\r\n",
    "                final_rating_matrix = final_rating_matrix.merge(right=r, how=\"inner\", on=\"username\")\r\n",
    "            \r\n",
    "            # Drop the username column as it is non-numeric and can't be converted to a tensor.\r\n",
    "            # set_trace()\r\n",
    "            final_rating_matrix.drop(labels=[\"username\"], axis=1, inplace=True)\r\n",
    "            # set_trace()\r\n",
    "            # Set the datatypes of the rating matrix to float16 to save memory and speed up computation while keeping the nan-values (not possible for integer datatype). \r\n",
    "            self.final_rating_matrix =  torch.from_numpy(final_rating_matrix.values).to(torch.float16).to(self.device)\r\n",
    "          \r\n",
    "    def get_masking_indices(self, df:pd.DataFrame) -> torch.tensor:\r\n",
    "        \"\"\"\r\n",
    "        Get all indices that are not NaN of the provided dataframe.\r\n",
    "\r\n",
    "        Args:\r\n",
    "            df (pd.DataFrame): Dataframe whose non-null indices have to be found.\r\n",
    "\r\n",
    "        Returns:\r\n",
    "            torch.tensor: A torch tensor containing all non-null indices of the dataframe df.\r\n",
    "        \"\"\"\r\n",
    "        # Get all not-null indices from the dataframe\r\n",
    "        mask_idxs =  np.argwhere(~pd.isna(df.values))\r\n",
    "        return torch.from_numpy(mask_idxs).int().to(self.device)"
   ],
   "outputs": [],
   "metadata": {}
  },
  {
   "cell_type": "code",
   "execution_count": 55,
   "source": [
    "\r\n",
    "\r\n",
    "train = pd.read_csv(\"../../data/T1_T2/train.csv\")\r\n",
    "test = pd.read_csv(\"../../data/T1_T2/test.csv\")\r\n",
    "rmh = Rating_Matrix_Handler(train_rating_matrix=train, test_rating_matrix=test)\r\n",
    "rmh.get_distinct_args()\r\n",
    "rmh.select_distinct_args()\r\n",
    "rmh.merge_rating_matrices(rmh.train_rating_matrix, rmh.test_rating_matrix)\r\n",
    "rmh.final_rating_matrix.dtype"
   ],
   "outputs": [
    {
     "output_type": "execute_result",
     "data": {
      "text/plain": [
       "torch.float16"
      ]
     },
     "metadata": {},
     "execution_count": 55
    }
   ],
   "metadata": {}
  }
 ],
 "metadata": {
  "orig_nbformat": 4,
  "language_info": {
   "name": "python",
   "version": "3.8.11",
   "mimetype": "text/x-python",
   "codemirror_mode": {
    "name": "ipython",
    "version": 3
   },
   "pygments_lexer": "ipython3",
   "nbconvert_exporter": "python",
   "file_extension": ".py"
  },
  "kernelspec": {
   "name": "python3",
   "display_name": "Python 3.8.11 64-bit ('ba_thesis': conda)"
  },
  "interpreter": {
   "hash": "9c4321509887871942225181aea45e229e5aed2157cb28edcc519edea6ae29dd"
  }
 },
 "nbformat": 4,
 "nbformat_minor": 2
}