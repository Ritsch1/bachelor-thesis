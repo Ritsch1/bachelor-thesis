{
 "cells": [
  {
   "cell_type": "code",
   "execution_count": null,
   "id": "09bd437d",
   "metadata": {
    "execution": {
     "iopub.execute_input": "2021-09-05T15:58:37.368684Z",
     "iopub.status.busy": "2021-09-05T15:58:37.367689Z",
     "iopub.status.idle": "2021-09-05T15:58:38.628111Z",
     "shell.execute_reply": "2021-09-05T15:58:38.628111Z"
    },
    "papermill": {
     "duration": 1.279403,
     "end_time": "2021-09-05T15:58:38.629108",
     "exception": false,
     "start_time": "2021-09-05T15:58:37.349705",
     "status": "completed"
    },
    "tags": []
   },
   "outputs": [],
   "source": [
    "# imports\n",
    "import pandas as pd\n",
    "import numpy as np\n",
    "import torch\n",
    "import subprocess\n",
    "import warnings\n",
    "warnings.filterwarnings('ignore')"
   ]
  },
  {
   "cell_type": "markdown",
   "id": "9fdd05d4",
   "metadata": {
    "papermill": {
     "duration": 0.009999,
     "end_time": "2021-09-05T15:58:38.645086",
     "exception": false,
     "start_time": "2021-09-05T15:58:38.635087",
     "status": "completed"
    },
    "tags": []
   },
   "source": [
    "# Export notebook as python script to the ../python-code - folder"
   ]
  },
  {
   "cell_type": "code",
   "execution_count": null,
   "id": "2a1d8f12",
   "metadata": {
    "execution": {
     "iopub.execute_input": "2021-09-05T15:58:38.666091Z",
     "iopub.status.busy": "2021-09-05T15:58:38.665090Z",
     "iopub.status.idle": "2021-09-05T15:58:41.531393Z",
     "shell.execute_reply": "2021-09-05T15:58:41.530396Z"
    },
    "papermill": {
     "duration": 2.880305,
     "end_time": "2021-09-05T15:58:41.531393",
     "exception": false,
     "start_time": "2021-09-05T15:58:38.651088",
     "status": "completed"
    },
    "tags": []
   },
   "outputs": [],
   "source": [
    "# Export notebook as python script to the ../python-code folder\n",
    "subprocess.run(\"jupyter nbconvert --output-dir='../python-code' --to python Rating_Matrix_Handler.ipynb --TemplateExporter.exclude_markdown=True --TemplateExporter.exclude_input_prompt=True\", shell=True)"
   ]
  },
  {
   "cell_type": "markdown",
   "id": "3500e2cb",
   "metadata": {
    "papermill": {
     "duration": 0.009997,
     "end_time": "2021-09-05T15:58:41.548389",
     "exception": false,
     "start_time": "2021-09-05T15:58:41.538392",
     "status": "completed"
    },
    "tags": []
   },
   "source": [
    "# Rating - Matrix - Handler"
   ]
  },
  {
   "cell_type": "code",
   "execution_count": null,
   "id": "6ef79d34",
   "metadata": {
    "execution": {
     "iopub.execute_input": "2021-09-05T15:58:41.580390Z",
     "iopub.status.busy": "2021-09-05T15:58:41.579390Z",
     "iopub.status.idle": "2021-09-05T15:58:41.591272Z",
     "shell.execute_reply": "2021-09-05T15:58:41.592275Z"
    },
    "papermill": {
     "duration": 0.035866,
     "end_time": "2021-09-05T15:58:41.592275",
     "exception": false,
     "start_time": "2021-09-05T15:58:41.556409",
     "status": "completed"
    },
    "tags": [
     "parameters"
    ]
   },
   "outputs": [],
   "source": [
    "class Rating_Matrix_Handler():\n",
    "    \"\"\"\n",
    "    A class that deals with all Rating-Matrix related issues like merging and masking rating-matrices.\n",
    "    \"\"\"\n",
    "    \n",
    "    def __init__(self, train_rating_matrix:pd.DataFrame, test_rating_matrix:pd.DataFrame, validation_rating_matrix:pd.DataFrame=None):\n",
    "        \"\"\"\n",
    "        Params:\n",
    "            train_rating_matrix (pd.DataFrame): The training rating_matrix on which the TLMF algorithm will be trained upon.\n",
    "            validation_rating_matrix (pd.DataFrame): The validation rating_matrix on which the TLMF algorithm can be validated on.\n",
    "            test_rating_matrix (pd.DataFrame): The test rating_matrix on which the TLMF algorithm will be tested upon.\n",
    "        \"\"\"\n",
    "        self.train_rating_matrix = train_rating_matrix\n",
    "        self.validation_rating_matrix = validation_rating_matrix\n",
    "        self.test_rating_matrix = test_rating_matrix\n",
    "        self.validation_eval_indices = None\n",
    "        self.test_eval_indices = None\n",
    "        # Initialize GPU for computation if available            \n",
    "        machine = \"cuda:0\" if torch.cuda.is_available() else \"cpu\"\n",
    "        self.device = torch.device(machine)\n",
    "        \n",
    "    def create_test_user_mapping(self, train:pd.DataFrame, test:pd.DataFrame) -> dict:\n",
    "        \"\"\"\n",
    "        Create a mapping of a test users name to his position in the train rating matrix.\n",
    "\n",
    "        Params:\n",
    "            train (pd.DataFrame): The train rating matrix.\n",
    "            test (pd.DataFrame): The test rating matrix.\n",
    "\n",
    "        Returns:\n",
    "            dict: Mapping of test user name to position index in the train rating matrix.\n",
    "        \"\"\"\n",
    "        mapping = {user:int(np.argwhere((train[\"username\"]==user).values)) for user in test[\"username\"]}\n",
    "        return mapping\n",
    "        \n",
    "    def create_torch_rating_matrix(self) -> None:\n",
    "        \"\"\"\n",
    "        Creates the final rating matrix as torch tensor that is to be trained on.\n",
    "        \n",
    "        Params:\n",
    "            df (pd.DataFrame): Either the test or validation dataframe for which the evaluation indices are calculated.\n",
    "            mode (str, optional): The mode for which the evaluation indices of the test or validation matrix are calculated. \n",
    "            It can either be \"Test\" or \"Validation\". Defaults to \"Test\".\n",
    "        \"\"\"    \n",
    "        self.final_rating_matrix = self.train_rating_matrix.copy() \n",
    "        self.final_rating_matrix_w_usernames = self.final_rating_matrix.copy()\n",
    "        # Drop the username column as it is non-numeric and can't be converted to a tensor.\n",
    "        self.final_rating_matrix.drop(labels=[\"username\"], axis=1, inplace=True)\n",
    "        # Set the datatypes of the rating matrix to float16 to save memory and speed up computation while keeping the nan-values (not possible for integer datatype). \n",
    "        self.final_rating_matrix = torch.from_numpy(self.final_rating_matrix.values).to(torch.float16).to(self.device)\n",
    "        \n",
    "    def get_eval_indices(self, df:pd.DataFrame, mode:str=\"test\") -> None:\n",
    "        \"\"\"\n",
    "        Get all indices that are not NaN of the provided dataframe. These indices are later used to evaluate the recommender systems on,\n",
    "        either during training on the validation set or during testing on the test dataset.\n",
    "\n",
    "        Params:\n",
    "            df (pd.DataFrame): Dataframe whose non-null indices have to be found.\n",
    "        \"\"\"        \n",
    "        # Get all not-null indices from the dataframe\n",
    "        mask_idxs = np.argwhere(~pd.isna(df.values))\n",
    "        # Build dictionary of unique row-ids associated with sets that will contain the non-na column-ids\n",
    "        userid_ratings = {id:set() for id in np.unique(mask_idxs[:,0])}\n",
    "        # Add all non-na column indices to the corresponding row-ids\n",
    "        for entry in mask_idxs:\n",
    "            # Exclude the username column-index from the non - na values, which is the index 0. It is not part of the evaluation\n",
    "            if entry[1] == 0:\n",
    "                continue\n",
    "            # All added column - indices have to be decremented by 1, as the username-column is deleted and they are shifted one index to the left\n",
    "            userid_ratings[entry[0]].add(entry[1]-1)\n",
    "        # Use a tuples consisting of (username, row_id) as keys for cross-referencing later on\n",
    "        username_ratings = {(df.loc[username][\"username\"], username):ratings for username, ratings in userid_ratings.items()}\n",
    "        # Cast the set-values to numpy-arrays for later filtering the column-indices depending on the task\n",
    "        username_ratings = {username:np.array(list(ratings)) for username,ratings in username_ratings.items()}\n",
    "        if mode == \"test\":\n",
    "            self.test_eval_indices = username_ratings\n",
    "        else:\n",
    "            self.validation_eval_indices = username_ratings"
   ]
  },
  {
   "cell_type": "code",
   "execution_count": null,
   "id": "7b443352",
   "metadata": {
    "execution": {
     "iopub.execute_input": "2021-09-05T15:58:41.644258Z",
     "iopub.status.busy": "2021-09-05T15:58:41.643258Z",
     "iopub.status.idle": "2021-09-05T15:58:41.717259Z",
     "shell.execute_reply": "2021-09-05T15:58:41.716254Z"
    },
    "papermill": {
     "duration": 0.087997,
     "end_time": "2021-09-05T15:58:41.717259",
     "exception": false,
     "start_time": "2021-09-05T15:58:41.629262",
     "status": "completed"
    },
    "tags": []
   },
   "outputs": [],
   "source": [
    "train = pd.read_csv(train_path)\n",
    "test = pd.read_csv(test_path)\n",
    "validation = pd.read_csv(validation_path)\n",
    "rmh = Rating_Matrix_Handler(train_rating_matrix=train, test_rating_matrix=test, validation_rating_matrix=validation)\n",
    "rmh.create_torch_rating_matrix()\n",
    "rmh.get_eval_indices(test)\n",
    "rmh.get_eval_indices(validation, \"validation\")"
   ]
  }
 ],
 "metadata": {
  "celltoolbar": "Tags",
  "interpreter": {
   "hash": "9c4321509887871942225181aea45e229e5aed2157cb28edcc519edea6ae29dd"
  },
  "kernelspec": {
   "display_name": "Python 3 (ipykernel)",
   "language": "python",
   "name": "python3"
  },
  "language_info": {
   "codemirror_mode": {
    "name": "ipython",
    "version": 3
   },
   "file_extension": ".py",
   "mimetype": "text/x-python",
   "name": "python",
   "nbconvert_exporter": "python",
   "pygments_lexer": "ipython3",
   "version": "3.9.1"
  },
  "papermill": {
   "default_parameters": {},
   "duration": 7.611669,
   "end_time": "2021-09-05T15:58:42.397255",
   "environment_variables": {},
   "exception": null,
   "input_path": "Rating_Matrix_Handler.ipynb",
   "output_path": "Rating_Matrix_Handler.ipynb",
   "parameters": {
    "test_path": "C:\\Users\\Rico\\Desktop\\Diverses\\bachelorarbeit\\bachelor-thesis\\data\\T1_T2\\test.csv",
    "train_path": "C:\\Users\\Rico\\Desktop\\Diverses\\bachelorarbeit\\bachelor-thesis\\data\\T1_T2\\train.csv"
   },
   "start_time": "2021-09-05T15:58:34.785586",
   "version": "2.3.3"
  }
 },
 "nbformat": 4,
 "nbformat_minor": 5
}
