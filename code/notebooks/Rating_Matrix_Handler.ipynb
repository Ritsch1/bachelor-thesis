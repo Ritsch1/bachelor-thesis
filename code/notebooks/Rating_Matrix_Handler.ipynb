{
 "cells": [
  {
   "cell_type": "code",
   "execution_count": 1,
   "source": [
    "# imports\n",
    "import pandas as pd\n",
    "import numpy as np\n",
    "from IPython.core.debugger import set_trace\n",
    "import torch\n",
    "from collections import namedtuple"
   ],
   "outputs": [],
   "metadata": {
    "execution": {
     "iopub.execute_input": "2021-09-03T20:41:16.625044Z",
     "iopub.status.busy": "2021-09-03T20:41:16.623042Z",
     "iopub.status.idle": "2021-09-03T20:41:19.063225Z",
     "shell.execute_reply": "2021-09-03T20:41:19.062210Z"
    },
    "papermill": {
     "duration": 2.477822,
     "end_time": "2021-09-03T20:41:19.063225",
     "exception": false,
     "start_time": "2021-09-03T20:41:16.585403",
     "status": "completed"
    },
    "tags": []
   }
  },
  {
   "cell_type": "markdown",
   "source": [
    "# Export notebook as python script to the ../python-code - folder"
   ],
   "metadata": {
    "papermill": {
     "duration": 0.006982,
     "end_time": "2021-09-03T20:41:19.080243",
     "exception": false,
     "start_time": "2021-09-03T20:41:19.073261",
     "status": "completed"
    },
    "tags": []
   }
  },
  {
   "cell_type": "code",
   "execution_count": 2,
   "source": [
    "!jupyter nbconvert --output-dir=\"../python-code\" --to python Rating_Matrix_Handler.ipynb --TemplateExporter.exclude_markdown=True --TemplateExporter.exclude_input_prompt=True"
   ],
   "outputs": [
    {
     "output_type": "stream",
     "name": "stderr",
     "text": [
      "[NbConvertApp] Converting notebook Rating_Matrix_Handler.ipynb to python\n",
      "[NbConvertApp] Writing 5324 bytes to ..\\python-code\\Rating_Matrix_Handler.py\n"
     ]
    }
   ],
   "metadata": {
    "execution": {
     "iopub.execute_input": "2021-09-03T20:41:19.101242Z",
     "iopub.status.busy": "2021-09-03T20:41:19.101242Z",
     "iopub.status.idle": "2021-09-03T20:41:22.188949Z",
     "shell.execute_reply": "2021-09-03T20:41:22.189954Z"
    },
    "papermill": {
     "duration": 3.101711,
     "end_time": "2021-09-03T20:41:22.189954",
     "exception": false,
     "start_time": "2021-09-03T20:41:19.088243",
     "status": "completed"
    },
    "tags": []
   }
  },
  {
   "cell_type": "markdown",
   "source": [
    "# Rating - Matrix - Handler"
   ],
   "metadata": {
    "papermill": {
     "duration": 0.010986,
     "end_time": "2021-09-03T20:41:22.207939",
     "exception": false,
     "start_time": "2021-09-03T20:41:22.196953",
     "status": "completed"
    },
    "tags": []
   }
  },
  {
   "cell_type": "code",
   "execution_count": 3,
   "source": [
    "class Rating_Matrix_Handler():\r\n",
    "    \"\"\"\r\n",
    "    A class that deals with all Rating-Matrix related issues like merging and masking rating-matrices.\r\n",
    "    \"\"\"\r\n",
    "    \r\n",
    "    def __init__(self, train_rating_matrix:pd.DataFrame, test_rating_matrix:pd.DataFrame, validation_rating_matrix:pd.DataFrame=None):\r\n",
    "        \"\"\"\r\n",
    "        Params:\r\n",
    "            train_rating_matrix (pd.DataFrame): The training rating_matrix on which the TLMF algorithm will be trained upon.\r\n",
    "            validation_rating_matrix (pd.DataFrame): The validation rating_matrix on which the TLMF algorithm can be validated on.\r\n",
    "            test_rating_matrix (pd.DataFrame): The test rating_matrix on which the TLMF algorithm will be tested upon.\r\n",
    "        \"\"\"\r\n",
    "        self.train_rating_matrix = train_rating_matrix\r\n",
    "        self.validation_rating_matrix = validation_rating_matrix\r\n",
    "        self.is_validation_set_available = self.validation_rating_matrix is not None \r\n",
    "        self.test_rating_matrix = test_rating_matrix\r\n",
    "        self.validation_eval_indices = None\r\n",
    "        self.test_eval_indices = None\r\n",
    "        # Initialize GPU for computation if available            \r\n",
    "        machine = \"cuda:0\" if torch.cuda.is_available() else \"cpu\"\r\n",
    "        self.device = torch.device(machine)\r\n",
    "        \r\n",
    "    def merge_rating_matrices(self, dim:int=1, mode:str=\"Test\") -> None:\r\n",
    "        \"\"\"\r\n",
    "        Left-joins the training rating-matrix together on identical users with either the test-matrix or the validation-matrix(depending on the value of mode).\r\n",
    "\r\n",
    "        Params:\r\n",
    "            dim (int, optional): The dimension along which rating matrices are merged. Defaults to 1.\r\n",
    "            mode (str, optional): The mode of df2. It can either be \"Test\" or \"Validation\". Defaults to \"Test\".\r\n",
    "        \"\"\"\r\n",
    "        # Assertions\r\n",
    "        assert dim >= 0, \"Dimension must be non-negative.\"\r\n",
    "        \r\n",
    "        if mode==\"Test\":    \r\n",
    "            df = self.test_rating_matrix\r\n",
    "            self.test_eval_indices = self.get_eval_indices(df)\r\n",
    "        elif mode==\"Validation\":\r\n",
    "            df = self.validation_rating_matrix\r\n",
    "            self.validation_eval_indices = self.get_eval_indices(df)\r\n",
    "            \r\n",
    "        # Get all non-na column indices for each username.\r\n",
    "        eval_indices = self.get_eval_indices(df)\r\n",
    "        # Join the matrices on the username column, keep all usernames that were already in the training matrix. Replace all values of the joined table with NaN as they have to be predicted later.\r\n",
    "        df_nan = df.copy()\r\n",
    "        df_nan.loc[:, df_nan.columns != \"username\"] = np.nan\r\n",
    "        self.final_rating_matrix = self.train_rating_matrix.copy() \r\n",
    "        self.final_rating_matrix = self.final_rating_matrix.merge(right=df_nan, how=\"left\", on=\"username\")\r\n",
    "        # Drop the username column as it is non-numeric and can't be converted to a tensor.\r\n",
    "        self.final_rating_matrix.drop(labels=[\"username\"], axis=1, inplace=True)\r\n",
    "        # The same for the joined matrix as the username column contains non-na values but will not be evaluated.\r\n",
    "        df.drop(labels=[\"username\"], axis=1, inplace=True)\r\n",
    "        # Set the datatypes of the rating matrix to float16 to save memory and speed up computation while keeping the nan-values (not possible for integer datatype). \r\n",
    "        self.final_rating_matrix = torch.from_numpy(self.final_rating_matrix.values).to(torch.float16).to(self.device)\r\n",
    "        \r\n",
    "    def get_eval_indices(self, df:pd.DataFrame, mode:str=\"Test\") -> dict:\r\n",
    "        \"\"\"\r\n",
    "        Get all indices that are not NaN of the provided dataframe. These indices are later used to evaluate recommender systems on.\r\n",
    "\r\n",
    "        Params:\r\n",
    "            df (pd.DataFrame): Dataframe whose non-null indices have to be found.\r\n",
    "        Returns:\r\n",
    "            dict: A dictionary containg a username as key associated with a numpy-array containing all the indices of the non-na columns for that username.\r\n",
    "        \"\"\"        \r\n",
    "        # Get all not-null indices from the dataframe\r\n",
    "        mask_idxs = np.argwhere(~pd.isna(df.values))\r\n",
    "        # Perform a group by on the username - row - index.\r\n",
    "        unique_username_rows = np.unique(mask_idxs[:,0], return_index=True)[1][1:]\r\n",
    "        mask_idxs_grouped = np.split(mask_idxs[:,1], unique_username_rows)\r\n",
    "        # Combine the row indices with all the non - na column - indices for this row\r\n",
    "        username_column_agg = np.array(list(zip(list(df[\"username\"]), mask_idxs_grouped)), dtype=object)\r\n",
    "        # Exclude the username column from the non - na values, which is the first one\r\n",
    "        username_column_agg = {a[0]: a[1][1:]-1 for a in username_column_agg}\r\n",
    "        return username_column_agg"
   ],
   "outputs": [],
   "metadata": {
    "execution": {
     "iopub.execute_input": "2021-09-03T20:41:22.243079Z",
     "iopub.status.busy": "2021-09-03T20:41:22.241079Z",
     "iopub.status.idle": "2021-09-03T20:41:22.252109Z",
     "shell.execute_reply": "2021-09-03T20:41:22.253378Z"
    },
    "papermill": {
     "duration": 0.038442,
     "end_time": "2021-09-03T20:41:22.253378",
     "exception": false,
     "start_time": "2021-09-03T20:41:22.214936",
     "status": "completed"
    },
    "tags": [
     "parameters"
    ]
   }
  },
  {
   "cell_type": "code",
   "execution_count": 4,
   "source": [
    "train = pd.read_csv(train_path)\r\n",
    "test = pd.read_csv(test_path)\r\n",
    "rmh = Rating_Matrix_Handler(train_rating_matrix=train, test_rating_matrix=test)\r\n",
    "rmh.merge_rating_matrices()"
   ],
   "outputs": [
    {
     "output_type": "error",
     "ename": "NameError",
     "evalue": "name 'train_path' is not defined",
     "traceback": [
      "\u001b[1;31m---------------------------------------------------------------------------\u001b[0m",
      "\u001b[1;31mNameError\u001b[0m                                 Traceback (most recent call last)",
      "\u001b[1;32m~\\AppData\\Local\\Temp/ipykernel_24300/1767589349.py\u001b[0m in \u001b[0;36m<module>\u001b[1;34m\u001b[0m\n\u001b[1;32m----> 1\u001b[1;33m \u001b[0mtrain\u001b[0m \u001b[1;33m=\u001b[0m \u001b[0mpd\u001b[0m\u001b[1;33m.\u001b[0m\u001b[0mread_csv\u001b[0m\u001b[1;33m(\u001b[0m\u001b[0mtrain_path\u001b[0m\u001b[1;33m)\u001b[0m\u001b[1;33m\u001b[0m\u001b[1;33m\u001b[0m\u001b[0m\n\u001b[0m\u001b[0;32m      2\u001b[0m \u001b[0mtest\u001b[0m \u001b[1;33m=\u001b[0m \u001b[0mpd\u001b[0m\u001b[1;33m.\u001b[0m\u001b[0mread_csv\u001b[0m\u001b[1;33m(\u001b[0m\u001b[0mtest_path\u001b[0m\u001b[1;33m)\u001b[0m\u001b[1;33m\u001b[0m\u001b[1;33m\u001b[0m\u001b[0m\n\u001b[0;32m      3\u001b[0m \u001b[0mrmh\u001b[0m \u001b[1;33m=\u001b[0m \u001b[0mRating_Matrix_Handler\u001b[0m\u001b[1;33m(\u001b[0m\u001b[0mtrain_rating_matrix\u001b[0m\u001b[1;33m=\u001b[0m\u001b[0mtrain\u001b[0m\u001b[1;33m,\u001b[0m \u001b[0mtest_rating_matrix\u001b[0m\u001b[1;33m=\u001b[0m\u001b[0mtest\u001b[0m\u001b[1;33m)\u001b[0m\u001b[1;33m\u001b[0m\u001b[1;33m\u001b[0m\u001b[0m\n\u001b[0;32m      4\u001b[0m \u001b[0mrmh\u001b[0m\u001b[1;33m.\u001b[0m\u001b[0mmerge_rating_matrices\u001b[0m\u001b[1;33m(\u001b[0m\u001b[1;33m)\u001b[0m\u001b[1;33m\u001b[0m\u001b[1;33m\u001b[0m\u001b[0m\n",
      "\u001b[1;31mNameError\u001b[0m: name 'train_path' is not defined"
     ]
    }
   ],
   "metadata": {
    "execution": {
     "iopub.execute_input": "2021-09-03T20:41:22.274428Z",
     "iopub.status.busy": "2021-09-03T20:41:22.274428Z",
     "iopub.status.idle": "2021-09-03T20:41:22.877096Z",
     "shell.execute_reply": "2021-09-03T20:41:22.876100Z"
    },
    "papermill": {
     "duration": 0.616649,
     "end_time": "2021-09-03T20:41:22.877096",
     "exception": true,
     "start_time": "2021-09-03T20:41:22.260447",
     "status": "failed"
    }
   }
  }
 ],
 "metadata": {
  "celltoolbar": "Tags",
  "interpreter": {
   "hash": "9c4321509887871942225181aea45e229e5aed2157cb28edcc519edea6ae29dd"
  },
  "kernelspec": {
   "display_name": "Python 3 (ipykernel)",
   "language": "python",
   "name": "python3"
  },
  "language_info": {
   "codemirror_mode": {
    "name": "ipython",
    "version": 3
   },
   "file_extension": ".py",
   "mimetype": "text/x-python",
   "name": "python",
   "nbconvert_exporter": "python",
   "pygments_lexer": "ipython3",
   "version": "3.8.11"
  },
  "papermill": {
   "default_parameters": {},
   "duration": 9.521376,
   "end_time": "2021-09-03T20:41:23.455275",
   "environment_variables": {},
   "exception": true,
   "input_path": "Rating_Matrix_Handler.ipynb",
   "output_path": "Rating_Matrix_Handler.ipynb",
   "parameters": {
    "test_path": "C:\\Users\\Rico\\Desktop\\Diverses\\bachelorarbeit\\bachelor-thesis\\data\\T1_T2\\test.csv",
    "train_path": "C:\\Users\\Rico\\Desktop\\Diverses\\bachelorarbeit\\bachelor-thesis\\data\\T1_T2\\train.csv"
   },
   "start_time": "2021-09-03T20:41:13.933899",
   "version": "2.3.3"
  }
 },
 "nbformat": 4,
 "nbformat_minor": 5
}