{
 "cells": [
  {
   "cell_type": "code",
   "execution_count": 1,
   "source": [
    "# imports\r\n",
    "import pandas as pd\r\n",
    "import numpy as np\r\n",
    "from IPython.core.debugger import set_trace\r\n",
    "import torch\r\n",
    "import subprocess"
   ],
   "outputs": [],
   "metadata": {
    "execution": {
     "iopub.execute_input": "2021-09-05T15:58:37.368684Z",
     "iopub.status.busy": "2021-09-05T15:58:37.367689Z",
     "iopub.status.idle": "2021-09-05T15:58:38.628111Z",
     "shell.execute_reply": "2021-09-05T15:58:38.628111Z"
    },
    "papermill": {
     "duration": 1.279403,
     "end_time": "2021-09-05T15:58:38.629108",
     "exception": false,
     "start_time": "2021-09-05T15:58:37.349705",
     "status": "completed"
    },
    "tags": []
   }
  },
  {
   "cell_type": "markdown",
   "source": [
    "# Export notebook as python script to the ../python-code - folder"
   ],
   "metadata": {
    "papermill": {
     "duration": 0.009999,
     "end_time": "2021-09-05T15:58:38.645086",
     "exception": false,
     "start_time": "2021-09-05T15:58:38.635087",
     "status": "completed"
    },
    "tags": []
   }
  },
  {
   "cell_type": "code",
   "execution_count": 2,
   "source": [
    "# Export notebook as python script to the ../python-code folder\r\n",
    "subprocess.run(\"jupyter nbconvert --output-dir='../python-code' --to python Rating_Matrix_Handler.ipynb --TemplateExporter.exclude_markdown=True --TemplateExporter.exclude_input_prompt=True\", shell=True)"
   ],
   "outputs": [
    {
     "output_type": "execute_result",
     "data": {
      "text/plain": [
       "CompletedProcess(args=\"jupyter nbconvert --output-dir='../python-code' --to python Rating_Matrix_Handler.ipynb --TemplateExporter.exclude_markdown=True --TemplateExporter.exclude_input_prompt=True\", returncode=0)"
      ]
     },
     "metadata": {},
     "execution_count": 2
    }
   ],
   "metadata": {
    "execution": {
     "iopub.execute_input": "2021-09-05T15:58:38.666091Z",
     "iopub.status.busy": "2021-09-05T15:58:38.665090Z",
     "iopub.status.idle": "2021-09-05T15:58:41.531393Z",
     "shell.execute_reply": "2021-09-05T15:58:41.530396Z"
    },
    "papermill": {
     "duration": 2.880305,
     "end_time": "2021-09-05T15:58:41.531393",
     "exception": false,
     "start_time": "2021-09-05T15:58:38.651088",
     "status": "completed"
    },
    "tags": []
   }
  },
  {
   "cell_type": "markdown",
   "source": [
    "# Rating - Matrix - Handler"
   ],
   "metadata": {
    "papermill": {
     "duration": 0.009997,
     "end_time": "2021-09-05T15:58:41.548389",
     "exception": false,
     "start_time": "2021-09-05T15:58:41.538392",
     "status": "completed"
    },
    "tags": []
   }
  },
  {
   "cell_type": "code",
   "execution_count": 13,
   "source": [
    "class Rating_Matrix_Handler():\r\n",
    "    \"\"\"\r\n",
    "    A class that deals with all Rating-Matrix related issues like merging and masking rating-matrices.\r\n",
    "    \"\"\"\r\n",
    "    \r\n",
    "    def __init__(self, train_rating_matrix:pd.DataFrame, test_rating_matrix:pd.DataFrame, validation_rating_matrix:pd.DataFrame=None):\r\n",
    "        \"\"\"\r\n",
    "        Params:\r\n",
    "            train_rating_matrix (pd.DataFrame): The training rating_matrix on which the TLMF algorithm will be trained upon.\r\n",
    "            validation_rating_matrix (pd.DataFrame): The validation rating_matrix on which the TLMF algorithm can be validated on.\r\n",
    "            test_rating_matrix (pd.DataFrame): The test rating_matrix on which the TLMF algorithm will be tested upon.\r\n",
    "        \"\"\"\r\n",
    "        self.train_rating_matrix = train_rating_matrix\r\n",
    "        self.validation_rating_matrix = validation_rating_matrix\r\n",
    "        self.is_validation_set_available = self.validation_rating_matrix is not None \r\n",
    "        self.test_rating_matrix = test_rating_matrix\r\n",
    "        self.validation_eval_indices = None\r\n",
    "        self.test_eval_indices = None\r\n",
    "        # Initialize GPU for computation if available            \r\n",
    "        machine = \"cuda:0\" if torch.cuda.is_available() else \"cpu\"\r\n",
    "        self.device = torch.device(machine)\r\n",
    "        \r\n",
    "    def create_torch_rating_matrix(self, df:pd.DataFrame, mode:str=\"Test\") -> None:\r\n",
    "        \"\"\"\r\n",
    "        Creates the final rating matrix as torch tensor that is to be trained on.\r\n",
    "        \r\n",
    "        Params:\r\n",
    "            df (pd.DataFrame): Either the test or validation dataframe for which the evaluation indices are calculated.\r\n",
    "            mode (str, optional): The mode for which the evaluation indices of the test or validation matrix are calculated. \r\n",
    "            It can either be \"Test\" or \"Validation\". Defaults to \"Test\".\r\n",
    "        \"\"\"\r\n",
    "        \r\n",
    "        if mode==\"Test\":  \r\n",
    "            self.test_eval_indices = self.get_eval_indices(df)\r\n",
    "        elif mode==\"Validation\":\r\n",
    "            self.validation_eval_indices = self.get_eval_indices(df)\r\n",
    "            \r\n",
    "        self.final_rating_matrix = self.train_rating_matrix.copy() \r\n",
    "        self.final_rating_matrix_w_usernames = self.final_rating_matrix.copy()\r\n",
    "        # Drop the username column as it is non-numeric and can't be converted to a tensor.\r\n",
    "        self.final_rating_matrix.drop(labels=[\"username\"], axis=1, inplace=True)\r\n",
    "        # Set the datatypes of the rating matrix to float16 to save memory and speed up computation while keeping the nan-values (not possible for integer datatype). \r\n",
    "        self.final_rating_matrix = torch.from_numpy(self.final_rating_matrix.values).to(torch.float16).to(self.device)\r\n",
    "        \r\n",
    "    def get_eval_indices(self, df:pd.DataFrame, mode:str=\"Test\") -> dict:\r\n",
    "        \"\"\"\r\n",
    "        Get all indices that are not NaN of the provided dataframe. These indices are later used to evaluate recommender systems on.\r\n",
    "\r\n",
    "        Params:\r\n",
    "            df (pd.DataFrame): Dataframe whose non-null indices have to be found.\r\n",
    "        Returns:\r\n",
    "            dict: A dictionary containg a tuple of (username, row_id) as key associated with a numpy-array containing all the indices of the non-na columns for that username.\r\n",
    "        \"\"\"        \r\n",
    "        # Get all not-null indices from the dataframe\r\n",
    "        mask_idxs = np.argwhere(~pd.isna(df.values))\r\n",
    "        # Build dictionary of unique row-ids associated with sets that will contain the non-na column-ids\r\n",
    "        userid_ratings = {id:set() for id in np.unique(mask_idxs[:,0])}\r\n",
    "        # Add all non-na column indices to the corresponding row-ids\r\n",
    "        for entry in mask_idxs:\r\n",
    "            # Exclude the username column-index from the non - na values, which is the index 0. It is not part of the evaluation\r\n",
    "            if entry[1] == 0:\r\n",
    "                continue\r\n",
    "            # All added column - indices have to be decremented by 1, as the username-column is deleted and they are shifted one index to the left\r\n",
    "            userid_ratings[entry[0]].add(entry[1]-1)\r\n",
    "        # Use a tuples consisting of (username, row_id) as keys for cross-referencing later on\r\n",
    "        username_ratings = {(df.loc[username][\"username\"], username):ratings for username, ratings in userid_ratings.items()}\r\n",
    "        # Cast the set-values to numpy-arrays for later filtering the column-indices depending on the task\r\n",
    "        username_ratings = {username:np.array(list(ratings)) for username,ratings in username_ratings.items()}\r\n",
    "\r\n",
    "        return username_ratings"
   ],
   "outputs": [],
   "metadata": {
    "execution": {
     "iopub.execute_input": "2021-09-05T15:58:41.580390Z",
     "iopub.status.busy": "2021-09-05T15:58:41.579390Z",
     "iopub.status.idle": "2021-09-05T15:58:41.591272Z",
     "shell.execute_reply": "2021-09-05T15:58:41.592275Z"
    },
    "papermill": {
     "duration": 0.035866,
     "end_time": "2021-09-05T15:58:41.592275",
     "exception": false,
     "start_time": "2021-09-05T15:58:41.556409",
     "status": "completed"
    },
    "tags": [
     "parameters"
    ]
   }
  },
  {
   "cell_type": "code",
   "execution_count": 20,
   "source": [
    "train = pd.read_csv(train_path)\r\n",
    "test = pd.read_csv(test_path)\r\n",
    "rmh = Rating_Matrix_Handler(train_rating_matrix=train, test_rating_matrix=test)\r\n",
    "rmh.create_torch_rating_matrix(test)"
   ],
   "outputs": [
    {
     "output_type": "error",
     "ename": "NameError",
     "evalue": "name 'train_path' is not defined",
     "traceback": [
      "\u001b[1;31m---------------------------------------------------------------------------\u001b[0m",
      "\u001b[1;31mNameError\u001b[0m                                 Traceback (most recent call last)",
      "\u001b[1;32m~\\AppData\\Local\\Temp/ipykernel_11884/1310686928.py\u001b[0m in \u001b[0;36m<module>\u001b[1;34m\u001b[0m\n\u001b[1;32m----> 1\u001b[1;33m \u001b[0mtrain\u001b[0m \u001b[1;33m=\u001b[0m \u001b[0mpd\u001b[0m\u001b[1;33m.\u001b[0m\u001b[0mread_csv\u001b[0m\u001b[1;33m(\u001b[0m\u001b[0mtrain_path\u001b[0m\u001b[1;33m)\u001b[0m\u001b[1;33m\u001b[0m\u001b[1;33m\u001b[0m\u001b[0m\n\u001b[0m\u001b[0;32m      2\u001b[0m \u001b[0mtest\u001b[0m \u001b[1;33m=\u001b[0m \u001b[0mpd\u001b[0m\u001b[1;33m.\u001b[0m\u001b[0mread_csv\u001b[0m\u001b[1;33m(\u001b[0m\u001b[0mtest_path\u001b[0m\u001b[1;33m)\u001b[0m\u001b[1;33m\u001b[0m\u001b[1;33m\u001b[0m\u001b[0m\n\u001b[0;32m      3\u001b[0m \u001b[0mrmh\u001b[0m \u001b[1;33m=\u001b[0m \u001b[0mRating_Matrix_Handler\u001b[0m\u001b[1;33m(\u001b[0m\u001b[0mtrain_rating_matrix\u001b[0m\u001b[1;33m=\u001b[0m\u001b[0mtrain\u001b[0m\u001b[1;33m,\u001b[0m \u001b[0mtest_rating_matrix\u001b[0m\u001b[1;33m=\u001b[0m\u001b[0mtest\u001b[0m\u001b[1;33m)\u001b[0m\u001b[1;33m\u001b[0m\u001b[1;33m\u001b[0m\u001b[0m\n\u001b[0;32m      4\u001b[0m \u001b[0mrmh\u001b[0m\u001b[1;33m.\u001b[0m\u001b[0mcreate_torch_rating_matrix\u001b[0m\u001b[1;33m(\u001b[0m\u001b[0mtest\u001b[0m\u001b[1;33m)\u001b[0m\u001b[1;33m\u001b[0m\u001b[1;33m\u001b[0m\u001b[0m\n",
      "\u001b[1;31mNameError\u001b[0m: name 'train_path' is not defined"
     ]
    }
   ],
   "metadata": {
    "execution": {
     "iopub.execute_input": "2021-09-05T15:58:41.644258Z",
     "iopub.status.busy": "2021-09-05T15:58:41.643258Z",
     "iopub.status.idle": "2021-09-05T15:58:41.717259Z",
     "shell.execute_reply": "2021-09-05T15:58:41.716254Z"
    },
    "papermill": {
     "duration": 0.087997,
     "end_time": "2021-09-05T15:58:41.717259",
     "exception": false,
     "start_time": "2021-09-05T15:58:41.629262",
     "status": "completed"
    },
    "tags": []
   }
  }
 ],
 "metadata": {
  "celltoolbar": "Tags",
  "interpreter": {
   "hash": "9c4321509887871942225181aea45e229e5aed2157cb28edcc519edea6ae29dd"
  },
  "kernelspec": {
   "name": "python3",
   "display_name": "Python 3.8.11 64-bit ('ba_thesis': conda)"
  },
  "language_info": {
   "codemirror_mode": {
    "name": "ipython",
    "version": 3
   },
   "file_extension": ".py",
   "mimetype": "text/x-python",
   "name": "python",
   "nbconvert_exporter": "python",
   "pygments_lexer": "ipython3",
   "version": "3.8.11"
  },
  "papermill": {
   "default_parameters": {},
   "duration": 7.611669,
   "end_time": "2021-09-05T15:58:42.397255",
   "environment_variables": {},
   "exception": null,
   "input_path": "Rating_Matrix_Handler.ipynb",
   "output_path": "Rating_Matrix_Handler.ipynb",
   "parameters": {
    "test_path": "C:\\Users\\Rico\\Desktop\\Diverses\\bachelorarbeit\\bachelor-thesis\\data\\T1_T2\\test.csv",
    "train_path": "C:\\Users\\Rico\\Desktop\\Diverses\\bachelorarbeit\\bachelor-thesis\\data\\T1_T2\\train.csv"
   },
   "start_time": "2021-09-05T15:58:34.785586",
   "version": "2.3.3"
  }
 },
 "nbformat": 4,
 "nbformat_minor": 5
}