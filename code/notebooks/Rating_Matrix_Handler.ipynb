{
 "cells": [
  {
   "cell_type": "code",
   "execution_count": 31,
   "source": [
    "\n",
    "# imports\n",
    "import pandas as pd\n",
    "import numpy as np\n",
    "from IPython.core.debugger import set_trace\n",
    "import torch\n",
    "from collections import namedtuple"
   ],
   "outputs": [],
   "metadata": {}
  },
  {
   "cell_type": "markdown",
   "source": [
    "# Export notebook as python script to the ../python-code - folder"
   ],
   "metadata": {}
  },
  {
   "cell_type": "code",
   "execution_count": 52,
   "source": [
    "!jupyter nbconvert --output-dir=\"../python-code\" --to python Rating_Matrix_Handler.ipynb --TemplateExporter.exclude_markdown=True --TemplateExporter.exclude_input_prompt=True"
   ],
   "outputs": [
    {
     "output_type": "stream",
     "name": "stderr",
     "text": [
      "[NbConvertApp] Converting notebook Rating_Matrix_Handler.ipynb to python\n",
      "[NbConvertApp] Writing 5158 bytes to ..\\python-code\\Rating_Matrix_Handler.py\n"
     ]
    }
   ],
   "metadata": {}
  },
  {
   "cell_type": "markdown",
   "source": [
    "# Rating - Matrix - Handler"
   ],
   "metadata": {}
  },
  {
   "cell_type": "code",
   "execution_count": 48,
   "source": [
    "\n",
    "class Rating_Matrix_Handler():\n",
    "    \"\"\"\n",
    "    A class that deals with all Rating-Matrix related issues like merging and masking rating-matrices.\n",
    "    \"\"\"\n",
    "    \n",
    "    def __init__(self, train_rating_matrix:pd.DataFrame, test_rating_matrix:pd.DataFrame, validation_rating_matrix:pd.DataFrame=None):\n",
    "        \"\"\"\n",
    "        Params:\n",
    "            train_rating_matrix (pd.DataFrame): The training rating_matrix on which the TLMF algorithm will be trained upon.\n",
    "            validation_rating_matrix (pd.DataFrame): The validation rating_matrix on which the TLMF algorithm can be validated on.\n",
    "            test_rating_matrix (pd.DataFrame): The test rating_matrix on which the TLMF algorithm will be tested upon.\n",
    "        \"\"\"\n",
    "        self.train_rating_matrix = train_rating_matrix\n",
    "        self.validation_rating_matrix = validation_rating_matrix\n",
    "        self.is_validation_set_available = self.validation_rating_matrix is not None \n",
    "        self.test_rating_matrix = test_rating_matrix\n",
    "        self.validation_eval_indices = None\n",
    "        self.test_eval_indices = None\n",
    "        # Initialize GPU for computation if available            \n",
    "        machine = \"cuda:0\" if torch.cuda.is_available() else \"cpu\"\n",
    "        self.device = torch.device(machine)\n",
    "        \n",
    "    def merge_rating_matrices(self, dim:int=1, mode:str=\"Test\") -> None:\n",
    "        \"\"\"\n",
    "        Left-joins the training rating-matrix together on identical users with either the test-matrix or the validation-matrix(depending on the value of mode).\n",
    "\n",
    "        Params:\n",
    "            dim (int, optional): The dimension along which rating matrices are merged. Defaults to 1.\n",
    "            mode (str, optional): The mode of df2. It can either be \"Test\" or \"Validation\". Defaults to \"Test\".\n",
    "        \"\"\"\n",
    "        # Assertions\n",
    "        assert dim >= 0, \"Dimension must be non-negative.\"\n",
    "        \n",
    "        if mode==\"Test\":    \n",
    "            df = self.test_rating_matrix\n",
    "            self.test_eval_indices = self.get_eval_indices(df)\n",
    "        elif mode==\"Validation\":\n",
    "            df = self.validation_rating_matrix\n",
    "            self.validation_eval_indices = self.get_eval_indices(df)\n",
    "            \n",
    "        # Get all non-na column indices for each username.\n",
    "        eval_indices = self.get_eval_indices(df)\n",
    "        # Join the matrices on the username column, keep all usernames that were already in the training matrix. Replace all values of the joined table with NaN as they have to be predicted later.\n",
    "        df_nan = df.copy()\n",
    "        df_nan.loc[:, df_nan.columns != \"username\"] = np.nan\n",
    "        self.final_rating_matrix = self.train_rating_matrix.copy() \n",
    "        self.final_rating_matrix = self.final_rating_matrix.merge(right=df_nan, how=\"left\", on=\"username\")\n",
    "        # Drop the username column as it is non-numeric and can't be converted to a tensor.\n",
    "        self.final_rating_matrix.drop(labels=[\"username\"], axis=1, inplace=True)\n",
    "        # The same for the joined matrix as the username column contains non-na values but will not be evaluated.\n",
    "        df.drop(labels=[\"username\"], axis=1, inplace=True)\n",
    "        # Set the datatypes of the rating matrix to float16 to save memory and speed up computation while keeping the nan-values (not possible for integer datatype). \n",
    "        self.final_rating_matrix = torch.from_numpy(self.final_rating_matrix.values).to(torch.float16).to(self.device)\n",
    "        \n",
    "    def get_eval_indices(self, df:pd.DataFrame, mode:str=\"Test\") -> dict:\n",
    "        \"\"\"\n",
    "        Get all indices that are not NaN of the provided dataframe. These indices are later used to evaluate recommender systems on.\n",
    "\n",
    "        Params:\n",
    "            df (pd.DataFrame): Dataframe whose non-null indices have to be found.\n",
    "        Returns:\n",
    "            dict: A dictionary containg a username as key associated with a numpy-array containing all the indices of the non-na columns for that username.\n",
    "        \"\"\"        \n",
    "        # Get all not-null indices from the dataframe\n",
    "        mask_idxs = np.argwhere(~pd.isna(df.values))\n",
    "        # Perform a group by on the username - row - index.\n",
    "        unique_username_rows = np.unique(mask_idxs[:,0], return_index=True)[1][1:]\n",
    "        mask_idxs_grouped = np.split(mask_idxs[:,1], unique_username_rows)\n",
    "        # Combine the row indices with all the non - na column - indices for this row\n",
    "        username_column_agg = np.array(list(zip(list(df[\"username\"]), mask_idxs_grouped)), dtype=object)\n",
    "        # Exclude the username column from the non - na values, which is the first one\n",
    "        username_column_agg = {a[0]: a[1][1:]-1 for a in username_column_agg}\n",
    "        return username_column_agg"
   ],
   "outputs": [],
   "metadata": {}
  },
  {
   "cell_type": "code",
   "execution_count": 53,
   "source": [
    "train = pd.read_csv(train_path)\n",
    "test = pd.read_csv(test_path)\n",
    "rmh = Rating_Matrix_Handler(train_rating_matrix=train, test_rating_matrix=test)\n",
    "rmh.merge_rating_matrices()"
   ],
   "outputs": [
    {
     "output_type": "execute_result",
     "data": {
      "text/plain": [
       "tensor([[1., nan, nan,  ..., nan, nan, nan],\n",
       "        [1., nan, nan,  ..., nan, nan, nan],\n",
       "        [0., nan, nan,  ..., nan, nan, nan],\n",
       "        ...,\n",
       "        [1., nan, nan,  ..., nan, nan, nan],\n",
       "        [1., nan, nan,  ..., nan, nan, nan],\n",
       "        [0., nan, nan,  ..., nan, nan, nan]], dtype=torch.float16)"
      ]
     },
     "metadata": {},
     "execution_count": 53
    }
   ],
   "metadata": {
    "tags": [
     "parameters"
    ]
   }
  }
 ],
 "metadata": {
  "celltoolbar": "Tags",
  "interpreter": {
   "hash": "9c4321509887871942225181aea45e229e5aed2157cb28edcc519edea6ae29dd"
  },
  "kernelspec": {
   "display_name": "Python 3 (ipykernel)",
   "language": "python",
   "name": "python3"
  },
  "language_info": {
   "codemirror_mode": {
    "name": "ipython",
    "version": 3
   },
   "file_extension": ".py",
   "mimetype": "text/x-python",
   "name": "python",
   "nbconvert_exporter": "python",
   "pygments_lexer": "ipython3",
   "version": "3.8.11"
  }
 },
 "nbformat": 4,
 "nbformat_minor": 2
}