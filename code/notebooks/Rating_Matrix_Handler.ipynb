{
 "cells": [
  {
   "cell_type": "code",
   "execution_count": null,
   "source": [
    "# imports\r\n",
    "import pandas as pd\r\n",
    "import numpy as np\r\n",
    "from IPython.core.debugger import set_trace\r\n",
    "import torch"
   ],
   "outputs": [],
   "metadata": {}
  },
  {
   "cell_type": "markdown",
   "source": [
    "# Export notebook as python script to the ../python-code - folder"
   ],
   "metadata": {}
  },
  {
   "cell_type": "code",
   "execution_count": 1,
   "source": [
    "!jupyter nbconvert --output-dir=\"../python-code\" --to python Rating_Matrix_Handler.ipynb --TemplateExporter.exclude_markdown=True --TemplateExporter.exclude_input_prompt=True"
   ],
   "outputs": [
    {
     "output_type": "stream",
     "name": "stderr",
     "text": [
      "[NbConvertApp] Converting notebook Rating_Matrix_Handler.ipynb to python\n",
      "[NbConvertApp] Writing 3199 bytes to ..\\python-code\\Rating_Matrix_Handler.py\n"
     ]
    }
   ],
   "metadata": {}
  },
  {
   "cell_type": "markdown",
   "source": [
    "# Rating - Matrix - Handler"
   ],
   "metadata": {}
  },
  {
   "cell_type": "code",
   "execution_count": null,
   "source": [
    "class Rating_Matrix_Handler():\r\n",
    "    \"\"\"\r\n",
    "    A class that deals with all Rating-Matrix related issues like merging and masking rating-matrices.\r\n",
    "    \"\"\"\r\n",
    "    \r\n",
    "    def __init__(self, train_rating_matrix:torch.tensor, test_rating_matrix:torch.tensor, validation_rating_matrix:torch.tensor=None):\r\n",
    "        \"\"\"\r\n",
    "        Params:\r\n",
    "            train_rating_matrix (torch.tensor): The training rating_matrix on which the TLMF algorithm will be trained upon.\r\n",
    "            validation_rating_matrix (torch.tensor): The validation rating_matrix on which the TLMF algorithm can be validated on.\r\n",
    "            test_rating_matrix (torch.tensor): The test rating_matrix on which the TLMF algorithm will be tested upon.\r\n",
    "        \"\"\"\r\n",
    "        self.training_rating_matrix = training_rating_matrix\r\n",
    "        self.validation_rating_matrix = validation_rating_matrix\r\n",
    "        self.test_rating_matrix = test_rating_matrix\r\n",
    "        self.validation_mask_indices = None\r\n",
    "        self.test_mask_indices = None\r\n",
    "        # Initialize GPU for computation if available            \r\n",
    "        machine = \"cuda:0\" if torch.cuda.is_available() else \"cpu\"\r\n",
    "        self.device = torch.device(machine)\r\n",
    "        \r\n",
    "    def merge_rating_matrices(self, *rating_matrices:pd.DataFrame, dim:int=0) -> torch.tensor:\r\n",
    "        \"\"\"\r\n",
    "        Merges different rating-matrices together e.g. a training and a test rating - matrix.\r\n",
    "        \r\n",
    "        Params:\r\n",
    "            *rating_matrices: An arbitrary number of rating_matrices to be combined along the given dimension.\r\n",
    "            dim (int): The dimension along which rating matrices are merged.\r\n",
    "            \r\n",
    "        Returns:\r\n",
    "            A torch tensor that combines all rating-matrices to one final rating-matrix.\r\n",
    "        \"\"\"\r\n",
    "        # Assertions\r\n",
    "        assert len(rating_matrices) > 0, \"No rating-matrix was provided.\"\r\n",
    "        assert dim >= 0, \"Dimension must be non-negative.\"\r\n",
    "        dims = []\r\n",
    "        for i, r in enumerate(rating_matrices):\r\n",
    "            dims.append(len(r.shape))\r\n",
    "            assert dim <= dims[i], \"f The given dimension - value {dim} is too big for the dimensions of the given rating-matrices.\"\r\n",
    "        assert len(set(dims)) == 1, \"All rating matrices need to have the same number of dimensions.\"\r\n",
    "        \r\n",
    "        if len(rating_matrices) == 1:\r\n",
    "            return rating_matrices[0]\r\n",
    "        else:\r\n",
    "            return torch.cat(rating_matrices, dim)\r\n",
    "    \r\n",
    "    @staticmethod\r\n",
    "    def get_masking_indices(self, df:pd.DataFrame) -> torch.tensor:\r\n",
    "        \"\"\"\r\n",
    "        Get all indices that are not_null of the provided dataframe.\r\n",
    "\r\n",
    "        Args:\r\n",
    "            df (pd.DataFrame): Dataframe whose non-null indices have to be found.\r\n",
    "\r\n",
    "        Returns:\r\n",
    "            torch.tensor: A torch tensor containing all non-null indices of the dataframe df.\r\n",
    "        \"\"\"\r\n",
    "        mask_idxs =  np.where(pd.notna())\r\n",
    "        return torch.from_numpy(mask_idxs).float().to(self.device)\r\n",
    "        "
   ],
   "outputs": [],
   "metadata": {}
  }
 ],
 "metadata": {
  "orig_nbformat": 4,
  "language_info": {
   "name": "python",
   "version": "3.8.11",
   "mimetype": "text/x-python",
   "codemirror_mode": {
    "name": "ipython",
    "version": 3
   },
   "pygments_lexer": "ipython3",
   "nbconvert_exporter": "python",
   "file_extension": ".py"
  },
  "kernelspec": {
   "name": "python3",
   "display_name": "Python 3.8.11 64-bit ('ba_thesis': conda)"
  },
  "interpreter": {
   "hash": "9c4321509887871942225181aea45e229e5aed2157cb28edcc519edea6ae29dd"
  }
 },
 "nbformat": 4,
 "nbformat_minor": 2
}