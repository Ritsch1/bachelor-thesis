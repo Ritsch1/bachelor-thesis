{
 "cells": [
  {
   "cell_type": "code",
   "execution_count": 31,
   "source": [
    "\r\n",
    "# imports\r\n",
    "import pandas as pd\r\n",
    "import numpy as np\r\n",
    "from IPython.core.debugger import set_trace\r\n",
    "import torch\r\n",
    "from collections import namedtuple"
   ],
   "outputs": [],
   "metadata": {}
  },
  {
   "cell_type": "markdown",
   "source": [
    "# Export notebook as python script to the ../python-code - folder"
   ],
   "metadata": {}
  },
  {
   "cell_type": "code",
   "execution_count": 32,
   "source": [
    "!jupyter nbconvert --output-dir=\"../python-code\" --to python Rating_Matrix_Handler.ipynb --TemplateExporter.exclude_markdown=True --TemplateExporter.exclude_input_prompt=True"
   ],
   "outputs": [
    {
     "output_type": "stream",
     "name": "stderr",
     "text": [
      "[NbConvertApp] Converting notebook Rating_Matrix_Handler.ipynb to python\n",
      "[NbConvertApp] Writing 5752 bytes to ..\\python-code\\Rating_Matrix_Handler.py\n"
     ]
    }
   ],
   "metadata": {}
  },
  {
   "cell_type": "markdown",
   "source": [
    "# Rating - Matrix - Handler"
   ],
   "metadata": {}
  },
  {
   "cell_type": "code",
   "execution_count": 48,
   "source": [
    "\r\n",
    "class Rating_Matrix_Handler():\r\n",
    "    \"\"\"\r\n",
    "    A class that deals with all Rating-Matrix related issues like merging and masking rating-matrices.\r\n",
    "    \"\"\"\r\n",
    "    \r\n",
    "    def __init__(self, train_rating_matrix:pd.DataFrame, test_rating_matrix:pd.DataFrame, validation_rating_matrix:pd.DataFrame=None):\r\n",
    "        \"\"\"\r\n",
    "        Params:\r\n",
    "            train_rating_matrix (pd.DataFrame): The training rating_matrix on which the TLMF algorithm will be trained upon.\r\n",
    "            validation_rating_matrix (pd.DataFrame): The validation rating_matrix on which the TLMF algorithm can be validated on.\r\n",
    "            test_rating_matrix (pd.DataFrame): The test rating_matrix on which the TLMF algorithm will be tested upon.\r\n",
    "        \"\"\"\r\n",
    "        self.train_rating_matrix = train_rating_matrix\r\n",
    "        self.validation_rating_matrix = validation_rating_matrix\r\n",
    "        self.is_validation_set_available = self.validation_rating_matrix is not None \r\n",
    "        self.test_rating_matrix = test_rating_matrix\r\n",
    "        self.validation_eval_indices = None\r\n",
    "        self.test_eval_indices = None\r\n",
    "        # Initialize GPU for computation if available            \r\n",
    "        machine = \"cuda:0\" if torch.cuda.is_available() else \"cpu\"\r\n",
    "        self.device = torch.device(machine)\r\n",
    "        \r\n",
    "    def merge_rating_matrices(self, dim:int=1, mode:str=\"Test\") -> None:\r\n",
    "        \"\"\"\r\n",
    "        Left-joins the training rating-matrix together on identical users with either the test-matrix or the validation-matrix(depending on the value of mode).\r\n",
    "\r\n",
    "        Params:\r\n",
    "            dim (int, optional): The dimension along which rating matrices are merged. Defaults to 1.\r\n",
    "            mode (str, optional): The mode of df2. It can either be \"Test\" or \"Validation\". Defaults to \"Test\".\r\n",
    "        \"\"\"\r\n",
    "        # Assertions\r\n",
    "        assert dim >= 0, \"Dimension must be non-negative.\"\r\n",
    "        \r\n",
    "        if mode==\"Test\":    \r\n",
    "            df = self.test_rating_matrix\r\n",
    "            self.test_eval_indices = self.get_eval_indices(df)\r\n",
    "        elif mode==\"Validation\":\r\n",
    "            df = self.validation_rating_matrix\r\n",
    "            self.validation_eval_indices = self.get_eval_indices(df)\r\n",
    "            \r\n",
    "        # Get all non-na column indices for each username.\r\n",
    "        eval_indices = self.get_eval_indices(df)\r\n",
    "        # Join the matrices on the username column, keep all usernames that were already in the training matrix. Replace all values of the joined table with NaN as they have to be predicted later.\r\n",
    "        df_nan = df.copy()\r\n",
    "        df_nan.loc[:, df_nan.columns != \"username\"] = np.nan\r\n",
    "        self.final_rating_matrix = self.train_rating_matrix.copy() \r\n",
    "        self.final_rating_matrix = self.final_rating_matrix.merge(right=df_nan, how=\"left\", on=\"username\")\r\n",
    "        # Drop the username column as it is non-numeric and can't be converted to a tensor.\r\n",
    "        self.final_rating_matrix.drop(labels=[\"username\"], axis=1, inplace=True)\r\n",
    "        # The same for the joined matrix as the username column contains non-na values but will not be evaluated.\r\n",
    "        df.drop(labels=[\"username\"], axis=1, inplace=True)\r\n",
    "        # Set the datatypes of the rating matrix to float16 to save memory and speed up computation while keeping the nan-values (not possible for integer datatype). \r\n",
    "        self.final_rating_matrix = torch.from_numpy(self.final_rating_matrix.values).to(torch.float16).to(self.device)\r\n",
    "        \r\n",
    "    def get_eval_indices(self, df:pd.DataFrame, mode:str=\"Test\") -> dict:\r\n",
    "        \"\"\"\r\n",
    "        Get all indices that are not NaN of the provided dataframe. These indices are later used to evaluate recommender systems on.\r\n",
    "\r\n",
    "        Params:\r\n",
    "            df (pd.DataFrame): Dataframe whose non-null indices have to be found.\r\n",
    "        Returns:\r\n",
    "            dict: A dictionary containg a username as key associated with a numpy-array containing all the indices of the non-na columns for that username.\r\n",
    "        \"\"\"        \r\n",
    "        # Get all not-null indices from the dataframe\r\n",
    "        mask_idxs = np.argwhere(~pd.isna(df.values))\r\n",
    "        # Perform a group by on the username - row - index.\r\n",
    "        unique_username_rows = np.unique(mask_idxs[:,0], return_index=True)[1][1:]\r\n",
    "        mask_idxs_grouped = np.split(mask_idxs[:,1], unique_username_rows)\r\n",
    "        # Combine the row indices with all the non - na column - indices for this row\r\n",
    "        username_column_agg = np.array(list(zip(list(df[\"username\"]), mask_idxs_grouped)), dtype=object)\r\n",
    "        # Exclude the username column from the non - na values, which is the first one\r\n",
    "        username_column_agg = {a[0]: a[1][1:]-1 for a in username_column_agg}\r\n",
    "        return username_column_agg"
   ],
   "outputs": [],
   "metadata": {}
  },
  {
   "cell_type": "code",
   "execution_count": 51,
   "source": [
    "\r\n",
    "train = pd.read_csv(\"../../data/T1_T2/train.csv\")\r\n",
    "test = pd.read_csv(\"../../data/T1_T2/test.csv\")\r\n",
    "rmh = Rating_Matrix_Handler(train_rating_matrix=train, test_rating_matrix=test)\r\n",
    "rmh.merge_rating_matrices()\r\n",
    "rmh.final_rating_matrix"
   ],
   "outputs": [
    {
     "output_type": "execute_result",
     "data": {
      "text/plain": [
       "tensor([[1., nan, nan,  ..., nan, nan, nan],\n",
       "        [1., nan, nan,  ..., nan, nan, nan],\n",
       "        [0., nan, nan,  ..., nan, nan, nan],\n",
       "        ...,\n",
       "        [1., nan, nan,  ..., nan, nan, nan],\n",
       "        [1., nan, nan,  ..., nan, nan, nan],\n",
       "        [0., nan, nan,  ..., nan, nan, nan]], dtype=torch.float16)"
      ]
     },
     "metadata": {},
     "execution_count": 51
    }
   ],
   "metadata": {}
  }
 ],
 "metadata": {
  "orig_nbformat": 4,
  "language_info": {
   "name": "python",
   "version": "3.8.11",
   "mimetype": "text/x-python",
   "codemirror_mode": {
    "name": "ipython",
    "version": 3
   },
   "pygments_lexer": "ipython3",
   "nbconvert_exporter": "python",
   "file_extension": ".py"
  },
  "kernelspec": {
   "name": "python3",
   "display_name": "Python 3.8.11 64-bit ('ba_thesis': conda)"
  },
  "interpreter": {
   "hash": "9c4321509887871942225181aea45e229e5aed2157cb28edcc519edea6ae29dd"
  }
 },
 "nbformat": 4,
 "nbformat_minor": 2
}