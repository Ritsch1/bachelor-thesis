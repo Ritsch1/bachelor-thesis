{
 "cells": [
  {
   "cell_type": "code",
   "execution_count": null,
   "source": [
    "# imports\r\n",
    "import pandas as pd\r\n",
    "import numpy as np\r\n",
    "from IPython.core.debugger import set_trace\r\n",
    "import torch"
   ],
   "outputs": [],
   "metadata": {}
  },
  {
   "cell_type": "markdown",
   "source": [
    "# Export notebook as python script to the ../python-code - folder"
   ],
   "metadata": {}
  },
  {
   "cell_type": "code",
   "execution_count": 2,
   "source": [
    "!jupyter nbconvert --output-dir=\"../python-code\" --to python TLMF.ipynb --TemplateExporter.exclude_markdown=True --TemplateExporter.exclude_input_prompt=True"
   ],
   "outputs": [
    {
     "output_type": "stream",
     "name": "stderr",
     "text": [
      "[NbConvertApp] Converting notebook TLMF.ipynb to python\n",
      "[NbConvertApp] Writing 4811 bytes to ..\\python-code\\TLMF.py\n"
     ]
    }
   ],
   "metadata": {}
  },
  {
   "cell_type": "markdown",
   "source": [
    "# TLMF - Algorithm"
   ],
   "metadata": {}
  },
  {
   "cell_type": "code",
   "execution_count": 1,
   "source": [
    "class TLMF():\r\n",
    "    \"\"\"\r\n",
    "    A class that represents the Two-Level-Matrix-Factorization (TLMF).\r\n",
    "    \"\"\"\r\n",
    "    \r\n",
    "    def __init__(self, wtmf:WTMF, rmh:Rating_Matrix_Handler):\r\n",
    "        \"\"\"\r\n",
    "        Params:\r\n",
    "            wtmf (WTMF): A wtmf (Weighted Text Matrix Factorization) - object. This object represents the first level of the TLMF. It contains the argument similarity matrix which is used in TLMF.\r\n",
    "            rmh (Rating_Matrix_Handler): A Rating_Matrix_Handler object that contains the final rating matrix that consists of the training data - entires as well as the masked test data - entries and which\r\n",
    "            is used for optimizing the TLMF on. It also contains the indices of the original test-set in order to perform evaluation.\r\n",
    "        \"\"\"\r\n",
    "        self.wtmf = wtmf\r\n",
    "        self.rmh = rmh\r\n",
    "        # Initialize GPU for computation if available            \r\n",
    "        machine = \"cuda:0\" if torch.cuda.is_available() else \"cpu\"\r\n",
    "        self.device = torch.device(machine)\r\n",
    "\r\n",
    "    def train(self, d:int=20, training_iterations:int=50, random_seed:int=1, print_frequency:int=1, r:float=0.05, l:float=0.01, alpha:float=0.2, n:int=10) -> [float]:\r\n",
    "        \"\"\"\r\n",
    "        Use stochastic gradient descent to find the two optimal latent factor matrices U (Users), I (Items) \r\n",
    "        that minimizes the difference between the predicted values of the dot product of user-vectors and item-vectors compared to the known ratings in the user-item matrix.\r\n",
    "        \r\n",
    "        Params:\r\n",
    "            d (int, optional): The embedding dimension of the user and item vectors within the latent factor matrices. Defaults to 20.\r\n",
    "            training_iterations (int, optional): The number of training iterations over known user-item ratings. Defaults to 50.\r\n",
    "            random_seed (int, optional):  Random seed that is used to intialize the latent factor matrices. Defaults to 1.. Defaults to 1.\r\n",
    "            print_frequency (int, optional): The frequency in which the training error is printed w.r.t. to the iterations. Defaults to 1.\r\n",
    "            r (float, optional): The regularization factor that controls the overfitting of the model. Defaults to 0.05.\r\n",
    "            l (float, optional): The learning rate, a parameter that determines how heavily the vectors of the latent factor matrices are updated in every iteration. Defaults to 0.01.\r\n",
    "            alpha (float, optional): The parameter that controls the influence of the semantic relations of the items in the prediction. Defaults to 0.02.\r\n",
    "            n (int, optional): The n most similar items to item i that are considered that are influencing any prediction in which item i is involved.\r\n",
    "            \r\n",
    "        Returns:\r\n",
    "            [float]: A list containing the error values for every iteration.\r\n",
    "        \"\"\"\r\n",
    "        # Set random seed for reproducability\r\n",
    "        torch.manual_seed(random_seed)\r\n",
    "        # Randomly initialize the latent factor matrices U(ser) and I(tems)\r\n",
    "        self.U = torch.rand([self.rmh.final_rating_matrix.shape[0], d]).to(self.device)\r\n",
    "        self.I = torch.rand([self.rmh.final_rating_matrix.shape[1], d]).to(self.device)\r\n",
    "        \r\n",
    "        # Error - variable keep track of it for later visualization \r\n",
    "        error = []\r\n",
    "        error_cur = 0.0\r\n",
    "        frobenius_norm = torch.linalg.matrix_norm\r\n",
    "\r\n",
    "        # Get non-na indices of rating - matrix to train TLMF on\r\n",
    "        training_indices = ~torch.isnan(self.rmh.final_rating_matrix).nonzero().to(self.device)\r\n",
    "\r\n",
    "        for iteration in range(1, training_iterations+1):\r\n",
    "            for idx in training_indices:\r\n",
    "                # Get the index of the current user\r\n",
    "                user = idx[0]\r\n",
    "                # Get the index of the current argument within the argument similarity matrix\r\n",
    "                arg = idx[1]\r\n",
    "                # Get indices of the n items that are most similar to the current item in the argument similarity matrix\r\n",
    "                most_sim_indices = torch.topk(self.rmh.final_rating_matrix[arg], dim=0, sorted=False)[1]\r\n",
    "                # Calculate the sum of similarities over all n most-similar args\r\n",
    "                sim_sum = 0.0\r\n",
    "                for sim_idx in most_sim_indices:\r\n",
    "                    sim_sum += self.wtmf.similarity_matrix[arg][sim_idx] * self.I[sim_idx]\r\n",
    "                    \r\n",
    "                sim_sum = self.I[arg] - sim_sum\r\n",
    "                sim_sum = alpha/2 * (sim_sum.matmul(sim_sum.T))\r\n",
    "                \r\n",
    "                prediction = self.U[user].matmul(self.I.T[:,arg])\r\n",
    "                true_value = self.rmh.final_rating_matrix[user][arg]\r\n",
    "                difference = true_value - prediction\r\n",
    "                error_cur = (difference)**2 + (r/2 * (frobenius_norm(self.U) + frobenius_norm(self.I))) + sim_sum\r\n",
    "\r\n",
    "                # Save old value of the user - vector for updating the item - vector (TODO: Not sure if I should already use the updated user-vector for updating the item vector)\r\n",
    "                old_user_vector = self.U[user]\r\n",
    "\r\n",
    "                # Update the user-vector\r\n",
    "                self.U[user] += l * ((difference) * self.I[arg] - r * self.U[user])\r\n",
    "                # Update the item-vector\r\n",
    "                # Calculate the \r\n",
    "                self.I[arg] += l * ((difference) * self.U[user] - l * self.I[arg] - alpha * sim_sum + alpha * ) \r\n",
    "\r\n",
    "            error.append(error_cur)\r\n",
    "            error_cur = 0.0\r\n",
    "    \r\n",
    "    def evaluate(self) -> float:\r\n",
    "        pass"
   ],
   "outputs": [
    {
     "output_type": "error",
     "ename": "NameError",
     "evalue": "name 'WTMF' is not defined",
     "traceback": [
      "\u001b[1;31m---------------------------------------------------------------------------\u001b[0m",
      "\u001b[1;31mNameError\u001b[0m                                 Traceback (most recent call last)",
      "\u001b[1;32m~\\AppData\\Local\\Temp/ipykernel_21064/2512580264.py\u001b[0m in \u001b[0;36m<module>\u001b[1;34m\u001b[0m\n\u001b[1;32m----> 1\u001b[1;33m \u001b[1;32mclass\u001b[0m \u001b[0mTLMF\u001b[0m\u001b[1;33m(\u001b[0m\u001b[1;33m)\u001b[0m\u001b[1;33m:\u001b[0m\u001b[1;33m\u001b[0m\u001b[1;33m\u001b[0m\u001b[0m\n\u001b[0m\u001b[0;32m      2\u001b[0m     \"\"\"\n\u001b[0;32m      3\u001b[0m     \u001b[0mA\u001b[0m \u001b[1;32mclass\u001b[0m \u001b[0mthat\u001b[0m \u001b[0mrepresents\u001b[0m \u001b[0mthe\u001b[0m \u001b[0mTwo\u001b[0m\u001b[1;33m-\u001b[0m\u001b[0mLevel\u001b[0m\u001b[1;33m-\u001b[0m\u001b[0mMatrix\u001b[0m\u001b[1;33m-\u001b[0m\u001b[0mFactorization\u001b[0m \u001b[1;33m(\u001b[0m\u001b[0mTLMF\u001b[0m\u001b[1;33m)\u001b[0m\u001b[1;33m.\u001b[0m\u001b[1;33m\u001b[0m\u001b[1;33m\u001b[0m\u001b[0m\n\u001b[0;32m      4\u001b[0m     \"\"\"\n\u001b[0;32m      5\u001b[0m \u001b[1;33m\u001b[0m\u001b[0m\n",
      "\u001b[1;32m~\\AppData\\Local\\Temp/ipykernel_21064/2512580264.py\u001b[0m in \u001b[0;36mTLMF\u001b[1;34m()\u001b[0m\n\u001b[0;32m      4\u001b[0m     \"\"\"\n\u001b[0;32m      5\u001b[0m \u001b[1;33m\u001b[0m\u001b[0m\n\u001b[1;32m----> 6\u001b[1;33m     \u001b[1;32mdef\u001b[0m \u001b[0m__init__\u001b[0m\u001b[1;33m(\u001b[0m\u001b[0mself\u001b[0m\u001b[1;33m,\u001b[0m \u001b[0mwtmf\u001b[0m\u001b[1;33m:\u001b[0m\u001b[0mWTMF\u001b[0m\u001b[1;33m,\u001b[0m \u001b[0mrmh\u001b[0m\u001b[1;33m:\u001b[0m\u001b[0mRating_Matrix_Handler\u001b[0m\u001b[1;33m)\u001b[0m\u001b[1;33m:\u001b[0m\u001b[1;33m\u001b[0m\u001b[1;33m\u001b[0m\u001b[0m\n\u001b[0m\u001b[0;32m      7\u001b[0m         \"\"\"\n\u001b[0;32m      8\u001b[0m         \u001b[0mParams\u001b[0m\u001b[1;33m:\u001b[0m\u001b[1;33m\u001b[0m\u001b[1;33m\u001b[0m\u001b[0m\n",
      "\u001b[1;31mNameError\u001b[0m: name 'WTMF' is not defined"
     ]
    }
   ],
   "metadata": {}
  }
 ],
 "metadata": {
  "orig_nbformat": 4,
  "language_info": {
   "name": "python",
   "version": "3.8.11",
   "mimetype": "text/x-python",
   "codemirror_mode": {
    "name": "ipython",
    "version": 3
   },
   "pygments_lexer": "ipython3",
   "nbconvert_exporter": "python",
   "file_extension": ".py"
  },
  "kernelspec": {
   "name": "python3",
   "display_name": "Python 3.8.11 64-bit ('ba_thesis': conda)"
  },
  "interpreter": {
   "hash": "9c4321509887871942225181aea45e229e5aed2157cb28edcc519edea6ae29dd"
  }
 },
 "nbformat": 4,
 "nbformat_minor": 2
}