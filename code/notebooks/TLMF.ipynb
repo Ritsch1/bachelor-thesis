{
 "cells": [
  {
   "cell_type": "code",
   "execution_count": null,
   "source": [
    "# imports\r\n",
    "import pandas as pd\r\n",
    "import numpy as np\r\n",
    "from IPython.core.debugger import set_trace\r\n",
    "import torch"
   ],
   "outputs": [],
   "metadata": {}
  },
  {
   "cell_type": "markdown",
   "source": [
    "# Export notebook as python script to the ../python-code - folder"
   ],
   "metadata": {}
  },
  {
   "cell_type": "code",
   "execution_count": 1,
   "source": [
    "!jupyter nbconvert --output-dir=\"../python-code\" --to python TLMF.ipynb --TemplateExporter.exclude_markdown=True --TemplateExporter.exclude_input_prompt=True"
   ],
   "outputs": [
    {
     "output_type": "stream",
     "name": "stderr",
     "text": [
      "[NbConvertApp] Converting notebook TLMF.ipynb to python\n",
      "[NbConvertApp] Writing 1700 bytes to ..\\python-code\\TLMF.py\n"
     ]
    }
   ],
   "metadata": {}
  },
  {
   "cell_type": "markdown",
   "source": [
    "# TLMF - Algorithm"
   ],
   "metadata": {}
  },
  {
   "cell_type": "code",
   "execution_count": null,
   "source": [
    "class TLMF():\r\n",
    "    \"\"\"\r\n",
    "    A class that represents the Two-Level-Matrix-Factorization (TLMF).\r\n",
    "    \"\"\"\r\n",
    "    \r\n",
    "    def __init__(self, wtmf:WTMF, train_rating_matrix:torch.tensor, validation_rating_matrix:torch.tensor, test_rating_matrix:torch.tensor):\r\n",
    "        \"\"\"\r\n",
    "        Params:\r\n",
    "            wtmf (WTMF): A wtmf (Weighted Text Matrix Factorization) - object. This object represents the first level of the TLMF.\r\n",
    "            train_rating_matrix (torch.tensor): The training rating_matrix on which the TLMF algorithm is trained upon.\r\n",
    "            validation_rating_matrix (torch.tensor): The validation rating_matrix on which the TLMF algorithm is validated on.\r\n",
    "            test_rating_matrix (torch.tensor): The test rating_matrix on which the TLMF algorithm is tested upon.\r\n",
    "        \"\"\"\r\n",
    "        self.wtmf = wtmf\r\n",
    "        self.training_rating_matrix = training_rating_matrix\r\n",
    "        self.validation_rating_matrix = validation_rating_matrix\r\n",
    "        self.test_rating_matrix = test_rating_matrix\r\n",
    "        self.validation_mask_indices = None\r\n",
    "        self.test_mask_indices = None\r\n",
    "        # Initialize GPU for computation if available            \r\n",
    "        machine = \"cuda:0\" if torch.cuda.is_available() else \"cpu\"\r\n",
    "        self.device = torch.device(machine)\r\n",
    "        \r\n",
    "    def mask_rating_matrix(self, rating_matrix:torch.tensor, mask_indices:torch.tensor) -> torch.tensor:\r\n",
    "        pass"
   ],
   "outputs": [],
   "metadata": {}
  }
 ],
 "metadata": {
  "orig_nbformat": 4,
  "language_info": {
   "name": "python",
   "version": "3.8.11",
   "mimetype": "text/x-python",
   "codemirror_mode": {
    "name": "ipython",
    "version": 3
   },
   "pygments_lexer": "ipython3",
   "nbconvert_exporter": "python",
   "file_extension": ".py"
  },
  "kernelspec": {
   "name": "python3",
   "display_name": "Python 3.8.11 64-bit ('ba_thesis': conda)"
  },
  "interpreter": {
   "hash": "9c4321509887871942225181aea45e229e5aed2157cb28edcc519edea6ae29dd"
  }
 },
 "nbformat": 4,
 "nbformat_minor": 2
}