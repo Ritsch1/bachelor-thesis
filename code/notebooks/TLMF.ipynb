{
 "cells": [
  {
   "cell_type": "code",
   "execution_count": 7,
   "source": [
    "# imports\r\n",
    "import pandas as pd\r\n",
    "import numpy as np\r\n",
    "from IPython.core.debugger import set_trace\r\n",
    "import torch\r\n",
    "import matplotlib.pyplot as plt"
   ],
   "outputs": [],
   "metadata": {}
  },
  {
   "cell_type": "markdown",
   "source": [
    "# Export notebook as python script to the ../python-code - folder"
   ],
   "metadata": {}
  },
  {
   "cell_type": "code",
   "execution_count": 11,
   "source": [
    "!jupyter nbconvert --output-dir=\"../python-code\" --to python TLMF.ipynb --TemplateExporter.exclude_markdown=True --TemplateExporter.exclude_input_prompt=True"
   ],
   "outputs": [
    {
     "output_type": "stream",
     "name": "stderr",
     "text": [
      "[NbConvertApp] Converting notebook TLMF.ipynb to python\n",
      "[NbConvertApp] Writing 7752 bytes to ..\\python-code\\TLMF.py\n"
     ]
    }
   ],
   "metadata": {}
  },
  {
   "cell_type": "markdown",
   "source": [
    "# TLMF - Algorithm"
   ],
   "metadata": {}
  },
  {
   "cell_type": "code",
   "execution_count": 3,
   "source": [
    "class TLMF():\r\n",
    "    \"\"\"\r\n",
    "    A class that represents the Two-Level-Matrix-Factorization (TLMF).\r\n",
    "    \"\"\"\r\n",
    "    \r\n",
    "    def __init__(self, wtmf:WTMF, rmh:Rating_Matrix_Handler):\r\n",
    "        \"\"\"\r\n",
    "        Params:\r\n",
    "            wtmf (WTMF): A wtmf (Weighted Text Matrix Factorization) - object. This object represents the first level of the TLMF. It contains the argument similarity matrix which is used in TLMF.\r\n",
    "            rmh (Rating_Matrix_Handler): A Rating_Matrix_Handler object that contains the final rating matrix that consists of the training data - entires as well as the masked test data - entries and which\r\n",
    "            is used for optimizing the TLMF on. It also contains the indices of the original test-set in order to perform evaluation.\r\n",
    "        \"\"\"\r\n",
    "        self.wtmf = wtmf\r\n",
    "        self.rmh = rmh\r\n",
    "        # Initialize GPU for computation if available            \r\n",
    "        machine = \"cuda:0\" if torch.cuda.is_available() else \"cpu\"\r\n",
    "        self.device = torch.device(machine)\r\n",
    "\r\n",
    "    def train(self, d:int=20, training_iterations:int=50, random_seed:int=1, print_frequency:int=1, r:float=0.05, l:float=0.01, alpha:float=0.2, n:int=10) -> [float]:\r\n",
    "        \"\"\"\r\n",
    "        Use stochastic gradient descent to find the two optimal latent factor matrices U (Users), I (Items) \r\n",
    "        that minimizes the difference between the predicted values of the dot product of user-vectors and item-vectors compared to the known ratings in the user-item matrix.\r\n",
    "        \r\n",
    "        Params:\r\n",
    "            d (int, optional): The embedding dimension of the user and item vectors within the latent factor matrices. Defaults to 20.\r\n",
    "            training_iterations (int, optional): The number of training iterations over known user-item ratings. Defaults to 50.\r\n",
    "            random_seed (int, optional):  Random seed that is used to intialize the latent factor matrices. Defaults to 1.. Defaults to 1.\r\n",
    "            print_frequency (int, optional): The frequency in which the training error is printed w.r.t. to the iterations. Defaults to 1.\r\n",
    "            r (float, optional): The regularization factor that controls the overfitting of the model. Defaults to 0.05.\r\n",
    "            l (float, optional): The learning rate, a parameter that determines how heavily the vectors of the latent factor matrices are updated in every iteration. Defaults to 0.01.\r\n",
    "            alpha (float, optional): The parameter that controls the influence of the semantic relations of the items in the prediction. Defaults to 0.02.\r\n",
    "            n (int, optional): The n most similar items to item i that are considered for any prediction in which item i is involved.\r\n",
    "            \r\n",
    "        Returns:\r\n",
    "            [float]: A list containing the error values for every iteration.\r\n",
    "        \"\"\"\r\n",
    "        # Set random seed for reproducability\r\n",
    "        torch.manual_seed(random_seed)\r\n",
    "        # Randomly initialize the latent factor matrices U(ser) and I(tems)\r\n",
    "        self.U = torch.rand([self.rmh.final_rating_matrix.shape[0], d]).to(self.device)\r\n",
    "        self.I = torch.rand([self.rmh.final_rating_matrix.shape[1], d]).to(self.device)\r\n",
    "        \r\n",
    "        # Error - variable keep track of it for later visualization \r\n",
    "        error = []\r\n",
    "        error_cur = 0.0\r\n",
    "        frobenius_norm = torch.linalg.matrix_norm\r\n",
    "\r\n",
    "        # Get non-na indices of rating - matrix to train TLMF on\r\n",
    "        training_indices = ~torch.isnan(self.rmh.final_rating_matrix).nonzero().to(self.device)\r\n",
    "\r\n",
    "        for iteration in range(1, training_iterations+1):\r\n",
    "            for idx in training_indices:\r\n",
    "                # Get the index of the current user\r\n",
    "                user = idx[0]\r\n",
    "                # Get the index of the current argument within the argument similarity matrix\r\n",
    "                arg = idx[1]\r\n",
    "                # Get indices of the n items that are most similar to the current item in the argument similarity matrix\r\n",
    "                most_sim_indices = torch.topk(self.rmh.final_rating_matrix[arg], n, dim=0, sorted=False)[1]\r\n",
    "                # Calculate the sum of similarities over all n most-similar args\r\n",
    "                sim_sum_scaled = 0.0\r\n",
    "                for sim_idx in most_sim_indices:\r\n",
    "                    sim_sum_scaled += self.wtmf.similarity_matrix[arg][sim_idx] * self.I[sim_idx]\r\n",
    "                    \r\n",
    "                sim_sum = self.I[arg] - sim_sum\r\n",
    "                sim_sum = alpha/2 * (sim_sum.matmul(sim_sum.T))\r\n",
    "                     \r\n",
    "                prediction = self.U[user].matmul(self.I.T[:,arg])\r\n",
    "                true_value = self.rmh.final_rating_matrix[user][arg]\r\n",
    "                difference = true_value - prediction\r\n",
    "                error_cur = (difference)**2 + (r/2 * (frobenius_norm(self.U) + frobenius_norm(self.I))) + sim_sum_scaled\r\n",
    "\r\n",
    "                # Save old value of the user - vector for updating the item - vector (TODO: Not sure if I should already use the updated user-vector for updating the item vector)\r\n",
    "                old_user_vector = self.U[user]\r\n",
    "\r\n",
    "                # Update the user-vector\r\n",
    "                self.U[user] += l * ((difference) * self.I[arg] - r * self.U[user])\r\n",
    "                # Update the item-vector\r\n",
    "                # Calculate the similarity sum summand\r\n",
    "                arg_sim_influence_loop1, arg_sim_influence_loop2, arg_sim_influence_loop3 = 0.0, 0.0, 0.0\r\n",
    "                 \r\n",
    "                for sim_idx in most_sim_indices: \r\n",
    "                    arg_sim_influence_loop1 += self.wtmf.similarity_matrix[arg][sim_idx] * self.I[sim_idx]\r\n",
    "                    for sim_idx2 in most_sim_indices:\r\n",
    "                        arg_sim_influence_loop2 += self.wtmf.similarity_matrix[arg][sim_idx2]        \r\n",
    "                    # Get the n most similar items for every item in the neighborhood of the current item  \r\n",
    "                        most_sim_indices_of_neighborhood = torch.topk(self.rmh.final_rating_matrix[sim_idx2], n, dim=0, sorted=False)[1]\r\n",
    "                        for sim_idx3 in most_sim_indices_of_neighborhood:\r\n",
    "                            arg_sim_influence_loop3 += self.wtmf.similarity_matrix[arg]\r\n",
    "                    \r\n",
    "                self.I[arg] += l * ((difference) * self.U[user] - l * self.I[arg] - alpha * arg_sim_influence)\r\n",
    "\r\n",
    "\r\n",
    "            error.append(error_cur)\r\n",
    "            error_cur = 0.0\r\n",
    "            \r\n",
    "            # Print out error w.r.t print-frequency\r\n",
    "            if iteration % print_frequency == 0:\r\n",
    "                print(f\"Training - Error:{error[iteration]:.2f}\\tCurrent Iteration: {iteration}\\\\{training_iterations}\")\r\n",
    "\r\n",
    "            \r\n",
    "    \r\n",
    "    def evaluate(self) -> float:\r\n",
    "        pass\r\n",
    "    \r\n",
    "    def plot_training_error(self, error:[float], **kwargs) -> None:\r\n",
    "        \"\"\"\r\n",
    "        Plots the training error for every training iteration.\r\n",
    "        \r\n",
    "        Params:\r\n",
    "            error (list): A list of error - values that correspond to each training iteration of the WTMF - algorithm.    \r\n",
    "            **kwargs: Arbitrary many keyword arguments to customize the plot. E.g. color, linewidth or title.\r\n",
    "        \"\"\"        \r\n",
    "        plt.plot([i for i in range(1, len(error)+1)], error)\r\n",
    "        for k in kwargs.keys():\r\n",
    "            # Invoke the function k of the plt - module to customize the plot\r\n",
    "            getattr(plt, k) (kwargs[k])\r\n",
    "        \r\n",
    "        plt.show()"
   ],
   "outputs": [
    {
     "output_type": "error",
     "ename": "IndentationError",
     "evalue": "unexpected indent (Temp/ipykernel_2812/1626720366.py, line 87)",
     "traceback": [
      "\u001b[1;36m  File \u001b[1;32m\"C:\\Users\\Rico\\AppData\\Local\\Temp/ipykernel_2812/1626720366.py\"\u001b[1;36m, line \u001b[1;32m87\u001b[0m\n\u001b[1;33m    for sim_idx3 in most_sim_indices_of_neighborhood:\u001b[0m\n\u001b[1;37m    ^\u001b[0m\n\u001b[1;31mIndentationError\u001b[0m\u001b[1;31m:\u001b[0m unexpected indent\n"
     ]
    }
   ],
   "metadata": {}
  },
  {
   "cell_type": "code",
   "execution_count": null,
   "source": [
    "tlmf = TLMF(wtmf, rmh)\r\n",
    "train_error = tlmf.train(d=20, training_iterations=50, random_seed=1, print_frequency=1, r=0.05, l=0.01, alpha=0.2, n=10)\r\n",
    "tlmf.plot_training_error(train_error, title=\"TLMF Objective function error\", xlabel=\"Iterations\", ylabel=\"Training error\")\r\n",
    "tlmf.evaluate()"
   ],
   "outputs": [],
   "metadata": {}
  }
 ],
 "metadata": {
  "orig_nbformat": 4,
  "language_info": {
   "name": "python",
   "version": "3.8.11",
   "mimetype": "text/x-python",
   "codemirror_mode": {
    "name": "ipython",
    "version": 3
   },
   "pygments_lexer": "ipython3",
   "nbconvert_exporter": "python",
   "file_extension": ".py"
  },
  "kernelspec": {
   "name": "python3",
   "display_name": "Python 3.8.11 64-bit ('ba_thesis': conda)"
  },
  "interpreter": {
   "hash": "9c4321509887871942225181aea45e229e5aed2157cb28edcc519edea6ae29dd"
  }
 },
 "nbformat": 4,
 "nbformat_minor": 2
}