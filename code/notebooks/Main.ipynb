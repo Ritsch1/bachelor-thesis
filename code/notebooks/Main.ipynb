{
 "cells": [
  {
   "cell_type": "code",
   "execution_count": 21,
   "metadata": {},
   "outputs": [],
   "source": [
    "# imports\n",
    "import ipywidgets as widgets\n",
    "from ipywidgets.widgets import interact\n",
    "import subprocess\n",
    "import json"
   ]
  },
  {
   "cell_type": "code",
   "execution_count": 22,
   "metadata": {},
   "outputs": [
    {
     "data": {
      "application/vnd.jupyter.widget-view+json": {
       "model_id": "c2c0db5e522c4f6d89a7ac081ab3986b",
       "version_major": 2,
       "version_minor": 0
      },
      "text/plain": [
       "interactive(children=(Dropdown(description='dataset', options=(('T1_T2', 'T1_T2'), ('T2_T3', 'T2_T3')), value=…"
      ]
     },
     "metadata": {},
     "output_type": "display_data"
    }
   ],
   "source": [
    "@interact(dataset=[(\"T1_T2\", \"T1_T2\"), (\"T2_T3\", \"T2_T3\")])\n",
    "def set_prediction_dataset(dataset:str=\"T1_T2\") -> str:\n",
    "    \"\"\"\n",
    "    Setting the dataset to be trained and evaluated on with a dropdown.\n",
    "\n",
    "    Parmas:\n",
    "        dataset (str, optional): Dataset to be trained and evaluated on. Defaults to \"T1_T2\".\n",
    "\n",
    "    Returns:\n",
    "        str: Dataset to be trained and evaluated on.\n",
    "    \"\"\"\n",
    "    return dataset"
   ]
  },
  {
   "cell_type": "code",
   "execution_count": 23,
   "metadata": {},
   "outputs": [
    {
     "data": {
      "application/vnd.jupyter.widget-view+json": {
       "model_id": "a017d5dc0e124f62931a96ed3c451ab7",
       "version_major": 2,
       "version_minor": 0
      },
      "text/plain": [
       "interactive(children=(Dropdown(description='task', options=(('Conviction', 'Conviction'), ('Weight', 'Weight')…"
      ]
     },
     "metadata": {},
     "output_type": "display_data"
    }
   ],
   "source": [
    "@interact(task=[(\"Conviction\", \"Conviction\"), (\"Weight\", \"Weight\")])\n",
    "def set_task(task:str=\"Conviction\") -> str:\n",
    "    \"\"\"\n",
    "    Setting the task to be trained and evaluated on with a dropdown.\n",
    "\n",
    "    Parmas:\n",
    "        task (str, optional): task to be trained and evaluated on. Defaults to \"Conviction\".\n",
    "\n",
    "    Returns:\n",
    "        str: task to be trained and evaluated on.\n",
    "    \"\"\"\n",
    "    return task"
   ]
  },
  {
   "cell_type": "code",
   "execution_count": 24,
   "metadata": {},
   "outputs": [],
   "source": [
    "prediction_goal = set_prediction_dataset()\n",
    "task = set_task()"
   ]
  },
  {
   "cell_type": "markdown",
   "metadata": {},
   "source": [
    "# Export notebook as python script to the ../python-code - folder"
   ]
  },
  {
   "cell_type": "code",
   "execution_count": 26,
   "metadata": {},
   "outputs": [
    {
     "data": {
      "text/plain": [
       "CompletedProcess(args=\"jupyter nbconvert --output-dir='../python-code' --to python Main.ipynb --TemplateExporter.exclude_markdown=True --TemplateExporter.exclude_input_prompt=True\", returncode=0)"
      ]
     },
     "execution_count": 26,
     "metadata": {},
     "output_type": "execute_result"
    }
   ],
   "source": [
    "subprocess.run(\"jupyter nbconvert --output-dir='../python-code' --to python Main.ipynb --TemplateExporter.exclude_markdown=True --TemplateExporter.exclude_input_prompt=True\", shell=True)"
   ]
  },
  {
   "cell_type": "markdown",
   "metadata": {},
   "source": [
    "# Read in configuration file for setting best hyperparameter values\n"
   ]
  },
  {
   "cell_type": "code",
   "execution_count": 27,
   "metadata": {},
   "outputs": [],
   "source": [
    "with open(\"config.json\", \"r\") as c:\n",
    "    config = json.loads(c.read())"
   ]
  },
  {
   "cell_type": "markdown",
   "metadata": {},
   "source": [
    "# Prepare rating matrices for the different algorithms"
   ]
  },
  {
   "cell_type": "code",
   "execution_count": 28,
   "metadata": {},
   "outputs": [],
   "source": [
    "# Parameters for executing the Rating-Matrix-Handler notebook\n",
    "train_path = f\"../../data/{prediction_goal}/train.csv\"\n",
    "test_path  = f\"../../data/{prediction_goal}/test.csv\"\n",
    "validation_path = f\"../../data/{prediction_goal}/validation.csv\"\n",
    "%run Rating_Matrix_Handler.ipynb"
   ]
  },
  {
   "cell_type": "markdown",
   "metadata": {},
   "source": [
    "# Run the complete TLMF - algorithm\n",
    "\n",
    "#### 1. Run the WTMF - notebook to compute the argument similarity matrix for the TLMF-algorithm"
   ]
  },
  {
   "cell_type": "code",
   "execution_count": 29,
   "metadata": {},
   "outputs": [
    {
     "name": "stdout",
     "output_type": "stream",
     "text": [
      "Error:3984.67\tCurrent Iteration: 1\\30\n",
      "Error:1977.34\tCurrent Iteration: 2\\30\n",
      "Error:1908.54\tCurrent Iteration: 3\\30\n",
      "Error:1870.73\tCurrent Iteration: 4\\30\n",
      "Error:1842.45\tCurrent Iteration: 5\\30\n",
      "Error:1820.09\tCurrent Iteration: 6\\30\n",
      "Error:1801.73\tCurrent Iteration: 7\\30\n",
      "Error:1786.62\tCurrent Iteration: 8\\30\n",
      "Error:1773.90\tCurrent Iteration: 9\\30\n",
      "Error:1763.10\tCurrent Iteration: 10\\30\n",
      "Error:1754.02\tCurrent Iteration: 11\\30\n",
      "Error:1746.14\tCurrent Iteration: 12\\30\n",
      "Error:1739.45\tCurrent Iteration: 13\\30\n",
      "Error:1733.65\tCurrent Iteration: 14\\30\n",
      "Error:1728.67\tCurrent Iteration: 15\\30\n",
      "Error:1724.15\tCurrent Iteration: 16\\30\n",
      "Error:1720.45\tCurrent Iteration: 17\\30\n",
      "Error:1717.25\tCurrent Iteration: 18\\30\n",
      "Error:1714.38\tCurrent Iteration: 19\\30\n",
      "Error:1711.79\tCurrent Iteration: 20\\30\n",
      "Error:1709.47\tCurrent Iteration: 21\\30\n",
      "Error:1707.39\tCurrent Iteration: 22\\30\n",
      "Error:1706.04\tCurrent Iteration: 23\\30\n",
      "Error:1704.28\tCurrent Iteration: 24\\30\n",
      "Error:1703.27\tCurrent Iteration: 25\\30\n",
      "Error:1701.76\tCurrent Iteration: 26\\30\n",
      "Error:1700.86\tCurrent Iteration: 27\\30\n",
      "Error:1700.16\tCurrent Iteration: 28\\30\n",
      "Error:1699.06\tCurrent Iteration: 29\\30\n",
      "Error:1698.36\tCurrent Iteration: 30\\30\n"
     ]
    },
    {
     "data": {
      "image/png": "[encoded data removed]",
      "text/plain": [
       "<Figure size 432x288 with 1 Axes>"
      ]
     },
     "metadata": {
      "needs_background": "light"
     },
     "output_type": "display_data"
    }
   ],
   "source": [
    "wtmf_config = config[\"hyperparameters\"][\"WTMF\"][prediction_goal][task]\n",
    "%run WTMF.ipynb"
   ]
  },
  {
   "cell_type": "markdown",
   "metadata": {},
   "source": [
    "#### 2. Run the TLMF-notebook based on the calculated argument-similarity-matrix and the prepared argument-rating-matrix"
   ]
  },
  {
   "cell_type": "code",
   "execution_count": 30,
   "metadata": {},
   "outputs": [
    {
     "name": "stdout",
     "output_type": "stream",
     "text": [
      "Error:3984.67\tCurrent Iteration: 1\\30\n",
      "Error:1977.34\tCurrent Iteration: 2\\30\n",
      "Error:1908.54\tCurrent Iteration: 3\\30\n",
      "Error:1870.73\tCurrent Iteration: 4\\30\n"
     ]
    }
   ],
   "source": [
    " # params\n",
    "wtmf=wtmf\n",
    "rmh=rmh\n",
    "tlmf_config = config[\"hyperparameters\"][\"TLMF\"][prediction_goal][task]\n",
    "%run TLMF.ipynb"
   ]
  },
  {
   "cell_type": "markdown",
   "metadata": {},
   "source": [
    "# Run the TLMF algorithm powered by the BERT model"
   ]
  },
  {
   "cell_type": "code",
   "execution_count": null,
   "metadata": {},
   "outputs": [],
   "source": [
    "%run BERT.ipynb\n",
    "config_tlmf_bert = config[\"hyperparameters\"][\"TLMF_BERT\"][prediction_goal][task]\n",
    "%run TLMF.ipynb"
   ]
  },
  {
   "cell_type": "markdown",
   "metadata": {},
   "source": [
    "# Run the complete I - AutoRec - algorithm"
   ]
  },
  {
   "cell_type": "code",
   "execution_count": null,
   "metadata": {},
   "outputs": [],
   "source": [
    "i_autorec_config = config[\"hyperparameters\"][\"AutoRec\"][prediction_goal][task]\n",
    "%run AutoRec.ipynb"
   ]
  },
  {
   "cell_type": "markdown",
   "metadata": {},
   "source": [
    "# Run the complete Naive Bayes - algorithm"
   ]
  },
  {
   "cell_type": "code",
   "execution_count": null,
   "metadata": {},
   "outputs": [],
   "source": [
    "%run Naive_Bayes.ipynb"
   ]
  }
 ],
 "metadata": {
  "interpreter": {
   "hash": "9c4321509887871942225181aea45e229e5aed2157cb28edcc519edea6ae29dd"
  },
  "kernelspec": {
   "display_name": "Python 3.8.11 64-bit ('ba_thesis': conda)",
   "name": "python3"
  },
  "language_info": {
   "codemirror_mode": {
    "name": "ipython",
    "version": 3
   },
   "file_extension": ".py",
   "mimetype": "text/x-python",
   "name": "python",
   "nbconvert_exporter": "python",
   "pygments_lexer": "ipython3",
   "version": "3.8.11"
  }
 },
 "nbformat": 4,
 "nbformat_minor": 2
}
