{
 "cells": [
  {
   "cell_type": "code",
   "execution_count": 1,
   "source": [
    "# imports\r\n",
    "import papermill as pm\r\n",
    "import ipywidgets as widgets\r\n",
    "from ipywidgets.widgets import interact"
   ],
   "outputs": [],
   "metadata": {}
  },
  {
   "cell_type": "code",
   "execution_count": 2,
   "source": [
    "@interact(dataset=[(\"T1_T2\", \"T1_T2\"), (\"T2_T3\", \"T2_T3\")])\r\n",
    "def set_prediction_dataset(dataset:str=\"T1_T2\") -> str:\r\n",
    "    \"\"\"\r\n",
    "    Setting the dataset to be trained and evaluated on with a dropdown.\r\n",
    "\r\n",
    "    Parmas:\r\n",
    "        dataset (str, optional): Dataset to be trained and evaluated on. Defaults to \"T1_T2\".\r\n",
    "\r\n",
    "    Returns:\r\n",
    "        str: Dataset to be trained and evaluated on.\r\n",
    "    \"\"\"\r\n",
    "    return dataset"
   ],
   "outputs": [
    {
     "output_type": "display_data",
     "data": {
      "application/vnd.jupyter.widget-view+json": {
       "model_id": "927287825fcd4c04add209660c44156c",
       "version_major": 2,
       "version_minor": 0
      },
      "text/plain": [
       "interactive(children=(Dropdown(description='dataset', options=(('T1_T2', 'T1_T2'), ('T2_T3', 'T2_T3')), value=…"
      ]
     },
     "metadata": {}
    }
   ],
   "metadata": {}
  },
  {
   "cell_type": "code",
   "execution_count": 3,
   "source": [
    "prediction_goal = set_prediction_dataset()"
   ],
   "outputs": [],
   "metadata": {}
  },
  {
   "cell_type": "markdown",
   "source": [
    "# Export notebook as python script to the ../python-code - folder"
   ],
   "metadata": {}
  },
  {
   "cell_type": "code",
   "execution_count": 23,
   "source": [
    "!jupyter nbconvert --output-dir=\"../python-code\" --to python Main.ipynb --TemplateExporter.exclude_markdown=True --TemplateExporter.exclude_input_prompt=True"
   ],
   "outputs": [
    {
     "output_type": "stream",
     "name": "stderr",
     "text": [
      "[NbConvertApp] Converting notebook Main.ipynb to python\n",
      "[NbConvertApp] Writing 1503 bytes to ..\\python-code\\Main.py\n"
     ]
    }
   ],
   "metadata": {}
  },
  {
   "cell_type": "markdown",
   "source": [
    "# Run the complete TLMF - algorithm\n",
    "\n",
    "#### 1. Run the WTMF - notebook to compute the argument similarity matrix for the TLMF-algorithm"
   ],
   "metadata": {}
  },
  {
   "cell_type": "code",
   "execution_count": null,
   "source": [
    "# Parameters for executing the WTMF algorithm\r\n",
    "params = {\"k\":50, \"gamma\":0.05, \"weight\":0.05, \"training_iterations\":50, \"random_seed\":1, \"print_frequency\":1}\r\n",
    "# Execute a parametrized version of the WTMF notebook\r\n",
    "pm.execute_notebook(\"WTMF.ipynb\", \"WTMF.ipynb\", params)"
   ],
   "outputs": [],
   "metadata": {}
  },
  {
   "cell_type": "markdown",
   "source": [
    "#### 2. Run the Rating-Matrix-Handler notebook to prepare the rating-matrix for the TLMF-algorithm."
   ],
   "metadata": {}
  },
  {
   "cell_type": "code",
   "execution_count": null,
   "source": [
    "# Parameters for executing the Rating-Matrix-Handler notebook\r\n",
    "params = {\"train_path\": \"C:\\\\Users\\\\Rico\\\\Desktop\\\\Diverses\\\\bachelorarbeit\\\\bachelor-thesis\\\\data\\\\T1_T2\\\\train.csv\",\r\n",
    "          \"test_path\" : \"C:\\\\Users\\\\Rico\\\\Desktop\\\\Diverses\\\\bachelorarbeit\\\\bachelor-thesis\\\\data\\\\T1_T2\\\\test.csv\"}\r\n",
    "# Execute a parametrized version of the Rating-Matrix-Handler notebook\r\n",
    "pm.execute_notebook(\"Rating_Matrix_Handler.ipynb\", \"Rating_Matrix_Handler.ipynb\", params)"
   ],
   "outputs": [],
   "metadata": {}
  },
  {
   "cell_type": "markdown",
   "source": [
    "#### 3. Run the TLMF-notebook based on the calculated argument-similarity-matrix and the prepared argument-rating-matrix"
   ],
   "metadata": {}
  },
  {
   "cell_type": "code",
   "execution_count": null,
   "source": [
    "# Parameters for executing the Rating-Matrix-Handler notebook\r\n",
    "params = {\"d\":10, \"training_iterations\":50, \"random_seed\":1, \"print_frequency\":1, \"r\":0.05, \"l\":0.01, \"alpha\":0.2, \"n\":10}\r\n",
    "# Execute a parametrized version of the Rating-Matrix-Handler notebook\r\n",
    "pm.execute_notebook(\"TLMF.ipynb\", \"TLMF.ipynb\", params)"
   ],
   "outputs": [],
   "metadata": {}
  }
 ],
 "metadata": {
  "interpreter": {
   "hash": "9c4321509887871942225181aea45e229e5aed2157cb28edcc519edea6ae29dd"
  },
  "kernelspec": {
   "name": "python3",
   "display_name": "Python 3.8.11 64-bit ('ba_thesis': conda)"
  },
  "language_info": {
   "codemirror_mode": {
    "name": "ipython",
    "version": 3
   },
   "file_extension": ".py",
   "mimetype": "text/x-python",
   "name": "python",
   "nbconvert_exporter": "python",
   "pygments_lexer": "ipython3",
   "version": "3.8.11"
  }
 },
 "nbformat": 4,
 "nbformat_minor": 2
}