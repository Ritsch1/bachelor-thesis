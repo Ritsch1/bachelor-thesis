{
 "cells": [
  {
   "cell_type": "code",
   "execution_count": 1,
   "source": [
    "# imports\r\n",
    "import ipywidgets as widgets\r\n",
    "from ipywidgets.widgets import interact\r\n",
    "import subprocess"
   ],
   "outputs": [],
   "metadata": {}
  },
  {
   "cell_type": "code",
   "execution_count": 2,
   "source": [
    "@interact(dataset=[(\"T1_T2\", \"T1_T2\"), (\"T2_T3\", \"T2_T3\")])\r\n",
    "def set_prediction_dataset(dataset:str=\"T1_T2\") -> str:\r\n",
    "    \"\"\"\r\n",
    "    Setting the dataset to be trained and evaluated on with a dropdown.\r\n",
    "\r\n",
    "    Parmas:\r\n",
    "        dataset (str, optional): Dataset to be trained and evaluated on. Defaults to \"T1_T2\".\r\n",
    "\r\n",
    "    Returns:\r\n",
    "        str: Dataset to be trained and evaluated on.\r\n",
    "    \"\"\"\r\n",
    "    return dataset"
   ],
   "outputs": [
    {
     "output_type": "display_data",
     "data": {
      "application/vnd.jupyter.widget-view+json": {
       "version_major": 2,
       "version_minor": 0,
       "model_id": "1de3aeb592e54f248eab7080a8807804"
      },
      "text/plain": [
       "interactive(children=(Dropdown(description='dataset', options=(('T1_T2', 'T1_T2'), ('T2_T3', 'T2_T3')), value=…"
      ]
     },
     "metadata": {}
    }
   ],
   "metadata": {}
  },
  {
   "cell_type": "code",
   "execution_count": 11,
   "source": [
    "prediction_goal = set_prediction_dataset()"
   ],
   "outputs": [],
   "metadata": {}
  },
  {
   "cell_type": "markdown",
   "source": [
    "# Export notebook as python script to the ../python-code - folder"
   ],
   "metadata": {}
  },
  {
   "cell_type": "code",
   "execution_count": 4,
   "source": [
    "subprocess.run(\"jupyter nbconvert --output-dir='../python-code' --to python Main.ipynb --TemplateExporter.exclude_markdown=True --TemplateExporter.exclude_input_prompt=True\")"
   ],
   "outputs": [
    {
     "output_type": "execute_result",
     "data": {
      "text/plain": [
       "CompletedProcess(args=\"jupyter nbconvert --output-dir='../python-code' --to python Main.ipynb --TemplateExporter.exclude_markdown=True --TemplateExporter.exclude_input_prompt=True\", returncode=0)"
      ]
     },
     "metadata": {},
     "execution_count": 4
    }
   ],
   "metadata": {}
  },
  {
   "cell_type": "markdown",
   "source": [
    "# Run the complete TLMF - algorithm\n",
    "\n",
    "#### 1. Run the WTMF - notebook to compute the argument similarity matrix for the TLMF-algorithm"
   ],
   "metadata": {}
  },
  {
   "cell_type": "code",
   "execution_count": 20,
   "source": [
    "k=1\r\n",
    "training_iterations=2\r\n",
    "weight=0.05\r\n",
    "gamma=0.05\r\n",
    "random_seed=1\r\n",
    "print_frequency=1\r\n",
    "%run WTMF.ipynb"
   ],
   "outputs": [
    {
     "output_type": "stream",
     "name": "stdout",
     "text": [
      "Error:6201.77\tCurrent Iteration: 1\\2\n",
      "Error:5486.28\tCurrent Iteration: 2\\2\n"
     ]
    },
    {
     "output_type": "display_data",
     "data": {
      "image/png": "[encoded data removed]",
      "text/plain": [
       "<Figure size 432x288 with 1 Axes>"
      ]
     },
     "metadata": {
      "needs_background": "light"
     }
    }
   ],
   "metadata": {}
  },
  {
   "cell_type": "markdown",
   "source": [
    "#### 2. Run the Rating-Matrix-Handler notebook to prepare the rating-matrix for the TLMF-algorithm."
   ],
   "metadata": {}
  },
  {
   "cell_type": "code",
   "execution_count": 15,
   "source": [
    "# Parameters for executing the Rating-Matrix-Handler notebook\r\n",
    "train_path = f\"C:\\\\Users\\\\Rico\\\\Desktop\\\\Diverses\\\\bachelorarbeit\\\\bachelor-thesis\\\\data\\\\{prediction_goal}\\\\train.csv\",\r\n",
    "test_path  = f\"C:\\\\Users\\\\Rico\\\\Desktop\\\\Diverses\\\\bachelorarbeit\\\\bachelor-thesis\\\\data\\\\{prediction_goal}\\\\test.csv\"\r\n",
    "%run Rating_Matrix_Handler.ipynb"
   ],
   "outputs": [
    {
     "output_type": "stream",
     "name": "stderr",
     "text": [
      "Executing: 100%|██████████| 7/7 [00:07<00:00,  1.09s/cell]\n",
      "C:\\Users\\Rico\\miniconda3\\envs\\ba_thesis\\lib\\site-packages\\pandas\\core\\frame.py:4901: SettingWithCopyWarning: \n",
      "A value is trying to be set on a copy of a slice from a DataFrame\n",
      "\n",
      "See the caveats in the documentation: https://pandas.pydata.org/pandas-docs/stable/user_guide/indexing.html#returning-a-view-versus-a-copy\n",
      "  return super().drop(\n"
     ]
    }
   ],
   "metadata": {}
  },
  {
   "cell_type": "code",
   "execution_count": null,
   "source": [
    "%run Rating_Matrix_Handler.ipynb"
   ],
   "outputs": [],
   "metadata": {}
  },
  {
   "cell_type": "markdown",
   "source": [
    "#### 3. Run the TLMF-notebook based on the calculated argument-similarity-matrix and the prepared argument-rating-matrix"
   ],
   "metadata": {}
  },
  {
   "cell_type": "code",
   "execution_count": null,
   "source": [
    "# Parameters for executing the Rating-Matrix-Handler notebook\r\n",
    "wtmf=wtmf\r\n",
    "rmh=rmh\r\n",
    "d=10 \r\n",
    "training_iterations=50 \r\n",
    "random_seed=1 \r\n",
    "print_frequency=1\r\n",
    "r=0.05 \r\n",
    "l=0.01 \r\n",
    "alpha=0.2\r\n",
    "n=10\r\n",
    "# Execute a parametrized version of the Rating-Matrix-Handler notebook\r\n",
    "%run TLMF.ipynb"
   ],
   "outputs": [],
   "metadata": {}
  }
 ],
 "metadata": {
  "interpreter": {
   "hash": "9c4321509887871942225181aea45e229e5aed2157cb28edcc519edea6ae29dd"
  },
  "kernelspec": {
   "name": "python3",
   "display_name": "Python 3.8.11 64-bit ('ba_thesis': conda)"
  },
  "language_info": {
   "codemirror_mode": {
    "name": "ipython",
    "version": 3
   },
   "file_extension": ".py",
   "mimetype": "text/x-python",
   "name": "python",
   "nbconvert_exporter": "python",
   "pygments_lexer": "ipython3",
   "version": "3.8.11"
  }
 },
 "nbformat": 4,
 "nbformat_minor": 2
}