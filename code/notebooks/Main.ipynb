{
 "cells": [
  {
   "cell_type": "code",
   "execution_count": null,
   "source": [
    "# imports\r\n",
    "import papermill as pm"
   ],
   "outputs": [],
   "metadata": {}
  },
  {
   "cell_type": "markdown",
   "source": [
    "# Export notebook as python script to the ../python-code - folder"
   ],
   "metadata": {}
  },
  {
   "cell_type": "code",
   "execution_count": null,
   "source": [
    "!jupyter nbconvert --output-dir=\"../python-code\" --to python Main.ipynb --TemplateExporter.exclude_markdown=True --TemplateExporter.exclude_input_prompt=True"
   ],
   "outputs": [],
   "metadata": {}
  },
  {
   "cell_type": "markdown",
   "source": [
    "# Run the complete TLMF - algorithm\r\n",
    "\r\n",
    "#### 1. Run the WTMF - notebook to compute the argument similarity matrix for the TLMF-algorithm"
   ],
   "metadata": {}
  },
  {
   "cell_type": "code",
   "execution_count": null,
   "source": [
    "# Parameters for executing the WTMF algorithm\r\n",
    "params = {\"k\":50, \"gamma\":0.05, \"weight\":0.05, \"training_iterations\":50, \"random_seed\":1, \"print_frequency\":1}\r\n",
    "# Execute a parametrized version of the WTMF notebook\r\n",
    "pm.execute_notebook(\"WTMF.ipynb\", \"WTMF.ipynb\", params)"
   ],
   "outputs": [],
   "metadata": {}
  },
  {
   "cell_type": "markdown",
   "source": [
    "#### 2. Run the Rating-Matrix-Handler notebook to prepare the rating-matrix for the TLMF-algorithm."
   ],
   "metadata": {}
  },
  {
   "cell_type": "code",
   "execution_count": null,
   "source": [
    "# Parameters for executing the Rating-Matrix-Handler notebook\r\n",
    "params = {\"train_path\": \"C:\\\\Users\\\\Rico\\\\Desktop\\\\Diverses\\\\bachelorarbeit\\\\bachelor-thesis\\\\data\\\\T1_T2\\\\train.csv\",\r\n",
    "          \"test_path\" : \"C:\\\\Users\\\\Rico\\\\Desktop\\\\Diverses\\\\bachelorarbeit\\\\bachelor-thesis\\\\data\\\\T1_T2\\\\test.csv\"}\r\n",
    "# Execute a parametrized version of the Rating-Matrix-Handler notebook\r\n",
    "pm.execute_notebook(\"Rating_Matrix_Handler.ipynb\", \"Rating_Matrix_Handler.ipynb\", params)"
   ],
   "outputs": [],
   "metadata": {}
  },
  {
   "cell_type": "markdown",
   "source": [
    "#### 3. Run the TLMF-notebook based on the calculated argument-similarity-matrix and the prepared argument-rating-matrix"
   ],
   "metadata": {}
  },
  {
   "cell_type": "code",
   "execution_count": null,
   "source": [],
   "outputs": [],
   "metadata": {}
  }
 ],
 "metadata": {
  "orig_nbformat": 4,
  "language_info": {
   "name": "python",
   "version": "3.8.11"
  },
  "kernelspec": {
   "name": "python3",
   "display_name": "Python 3.8.11 64-bit ('ba_thesis': conda)"
  },
  "interpreter": {
   "hash": "9c4321509887871942225181aea45e229e5aed2157cb28edcc519edea6ae29dd"
  }
 },
 "nbformat": 4,
 "nbformat_minor": 2
}