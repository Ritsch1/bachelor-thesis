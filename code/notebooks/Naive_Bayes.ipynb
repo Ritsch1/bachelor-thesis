{
 "cells": [
  {
   "cell_type": "code",
   "execution_count": 1,
   "metadata": {},
   "outputs": [],
   "source": [
    "# imports\n",
    "import pandas as pd\n",
    "import numpy as np\n",
    "from IPython.core.debugger import set_trace\n",
    "import matplotlib.pyplot as plt\n",
    "import subprocess"
   ]
  },
  {
   "cell_type": "markdown",
   "metadata": {},
   "source": [
    "# Export notebook as python script to the ../python-code - folder"
   ]
  },
  {
   "cell_type": "code",
   "execution_count": null,
   "metadata": {},
   "outputs": [],
   "source": [
    "subprocess.run(\"jupyter nbcbonvert --output-dir='../python-code' --to python Naive_Bayes.ipynb --TemplateExporter.exclude_markdown=True --TemplateExporter.exclude_input_prompt=True\", shell=True)"
   ]
  },
  {
   "cell_type": "code",
   "execution_count": null,
   "metadata": {},
   "outputs": [],
   "source": [
    "class Naive_Bayes_CF():\n",
    "    \"\"\"\n",
    "    Class representing a Naive - Bayes classifier implementation for the collaborative filterting setting of recommender systems.\n",
    "    \"\"\"\n",
    "    def __init__(self, rmh, is_task_conviction:bool=True):\n",
    "        super().__init__()\n",
    "        self.rmh_ = rmh\n",
    "        if is_task_conviction:\n",
    "            self.possibles_classes = set([0,1])\n",
    "        else:\n",
    "            self.possibles_classes = set([i for i in range(7)])\n",
    "    \n",
    "    def build_lookups(self) -> None:\n",
    "        \"\"\"\n",
    "        Map users and items to numerical values for further indexing.\n",
    "        \"\"\"\n",
    "        self.userid_lookup_ = {username: i for i, username in enumerate(self.rmh_.final_rating_matrix_w_usernames[\"username\"])}\n",
    "        self.itemid_lookup_ = {item: i-1 for i, item in enumerate(list(self.rmh_.final_rating_matrix_w_usernames.columns))}\n",
    "        # Reverse the two calculated mappings for bidirectional lookup\n",
    "        self.username_lookup = {user_id: username for username, user_id in self.userid_lookup_.items()}\n",
    "        self.itemname_lookup = {item_id: itemname for itemname, item_id in self.itemid_lookup_.items()}\n",
    "    \n",
    "    def compute_prior_prob(self) -> None:\n",
    "        \"\"\"\n",
    "        Compute the prior probability for every item/rating combination.\n",
    "        \"\"\"\n",
    "        # Use rating matrix without username column as it is not relevant for the prior probability computation\n",
    "        temp_rating_matrix = self.rmh_.final_rating_matrix_w_usernames.drop(\"username\", axis=1).values\n",
    "        items_without_username = set([self.itemid_lookup_[item] for item in self.itemid_lookup_.keys() if item != \"username\"])\n",
    "        # Build dictionary to hold the prior probabilities for all item/class combinations\n",
    "        self.prior_prob_for_item = {item_id: {} for item_id in items_without_username}\n",
    "        for item_id in items_without_username:\n",
    "            for c in self.possibles_classes:\n",
    "                # Calculate the number of users that rated the item with class c\n",
    "                class_count = len(temp_rating_matrix[temp_rating_matrix[:,item_id] == c])\n",
    "                # Calculate all the users that gave a rating for the item\n",
    "                rated_count = np.sum(~np.isnan(temp_rating_matrix[:,item_id]))\n",
    "                self.prior_prob_for_item[item_id][c] = class_count / rated_count\n",
    "    "
   ]
  }
 ],
 "metadata": {
  "interpreter": {
   "hash": "9c4321509887871942225181aea45e229e5aed2157cb28edcc519edea6ae29dd"
  },
  "kernelspec": {
   "display_name": "Python 3.8.11 64-bit ('ba_thesis': conda)",
   "name": "python3"
  },
  "language_info": {
   "codemirror_mode": {
    "name": "ipython",
    "version": 3
   },
   "file_extension": ".py",
   "mimetype": "text/x-python",
   "name": "python",
   "nbconvert_exporter": "python",
   "pygments_lexer": "ipython3",
   "version": "3.8.11"
  },
  "orig_nbformat": 4
 },
 "nbformat": 4,
 "nbformat_minor": 2
}
